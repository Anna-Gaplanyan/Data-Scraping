{
 "cells": [
  {
   "cell_type": "markdown",
   "metadata": {},
   "source": [
    "# **Question 1.**"
   ]
  },
  {
   "cell_type": "code",
   "execution_count": 1,
   "metadata": {},
   "outputs": [],
   "source": [
    "from selenium import webdriver\n",
    "from selenium.webdriver.chrome.options import Options\n",
    "from selenium.webdriver.common.keys import Keys\n",
    "import time\n",
    "import re\n",
    "import pandas as pd\n",
    "from selenium.webdriver.common.action_chains import ActionChains\n"
   ]
  },
  {
   "cell_type": "code",
   "execution_count": 8,
   "metadata": {},
   "outputs": [],
   "source": [
    "options = Options()\n",
    "options.headlesse = True\n",
    "options.add_argument(\"start-normal\")\n",
    "driver = webdriver.Chrome(options=options, executable_path=r\"C:\\Users\\Downloads\\chromedriver.exe\")\n",
    "driver.get('https://www.google.com/')\n"
   ]
  },
  {
   "cell_type": "code",
   "execution_count": 9,
   "metadata": {},
   "outputs": [],
   "source": [
    "typing = driver.find_element_by_class_name('gLFyf')\n",
    "TEXT= \"the best movies 2020 imdb\"\n",
    "typing.send_keys(TEXT)\n",
    "typing.submit()"
   ]
  },
  {
   "cell_type": "markdown",
   "metadata": {},
   "source": [
    "# **Question 2.**"
   ]
  },
  {
   "cell_type": "code",
   "execution_count": 10,
   "metadata": {},
   "outputs": [],
   "source": [
    "link = driver.find_element_by_partial_link_text(\"Feature\")\n",
    "link.click()\n",
    "time.sleep(3)\n",
    "ActionChains(driver).move_to_element(driver.find_element_by_xpath('/html/body/div[4]/div/div[2]/div[3]/div[1]/div/div[3]/div/div[31]')).perform()"
   ]
  },
  {
   "cell_type": "markdown",
   "metadata": {},
   "source": [
    "# **Question 3.**"
   ]
  },
  {
   "cell_type": "code",
   "execution_count": 5,
   "metadata": {},
   "outputs": [
    {
     "data": {
      "text/plain": [
       "True"
      ]
     },
     "execution_count": 5,
     "metadata": {},
     "output_type": "execute_result"
    }
   ],
   "source": [
    "driver.save_screenshot('Web_page_1.png')"
   ]
  },
  {
   "cell_type": "code",
   "execution_count": 6,
   "metadata": {},
   "outputs": [
    {
     "data": {
      "text/plain": [
       "True"
      ]
     },
     "execution_count": 6,
     "metadata": {},
     "output_type": "execute_result"
    }
   ],
   "source": [
    "driver.find_element_by_xpath('/html/body/div[4]/div/div[2]/div[3]/div[1]/div/div[3]/div/div[31]/div[2]/a/img').screenshot('Skylines_1.png')"
   ]
  },
  {
   "cell_type": "markdown",
   "metadata": {},
   "source": [
    "# **Question 4.**"
   ]
  },
  {
   "cell_type": "code",
   "execution_count": 11,
   "metadata": {},
   "outputs": [
    {
     "data": {
      "text/html": [
       "<div>\n",
       "<style scoped>\n",
       "    .dataframe tbody tr th:only-of-type {\n",
       "        vertical-align: middle;\n",
       "    }\n",
       "\n",
       "    .dataframe tbody tr th {\n",
       "        vertical-align: top;\n",
       "    }\n",
       "\n",
       "    .dataframe thead th {\n",
       "        text-align: right;\n",
       "    }\n",
       "</style>\n",
       "<table border=\"1\" class=\"dataframe\">\n",
       "  <thead>\n",
       "    <tr style=\"text-align: right;\">\n",
       "      <th></th>\n",
       "      <th>Link</th>\n",
       "      <th>Title</th>\n",
       "      <th>Rating</th>\n",
       "      <th>Votes</th>\n",
       "      <th>Description</th>\n",
       "      <th>Director</th>\n",
       "    </tr>\n",
       "  </thead>\n",
       "  <tbody>\n",
       "    <tr>\n",
       "      <th>0</th>\n",
       "      <td></td>\n",
       "      <td></td>\n",
       "      <td></td>\n",
       "      <td></td>\n",
       "      <td></td>\n",
       "      <td></td>\n",
       "    </tr>\n",
       "    <tr>\n",
       "      <th>1</th>\n",
       "      <td>https://www.imdb.com/title/tt8332922/?ref_=adv...</td>\n",
       "      <td>A Quiet Place Part II</td>\n",
       "      <td>7.4</td>\n",
       "      <td>89,974</td>\n",
       "      <td>Following the events at home, the Abbott famil...</td>\n",
       "      <td>John Krasinski</td>\n",
       "    </tr>\n",
       "    <tr>\n",
       "      <th>2</th>\n",
       "      <td>https://www.imdb.com/title/tt9340860/?ref_=adv...</td>\n",
       "      <td>Let Him Go</td>\n",
       "      <td>6.7</td>\n",
       "      <td>16,924</td>\n",
       "      <td>A retired sheriff and his wife, grieving over ...</td>\n",
       "      <td>Thomas Bezucha</td>\n",
       "    </tr>\n",
       "    <tr>\n",
       "      <th>3</th>\n",
       "      <td>https://www.imdb.com/title/tt5439812/?ref_=adv...</td>\n",
       "      <td>Zola</td>\n",
       "      <td>6.9</td>\n",
       "      <td>1,953</td>\n",
       "      <td>A stripper named Zola embarks on a wild road t...</td>\n",
       "      <td>Janicza Bravo</td>\n",
       "    </tr>\n",
       "    <tr>\n",
       "      <th>4</th>\n",
       "      <td>https://www.imdb.com/title/tt6723592/?ref_=adv...</td>\n",
       "      <td>Tenet</td>\n",
       "      <td>7.4</td>\n",
       "      <td>383,318</td>\n",
       "      <td>Armed with only one word, Tenet, and fighting ...</td>\n",
       "      <td>Christopher Nolan</td>\n",
       "    </tr>\n",
       "    <tr>\n",
       "      <th>...</th>\n",
       "      <td>...</td>\n",
       "      <td>...</td>\n",
       "      <td>...</td>\n",
       "      <td>...</td>\n",
       "      <td>...</td>\n",
       "      <td>...</td>\n",
       "    </tr>\n",
       "    <tr>\n",
       "      <th>4997</th>\n",
       "      <td>https://www.imdb.com/title/tt13879834/?ref_=ad...</td>\n",
       "      <td>Me and My Bernedoodle</td>\n",
       "      <td>7.3</td>\n",
       "      <td>6</td>\n",
       "      <td>Add a Plot</td>\n",
       "      <td>Jordan Wilson</td>\n",
       "    </tr>\n",
       "    <tr>\n",
       "      <th>4998</th>\n",
       "      <td>https://www.imdb.com/title/tt15023900/?ref_=ad...</td>\n",
       "      <td>P1H: The Beginning of a New World</td>\n",
       "      <td>6.4</td>\n",
       "      <td>5</td>\n",
       "      <td>The story of boys who are scattered in the pas...</td>\n",
       "      <td>Hong-Seung Yoon</td>\n",
       "    </tr>\n",
       "    <tr>\n",
       "      <th>4999</th>\n",
       "      <td>https://www.imdb.com/title/tt15017986/?ref_=ad...</td>\n",
       "      <td>Tak-khal</td>\n",
       "      <td>3.6</td>\n",
       "      <td>5</td>\n",
       "      <td>The story of a man left at a crossroads who tr...</td>\n",
       "      <td>Majid Mafi</td>\n",
       "    </tr>\n",
       "    <tr>\n",
       "      <th>5000</th>\n",
       "      <td>https://www.imdb.com/title/tt15048024/?ref_=ad...</td>\n",
       "      <td>Land Shark</td>\n",
       "      <td>9.2</td>\n",
       "      <td>5</td>\n",
       "      <td>Add a Plot</td>\n",
       "      <td>Cheng Si-Yu</td>\n",
       "    </tr>\n",
       "    <tr>\n",
       "      <th>5001</th>\n",
       "      <td>https://www.imdb.com/title/tt15048024/?ref_=ad...</td>\n",
       "      <td>Land Shark</td>\n",
       "      <td>9.2</td>\n",
       "      <td>5</td>\n",
       "      <td>Add a Plot</td>\n",
       "      <td>Cheng Si-Yu</td>\n",
       "    </tr>\n",
       "  </tbody>\n",
       "</table>\n",
       "<p>5002 rows × 6 columns</p>\n",
       "</div>"
      ],
      "text/plain": [
       "                                                   Link  \\\n",
       "0                                                         \n",
       "1     https://www.imdb.com/title/tt8332922/?ref_=adv...   \n",
       "2     https://www.imdb.com/title/tt9340860/?ref_=adv...   \n",
       "3     https://www.imdb.com/title/tt5439812/?ref_=adv...   \n",
       "4     https://www.imdb.com/title/tt6723592/?ref_=adv...   \n",
       "...                                                 ...   \n",
       "4997  https://www.imdb.com/title/tt13879834/?ref_=ad...   \n",
       "4998  https://www.imdb.com/title/tt15023900/?ref_=ad...   \n",
       "4999  https://www.imdb.com/title/tt15017986/?ref_=ad...   \n",
       "5000  https://www.imdb.com/title/tt15048024/?ref_=ad...   \n",
       "5001  https://www.imdb.com/title/tt15048024/?ref_=ad...   \n",
       "\n",
       "                                  Title Rating    Votes  \\\n",
       "0                                                         \n",
       "1                 A Quiet Place Part II    7.4   89,974   \n",
       "2                            Let Him Go    6.7   16,924   \n",
       "3                                  Zola    6.9    1,953   \n",
       "4                                 Tenet    7.4  383,318   \n",
       "...                                 ...    ...      ...   \n",
       "4997              Me and My Bernedoodle    7.3        6   \n",
       "4998  P1H: The Beginning of a New World    6.4        5   \n",
       "4999                           Tak-khal    3.6        5   \n",
       "5000                         Land Shark    9.2        5   \n",
       "5001                         Land Shark    9.2        5   \n",
       "\n",
       "                                            Description           Director  \n",
       "0                                                                           \n",
       "1     Following the events at home, the Abbott famil...     John Krasinski  \n",
       "2     A retired sheriff and his wife, grieving over ...     Thomas Bezucha  \n",
       "3     A stripper named Zola embarks on a wild road t...      Janicza Bravo  \n",
       "4     Armed with only one word, Tenet, and fighting ...  Christopher Nolan  \n",
       "...                                                 ...                ...  \n",
       "4997                                         Add a Plot      Jordan Wilson  \n",
       "4998  The story of boys who are scattered in the pas...    Hong-Seung Yoon  \n",
       "4999  The story of a man left at a crossroads who tr...         Majid Mafi  \n",
       "5000                                         Add a Plot        Cheng Si-Yu  \n",
       "5001                                         Add a Plot        Cheng Si-Yu  \n",
       "\n",
       "[5002 rows x 6 columns]"
      ]
     },
     "execution_count": 11,
     "metadata": {},
     "output_type": "execute_result"
    }
   ],
   "source": [
    "SLEEP = 3\n",
    "\n",
    "page = driver.page_source # get the HTML beginning of the HTML\n",
    "data_film = pd.DataFrame({'Link':[\"\"], 'Title':[\"\"], 'Rating':[\"\"], 'Votes':[\"\"], 'Description':[\"\"], 'Director':[\"\"]})\n",
    "while True:\n",
    "    some_element = driver.find_element_by_tag_name(\"html\")\n",
    "    some_element.send_keys(Keys.END)\n",
    "    time.sleep(SLEEP)\n",
    "    for i in range(1,51): \n",
    "        try:\n",
    "            link_film = driver.find_element_by_xpath('/html/body/div[4]/div/div[2]/div[3]/div[1]/div/div[3]/div/div['+ str(i) + ']/div[3]/h3/a').get_attribute('href')\n",
    "            title = driver.find_element_by_xpath('/html/body/div[4]/div/div[2]/div[3]/div[1]/div/div[3]/div/div['+ str(i) + ']/div[3]/h3/a').text\n",
    "            rating = driver.find_element_by_xpath('/html/body/div[4]/div/div[2]/div[3]/div[1]/div/div[3]/div/div['+ str(i) + ']/div[3]/div/div[1]').text\n",
    "            votes = driver.find_element_by_xpath('/html/body/div[4]/div/div[2]/div[3]/div[1]/div/div[3]/div/div['+ str(i) + ']/div[3]/p[4]/span[2]').text\n",
    "            description = driver.find_element_by_xpath('/html/body/div[4]/div/div[2]/div[3]/div[1]/div/div[3]/div/div['+ str(i) + ']/div[3]/p[2]').text\n",
    "            director = driver.find_element_by_xpath('/html/body/div[4]/div/div[2]/div[3]/div[1]/div/div[3]/div/div['+ str(i) + ']/div[3]/p[3]/a[1]').text\n",
    "            data_film = data_film.append({'Link':link_film, 'Title':title, 'Rating':rating, \n",
    "                            'Votes':votes, 'Description':description, 'Director':director}, ignore_index=True)\n",
    "        except:\n",
    "            pass\n",
    "    page_new = driver.page_source\n",
    "    try:\n",
    "        next_button = driver.find_element_by_partial_link_text(\"Next\")\n",
    "        next_button.click()\n",
    "        time.sleep(3)\n",
    "    except:\n",
    "        pass\n",
    "    if page == page_new:\n",
    "        break\n",
    "    page = page_new\n",
    "data_film"
   ]
  },
  {
   "cell_type": "code",
   "execution_count": 12,
   "metadata": {},
   "outputs": [
    {
     "data": {
      "text/plain": [
       "False"
      ]
     },
     "execution_count": 12,
     "metadata": {},
     "output_type": "execute_result"
    }
   ],
   "source": [
    "data_film.isnull().values.any()"
   ]
  },
  {
   "cell_type": "code",
   "execution_count": 13,
   "metadata": {},
   "outputs": [],
   "source": [
    "from datetime import date\n",
    "today = date.today()\n",
    "today = today.strftime(\"%b-%d-%Y\")\n",
    "\n",
    "\n",
    "data_film.to_csv('IMDb' + today + '.csv', index = False)"
   ]
  },
  {
   "cell_type": "code",
   "execution_count": null,
   "metadata": {},
   "outputs": [],
   "source": []
  }
 ],
 "metadata": {
  "kernelspec": {
   "display_name": "Python 3",
   "language": "python",
   "name": "python3"
  },
  "language_info": {
   "codemirror_mode": {
    "name": "ipython",
    "version": 3
   },
   "file_extension": ".py",
   "mimetype": "text/x-python",
   "name": "python",
   "nbconvert_exporter": "python",
   "pygments_lexer": "ipython3",
   "version": "3.8.5"
  }
 },
 "nbformat": 4,
 "nbformat_minor": 4
}
