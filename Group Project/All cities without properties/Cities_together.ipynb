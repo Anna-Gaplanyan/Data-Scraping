{
 "cells": [
  {
   "cell_type": "code",
   "execution_count": 1,
   "id": "6448bc29",
   "metadata": {},
   "outputs": [],
   "source": [
    "from selenium import webdriver\n",
    "from selenium.webdriver.chrome.options import Options\n",
    "from selenium.webdriver.common.keys import Keys\n",
    "import time\n",
    "import re\n",
    "import pandas as pd\n",
    "from selenium.webdriver.common.action_chains import ActionChains\n",
    "from bs4 import BeautifulSoup\n",
    "from selenium.webdriver.support.ui import WebDriverWait\n",
    "from selenium.webdriver.common.by import By\n",
    "from selenium.webdriver.support import expected_conditions as EC\n",
    "import math\n",
    "import numpy as np\n",
    "import re\n",
    "pd.options.mode.chained_assignment = None \n",
    "import warnings\n",
    "warnings.filterwarnings(\"ignore\")\n",
    "import regex"
   ]
  },
  {
   "cell_type": "code",
   "execution_count": 2,
   "id": "2dfe8421",
   "metadata": {},
   "outputs": [],
   "source": [
    "hotel_full_Abovyan = pd.read_csv('cleaned_hotel_full_Abovyan.csv')\n"
   ]
  },
  {
   "cell_type": "code",
   "execution_count": 3,
   "id": "98dc131f",
   "metadata": {},
   "outputs": [],
   "source": [
    "hotel_full_Alaverdi = pd.read_csv('cleaned_hotel_full_Alaverdi.csv')\n"
   ]
  },
  {
   "cell_type": "code",
   "execution_count": 4,
   "id": "312d93f6",
   "metadata": {},
   "outputs": [],
   "source": [
    "hotel_full_Ararat = pd.read_csv('cleaned_hotel_full_Ararat.csv')\n"
   ]
  },
  {
   "cell_type": "code",
   "execution_count": 5,
   "id": "cc723442",
   "metadata": {},
   "outputs": [],
   "source": [
    "hotel_full_Armavir = pd.read_csv('cleaned_hotel_full_Armavir.csv')\n"
   ]
  },
  {
   "cell_type": "code",
   "execution_count": 6,
   "id": "c7b2f9d7",
   "metadata": {},
   "outputs": [],
   "source": [
    "hotel_full_Artashat = pd.read_csv('cleaned_hotel_full_Artashat.csv')\n"
   ]
  },
  {
   "cell_type": "code",
   "execution_count": 7,
   "id": "503ad1c0",
   "metadata": {},
   "outputs": [],
   "source": [
    "hotel_full_Artik = pd.read_csv('cleaned_hotel_full_Artik.csv')\n"
   ]
  },
  {
   "cell_type": "code",
   "execution_count": 8,
   "id": "a7666364",
   "metadata": {},
   "outputs": [],
   "source": [
    "hotel_full_Ashtarak = pd.read_csv('cleaned_hotel_full_Ashtarak.csv')\n"
   ]
  },
  {
   "cell_type": "code",
   "execution_count": 9,
   "id": "07961bc5",
   "metadata": {},
   "outputs": [],
   "source": [
    "hotel_full_Byureghavan = pd.read_csv('cleaned_hotel_full_Byureghavan.csv')\n"
   ]
  },
  {
   "cell_type": "code",
   "execution_count": 10,
   "id": "ec1d2238",
   "metadata": {},
   "outputs": [],
   "source": [
    "hotel_full_Charentsavan = pd.read_csv('cleaned_hotel_full_Charentsavan.csv')\n"
   ]
  },
  {
   "cell_type": "code",
   "execution_count": 11,
   "id": "058f0468",
   "metadata": {},
   "outputs": [],
   "source": [
    "hotel_full_Dilijan = pd.read_csv('cleaned_hotel_full_Dilijan.csv')\n"
   ]
  },
  {
   "cell_type": "code",
   "execution_count": 12,
   "id": "4a0e2a49",
   "metadata": {},
   "outputs": [],
   "source": [
    "hotel_full_Gavar = pd.read_csv('cleaned_hotel_full_Gavar.csv')\n"
   ]
  },
  {
   "cell_type": "code",
   "execution_count": 13,
   "id": "b8c7b12b",
   "metadata": {},
   "outputs": [],
   "source": [
    "hotel_full_Goris = pd.read_csv('cleaned_hotel_full_Goris.csv')\n"
   ]
  },
  {
   "cell_type": "code",
   "execution_count": 14,
   "id": "d273effc",
   "metadata": {},
   "outputs": [],
   "source": [
    "hotel_full_Gyumri = pd.read_csv('cleaned_hotel_full_Gyumri.csv')\n"
   ]
  },
  {
   "cell_type": "code",
   "execution_count": 15,
   "id": "e124d78d",
   "metadata": {},
   "outputs": [],
   "source": [
    "hotel_full_Hrazdan = pd.read_csv('cleaned_hotel_full_Hrazdan.csv')\n"
   ]
  },
  {
   "cell_type": "code",
   "execution_count": 16,
   "id": "17f15ebc",
   "metadata": {},
   "outputs": [],
   "source": [
    "hotel_full_Ijevan = pd.read_csv('cleaned_hotel_full_Ijevan.csv')\n"
   ]
  },
  {
   "cell_type": "code",
   "execution_count": 17,
   "id": "64afec58",
   "metadata": {},
   "outputs": [],
   "source": [
    "hotel_full_Kajaran = pd.read_csv('cleaned_hotel_full_Kajaran.csv')\n"
   ]
  },
  {
   "cell_type": "code",
   "execution_count": 18,
   "id": "ba0a2503",
   "metadata": {},
   "outputs": [],
   "source": [
    "hotel_full_Kapan = pd.read_csv('cleaned_hotel_full_Kapan.csv')\n"
   ]
  },
  {
   "cell_type": "code",
   "execution_count": 19,
   "id": "307f48f9",
   "metadata": {},
   "outputs": [],
   "source": [
    "hotel_full_Martuni = pd.read_csv('cleaned_hotel_full_Martuni.csv')\n"
   ]
  },
  {
   "cell_type": "code",
   "execution_count": 20,
   "id": "9e9da7a5",
   "metadata": {},
   "outputs": [],
   "source": [
    "hotel_full_Masis = pd.read_csv('cleaned_hotel_full_Masis.csv')\n"
   ]
  },
  {
   "cell_type": "code",
   "execution_count": 21,
   "id": "bfdbaf7e",
   "metadata": {},
   "outputs": [],
   "source": [
    "hotel_full_Metsamor = pd.read_csv('cleaned_hotel_full_Metsamor.csv')\n"
   ]
  },
  {
   "cell_type": "code",
   "execution_count": 22,
   "id": "590d8465",
   "metadata": {},
   "outputs": [],
   "source": [
    "hotel_full_Nor_Hachn = pd.read_csv('cleaned_hotel_full_Nor_Hachn.csv')\n"
   ]
  },
  {
   "cell_type": "code",
   "execution_count": 23,
   "id": "f8bd18cd",
   "metadata": {},
   "outputs": [],
   "source": [
    "hotel_full_Sevan = pd.read_csv('cleaned_hotel_full_Sevan.csv')\n"
   ]
  },
  {
   "cell_type": "code",
   "execution_count": 24,
   "id": "3378753a",
   "metadata": {},
   "outputs": [],
   "source": [
    "hotel_full_Sisian = pd.read_csv('cleaned_hotel_full_Sisian.csv')\n"
   ]
  },
  {
   "cell_type": "code",
   "execution_count": 25,
   "id": "a6ad3eee",
   "metadata": {},
   "outputs": [],
   "source": [
    "hotel_full_Spitak = pd.read_csv('cleaned_hotel_full_Spitak.csv')\n"
   ]
  },
  {
   "cell_type": "code",
   "execution_count": 26,
   "id": "d6e486ec",
   "metadata": {},
   "outputs": [],
   "source": [
    "hotel_full_Stepanavan = pd.read_csv('cleaned_hotel_full_Stepanavan.csv')\n"
   ]
  },
  {
   "cell_type": "code",
   "execution_count": 27,
   "id": "287dc159",
   "metadata": {},
   "outputs": [],
   "source": [
    "hotel_full_Talin = pd.read_csv('cleaned_hotel_full_Talin.csv')\n"
   ]
  },
  {
   "cell_type": "code",
   "execution_count": 28,
   "id": "5f5499b2",
   "metadata": {},
   "outputs": [],
   "source": [
    "hotel_full_Vagharshapat = pd.read_csv('cleaned_hotel_full_Vagharshapat.csv')\n"
   ]
  },
  {
   "cell_type": "code",
   "execution_count": 29,
   "id": "e49b67af",
   "metadata": {},
   "outputs": [],
   "source": [
    "hotel_full_Vardenis = pd.read_csv('cleaned_hotel_full_Vardenis.csv')\n"
   ]
  },
  {
   "cell_type": "code",
   "execution_count": 30,
   "id": "f2318e09",
   "metadata": {},
   "outputs": [],
   "source": [
    "hotel_full_Vedi = pd.read_csv('cleaned_hotel_full_Vedi.csv')\n"
   ]
  },
  {
   "cell_type": "code",
   "execution_count": 31,
   "id": "450385f9",
   "metadata": {},
   "outputs": [],
   "source": [
    "hotel_full_Yeghvard = pd.read_csv('cleaned_hotel_full_Yeghvard.csv')\n"
   ]
  },
  {
   "cell_type": "code",
   "execution_count": 32,
   "id": "964e4720",
   "metadata": {},
   "outputs": [],
   "source": [
    "hotel_full_Yerevan = pd.read_csv('cleaned_hotel_full_Yerevan.csv')\n"
   ]
  },
  {
   "cell_type": "code",
   "execution_count": 33,
   "id": "0f84f12f",
   "metadata": {},
   "outputs": [],
   "source": [
    "hotel_full_Vanadzor = pd.read_csv('cleaned_hotel_full_Vanadzor.csv')\n"
   ]
  },
  {
   "cell_type": "code",
   "execution_count": 34,
   "id": "6aa48b35",
   "metadata": {},
   "outputs": [],
   "source": [
    "hotel_full_Berd = pd.read_csv('cleaned_hotel_full_Berd.csv')\n"
   ]
  },
  {
   "cell_type": "code",
   "execution_count": 35,
   "id": "ac7ad423",
   "metadata": {},
   "outputs": [],
   "source": [
    "hotel_full_Yeghegnadzor = pd.read_csv('cleaned_hotel_full_Yeghegnadzor.csv')\n"
   ]
  },
  {
   "cell_type": "code",
   "execution_count": 36,
   "id": "4aa9c19f",
   "metadata": {},
   "outputs": [],
   "source": [
    "hotel_full_Tashir = pd.read_csv('cleaned_hotel_full_Tashir.csv')\n"
   ]
  },
  {
   "cell_type": "code",
   "execution_count": 37,
   "id": "52920ab8",
   "metadata": {},
   "outputs": [],
   "source": [
    "hotel_full_Aparan = pd.read_csv('cleaned_hotel_full_Aparan.csv')\n"
   ]
  },
  {
   "cell_type": "code",
   "execution_count": 38,
   "id": "fed76c70",
   "metadata": {},
   "outputs": [],
   "source": [
    "hotel_full_Vayk = pd.read_csv('cleaned_hotel_full_Vayk.csv')\n"
   ]
  },
  {
   "cell_type": "code",
   "execution_count": 39,
   "id": "352421d5",
   "metadata": {},
   "outputs": [],
   "source": [
    "hotel_full_Chambarak = pd.read_csv('cleaned_hotel_full_Chambarak.csv')\n"
   ]
  },
  {
   "cell_type": "code",
   "execution_count": 40,
   "id": "b551fa50",
   "metadata": {},
   "outputs": [],
   "source": [
    "hotel_full_Maralik = pd.read_csv('cleaned_hotel_full_Maralik.csv')\n"
   ]
  },
  {
   "cell_type": "code",
   "execution_count": 41,
   "id": "dd3d7c6e",
   "metadata": {},
   "outputs": [],
   "source": [
    "hotel_full_Noyemberyan = pd.read_csv('cleaned_hotel_full_Noyemberyan.csv')\n"
   ]
  },
  {
   "cell_type": "code",
   "execution_count": 42,
   "id": "c80b6272",
   "metadata": {},
   "outputs": [],
   "source": [
    "hotel_full_Jermuk = pd.read_csv('cleaned_hotel_full_Jermuk.csv')\n"
   ]
  },
  {
   "cell_type": "code",
   "execution_count": 43,
   "id": "571d2625",
   "metadata": {},
   "outputs": [],
   "source": [
    "hotel_full_Ayrum = pd.read_csv('cleaned_hotel_full_Ayrum.csv')\n"
   ]
  },
  {
   "cell_type": "code",
   "execution_count": 44,
   "id": "ca7a3037",
   "metadata": {},
   "outputs": [],
   "source": [
    "hotel_full_Akhtala = pd.read_csv('cleaned_hotel_full_Akhtala.csv')\n"
   ]
  },
  {
   "cell_type": "code",
   "execution_count": 45,
   "id": "3508c213",
   "metadata": {},
   "outputs": [],
   "source": [
    "hotel_full_Tumanyan = pd.read_csv('cleaned_hotel_full_Tumanyan.csv')\n"
   ]
  },
  {
   "cell_type": "code",
   "execution_count": 46,
   "id": "6b133ba5",
   "metadata": {},
   "outputs": [],
   "source": [
    "hotel_full_Tsaxkadzor = pd.read_csv('cleaned_hotel_full_Tsaxkadzor.csv')\n"
   ]
  },
  {
   "cell_type": "code",
   "execution_count": null,
   "id": "a9c1aa51",
   "metadata": {},
   "outputs": [],
   "source": []
  },
  {
   "cell_type": "code",
   "execution_count": 47,
   "id": "274f92ad",
   "metadata": {},
   "outputs": [],
   "source": [
    "full_data = pd.concat([hotel_full_Abovyan, hotel_full_Alaverdi, hotel_full_Ararat, hotel_full_Armavir,\n",
    "                      hotel_full_Artashat, hotel_full_Artik, hotel_full_Ashtarak, hotel_full_Byureghavan,\n",
    "                      hotel_full_Charentsavan, hotel_full_Dilijan, hotel_full_Gavar, hotel_full_Goris,\n",
    "                      hotel_full_Gyumri, hotel_full_Hrazdan, hotel_full_Ijevan, hotel_full_Kajaran,\n",
    "                      hotel_full_Kapan, hotel_full_Martuni, hotel_full_Masis, hotel_full_Metsamor, hotel_full_Nor_Hachn,\n",
    "                     hotel_full_Sevan, hotel_full_Sisian, hotel_full_Spitak, hotel_full_Stepanavan,\n",
    "                      hotel_full_Talin, hotel_full_Vagharshapat, hotel_full_Vardenis, hotel_full_Vedi,\n",
    "                      hotel_full_Yeghvard, hotel_full_Yerevan, hotel_full_Vanadzor, hotel_full_Berd,\n",
    "                      hotel_full_Yeghegnadzor, hotel_full_Tashir, hotel_full_Aparan, hotel_full_Vayk,\n",
    "                      hotel_full_Chambarak, hotel_full_Maralik, hotel_full_Noyemberyan,\n",
    "                      hotel_full_Jermuk, hotel_full_Ayrum, hotel_full_Akhtala, hotel_full_Tumanyan,\n",
    "                      hotel_full_Tsaxkadzor], axis = 0)"
   ]
  },
  {
   "cell_type": "code",
   "execution_count": 48,
   "id": "d15ab6ea",
   "metadata": {},
   "outputs": [],
   "source": [
    "full_data.to_excel(\"All_cities.xlsx\", index=False)"
   ]
  },
  {
   "cell_type": "code",
   "execution_count": 49,
   "id": "b927bdd1",
   "metadata": {},
   "outputs": [],
   "source": [
    "full_data.to_csv(\"All_cities.csv\", index=False)"
   ]
  },
  {
   "cell_type": "code",
   "execution_count": null,
   "id": "b7e60bf6",
   "metadata": {},
   "outputs": [],
   "source": []
  }
 ],
 "metadata": {
  "kernelspec": {
   "display_name": "Python 3",
   "language": "python",
   "name": "python3"
  },
  "language_info": {
   "codemirror_mode": {
    "name": "ipython",
    "version": 3
   },
   "file_extension": ".py",
   "mimetype": "text/x-python",
   "name": "python",
   "nbconvert_exporter": "python",
   "pygments_lexer": "ipython3",
   "version": "3.8.8"
  }
 },
 "nbformat": 4,
 "nbformat_minor": 5
}
