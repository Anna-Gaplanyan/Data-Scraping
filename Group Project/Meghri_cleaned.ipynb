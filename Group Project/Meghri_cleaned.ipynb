{
 "cells": [
  {
   "cell_type": "code",
   "execution_count": 1,
   "metadata": {},
   "outputs": [],
   "source": [
    "from selenium import webdriver\n",
    "from selenium.webdriver.chrome.options import Options\n",
    "from selenium.webdriver.common.keys import Keys\n",
    "import time\n",
    "import re\n",
    "import pandas as pd\n",
    "from selenium.webdriver.common.action_chains import ActionChains\n",
    "from bs4 import BeautifulSoup\n",
    "from selenium.webdriver.support.ui import WebDriverWait\n",
    "from selenium.webdriver.common.by import By\n",
    "from selenium.webdriver.support import expected_conditions as EC\n",
    "import math\n",
    "import numpy as np\n",
    "import regex\n",
    "pd.options.mode.chained_assignment = None \n",
    "import warnings\n",
    "warnings.filterwarnings(\"ignore\")"
   ]
  },
  {
   "cell_type": "markdown",
   "metadata": {},
   "source": [
    "# **Reading data**"
   ]
  },
  {
   "cell_type": "code",
   "execution_count": 2,
   "metadata": {},
   "outputs": [
    {
     "data": {
      "text/html": [
       "<div>\n",
       "<style scoped>\n",
       "    .dataframe tbody tr th:only-of-type {\n",
       "        vertical-align: middle;\n",
       "    }\n",
       "\n",
       "    .dataframe tbody tr th {\n",
       "        vertical-align: top;\n",
       "    }\n",
       "\n",
       "    .dataframe thead th {\n",
       "        text-align: right;\n",
       "    }\n",
       "</style>\n",
       "<table border=\"1\" class=\"dataframe\">\n",
       "  <thead>\n",
       "    <tr style=\"text-align: right;\">\n",
       "      <th></th>\n",
       "      <th>city</th>\n",
       "      <th>country</th>\n",
       "      <th>name</th>\n",
       "      <th>host_since</th>\n",
       "      <th>host_response_rate</th>\n",
       "      <th>host_identity_verified</th>\n",
       "      <th>review</th>\n",
       "      <th>superhost</th>\n",
       "      <th>property_type</th>\n",
       "      <th>accomodates</th>\n",
       "      <th>...</th>\n",
       "      <th>number_bedroom</th>\n",
       "      <th>number_beds</th>\n",
       "      <th>rating</th>\n",
       "      <th>price</th>\n",
       "      <th>cleanliness</th>\n",
       "      <th>accuracy</th>\n",
       "      <th>communication</th>\n",
       "      <th>location</th>\n",
       "      <th>check_in</th>\n",
       "      <th>value</th>\n",
       "    </tr>\n",
       "  </thead>\n",
       "  <tbody>\n",
       "    <tr>\n",
       "      <th>0</th>\n",
       "      <td>NaN</td>\n",
       "      <td>NaN</td>\n",
       "      <td>NaN</td>\n",
       "      <td>NaN</td>\n",
       "      <td>NaN</td>\n",
       "      <td>NaN</td>\n",
       "      <td>NaN</td>\n",
       "      <td>NaN</td>\n",
       "      <td>NaN</td>\n",
       "      <td>NaN</td>\n",
       "      <td>...</td>\n",
       "      <td>NaN</td>\n",
       "      <td>NaN</td>\n",
       "      <td>NaN</td>\n",
       "      <td>NaN</td>\n",
       "      <td>NaN</td>\n",
       "      <td>NaN</td>\n",
       "      <td>NaN</td>\n",
       "      <td>NaN</td>\n",
       "      <td>NaN</td>\n",
       "      <td>NaN</td>\n",
       "    </tr>\n",
       "    <tr>\n",
       "      <th>1</th>\n",
       "      <td>Meghri, Syunik, Armenia</td>\n",
       "      <td>Meghri, Syunik, Armenia</td>\n",
       "      <td>For 3 Person</td>\n",
       "      <td>Joined in April 2016</td>\n",
       "      <td>Response rate: 100%\\nResponse time: within an ...</td>\n",
       "      <td>['4 Reviews']</td>\n",
       "      <td>['4 Reviews']</td>\n",
       "      <td>4 Reviews</td>\n",
       "      <td>Private room in rental unit hosted by Armen</td>\n",
       "      <td>3 guests</td>\n",
       "      <td>...</td>\n",
       "      <td>3 guests</td>\n",
       "      <td>3 guests</td>\n",
       "      <td>NaN</td>\n",
       "      <td>36.0</td>\n",
       "      <td>旭\\nJuly 2019\\n很好的地方</td>\n",
       "      <td>旭\\nJuly 2019\\n很好的地方</td>\n",
       "      <td>旭\\nJuly 2019\\n很好的地方</td>\n",
       "      <td>旭\\nJuly 2019\\n很好的地方</td>\n",
       "      <td>旭\\nJuly 2019\\n很好的地方</td>\n",
       "      <td>旭\\nJuly 2019\\n很好的地方</td>\n",
       "    </tr>\n",
       "    <tr>\n",
       "      <th>2</th>\n",
       "      <td>Tsav, Syunik Province, Armenia</td>\n",
       "      <td>Tsav, Syunik Province, Armenia</td>\n",
       "      <td>Xustup,Eco. Food,Not Expensive,Wildlife, Hoostup</td>\n",
       "      <td>Joined in September 2019</td>\n",
       "      <td>NaN</td>\n",
       "      <td>['']</td>\n",
       "      <td>['']</td>\n",
       "      <td>NaN</td>\n",
       "      <td>Private room in bed and breakfast hosted by Harut</td>\n",
       "      <td>10 guests</td>\n",
       "      <td>...</td>\n",
       "      <td>10 guests</td>\n",
       "      <td>10 guests</td>\n",
       "      <td>NaN</td>\n",
       "      <td>16.0</td>\n",
       "      <td>During your stay\\nIf you like to dream about t...</td>\n",
       "      <td>During your stay\\nIf you like to dream about t...</td>\n",
       "      <td>During your stay\\nIf you like to dream about t...</td>\n",
       "      <td>During your stay\\nIf you like to dream about t...</td>\n",
       "      <td>During your stay\\nIf you like to dream about t...</td>\n",
       "      <td>During your stay\\nIf you like to dream about t...</td>\n",
       "    </tr>\n",
       "    <tr>\n",
       "      <th>3</th>\n",
       "      <td>Ordubad, Nakhchivan Autonomous Republic, Azerb...</td>\n",
       "      <td>Ordubad, Nakhchivan Autonomous Republic, Azerb...</td>\n",
       "      <td>Ordubad (1870)</td>\n",
       "      <td>Joined in September 2012</td>\n",
       "      <td>Languages: Русский, Türkçe</td>\n",
       "      <td>['5 Reviews']</td>\n",
       "      <td>['5 Reviews']</td>\n",
       "      <td>5 Reviews</td>\n",
       "      <td>Private room in residential home hosted by Anar</td>\n",
       "      <td>6 guests</td>\n",
       "      <td>...</td>\n",
       "      <td>6 guests</td>\n",
       "      <td>6 guests</td>\n",
       "      <td>NaN</td>\n",
       "      <td>30.0</td>\n",
       "      <td>Sultan\\nDecember 2019\\nThe host:\\n\\nAnar does ...</td>\n",
       "      <td>Sultan\\nDecember 2019\\nThe host:\\n\\nAnar does ...</td>\n",
       "      <td>Sultan\\nDecember 2019\\nThe host:\\n\\nAnar does ...</td>\n",
       "      <td>Sultan\\nDecember 2019\\nThe host:\\n\\nAnar does ...</td>\n",
       "      <td>Sultan\\nDecember 2019\\nThe host:\\n\\nAnar does ...</td>\n",
       "      <td>Sultan\\nDecember 2019\\nThe host:\\n\\nAnar does ...</td>\n",
       "    </tr>\n",
       "    <tr>\n",
       "      <th>4</th>\n",
       "      <td>Tsav, Syunik Province, Armenia</td>\n",
       "      <td>Tsav, Syunik Province, Armenia</td>\n",
       "      <td>Hustup Xustup</td>\n",
       "      <td>Joined in September 2019</td>\n",
       "      <td>NaN</td>\n",
       "      <td>['']</td>\n",
       "      <td>['']</td>\n",
       "      <td>NaN</td>\n",
       "      <td>Private room in bed and breakfast hosted by Harut</td>\n",
       "      <td>10 guests</td>\n",
       "      <td>...</td>\n",
       "      <td>10 guests</td>\n",
       "      <td>10 guests</td>\n",
       "      <td>NaN</td>\n",
       "      <td>16.0</td>\n",
       "      <td>During your stay\\nlet them ask what they are i...</td>\n",
       "      <td>During your stay\\nlet them ask what they are i...</td>\n",
       "      <td>During your stay\\nlet them ask what they are i...</td>\n",
       "      <td>During your stay\\nlet them ask what they are i...</td>\n",
       "      <td>During your stay\\nlet them ask what they are i...</td>\n",
       "      <td>During your stay\\nlet them ask what they are i...</td>\n",
       "    </tr>\n",
       "  </tbody>\n",
       "</table>\n",
       "<p>5 rows × 21 columns</p>\n",
       "</div>"
      ],
      "text/plain": [
       "                                                city  \\\n",
       "0                                                NaN   \n",
       "1                            Meghri, Syunik, Armenia   \n",
       "2                     Tsav, Syunik Province, Armenia   \n",
       "3  Ordubad, Nakhchivan Autonomous Republic, Azerb...   \n",
       "4                     Tsav, Syunik Province, Armenia   \n",
       "\n",
       "                                             country  \\\n",
       "0                                                NaN   \n",
       "1                            Meghri, Syunik, Armenia   \n",
       "2                     Tsav, Syunik Province, Armenia   \n",
       "3  Ordubad, Nakhchivan Autonomous Republic, Azerb...   \n",
       "4                     Tsav, Syunik Province, Armenia   \n",
       "\n",
       "                                               name                host_since  \\\n",
       "0                                               NaN                       NaN   \n",
       "1                                      For 3 Person      Joined in April 2016   \n",
       "2  Xustup,Eco. Food,Not Expensive,Wildlife, Hoostup  Joined in September 2019   \n",
       "3                                    Ordubad (1870)  Joined in September 2012   \n",
       "4                                     Hustup Xustup  Joined in September 2019   \n",
       "\n",
       "                                  host_response_rate host_identity_verified  \\\n",
       "0                                                NaN                    NaN   \n",
       "1  Response rate: 100%\\nResponse time: within an ...          ['4 Reviews']   \n",
       "2                                                NaN                   ['']   \n",
       "3                         Languages: Русский, Türkçe          ['5 Reviews']   \n",
       "4                                                NaN                   ['']   \n",
       "\n",
       "          review  superhost  \\\n",
       "0            NaN        NaN   \n",
       "1  ['4 Reviews']  4 Reviews   \n",
       "2           ['']        NaN   \n",
       "3  ['5 Reviews']  5 Reviews   \n",
       "4           ['']        NaN   \n",
       "\n",
       "                                       property_type accomodates  ...  \\\n",
       "0                                                NaN         NaN  ...   \n",
       "1        Private room in rental unit hosted by Armen    3 guests  ...   \n",
       "2  Private room in bed and breakfast hosted by Harut   10 guests  ...   \n",
       "3    Private room in residential home hosted by Anar    6 guests  ...   \n",
       "4  Private room in bed and breakfast hosted by Harut   10 guests  ...   \n",
       "\n",
       "  number_bedroom number_beds rating  price  \\\n",
       "0            NaN         NaN    NaN    NaN   \n",
       "1       3 guests    3 guests    NaN   36.0   \n",
       "2      10 guests   10 guests    NaN   16.0   \n",
       "3       6 guests    6 guests    NaN   30.0   \n",
       "4      10 guests   10 guests    NaN   16.0   \n",
       "\n",
       "                                         cleanliness  \\\n",
       "0                                                NaN   \n",
       "1                                旭\\nJuly 2019\\n很好的地方   \n",
       "2  During your stay\\nIf you like to dream about t...   \n",
       "3  Sultan\\nDecember 2019\\nThe host:\\n\\nAnar does ...   \n",
       "4  During your stay\\nlet them ask what they are i...   \n",
       "\n",
       "                                            accuracy  \\\n",
       "0                                                NaN   \n",
       "1                                旭\\nJuly 2019\\n很好的地方   \n",
       "2  During your stay\\nIf you like to dream about t...   \n",
       "3  Sultan\\nDecember 2019\\nThe host:\\n\\nAnar does ...   \n",
       "4  During your stay\\nlet them ask what they are i...   \n",
       "\n",
       "                                       communication  \\\n",
       "0                                                NaN   \n",
       "1                                旭\\nJuly 2019\\n很好的地方   \n",
       "2  During your stay\\nIf you like to dream about t...   \n",
       "3  Sultan\\nDecember 2019\\nThe host:\\n\\nAnar does ...   \n",
       "4  During your stay\\nlet them ask what they are i...   \n",
       "\n",
       "                                            location  \\\n",
       "0                                                NaN   \n",
       "1                                旭\\nJuly 2019\\n很好的地方   \n",
       "2  During your stay\\nIf you like to dream about t...   \n",
       "3  Sultan\\nDecember 2019\\nThe host:\\n\\nAnar does ...   \n",
       "4  During your stay\\nlet them ask what they are i...   \n",
       "\n",
       "                                            check_in  \\\n",
       "0                                                NaN   \n",
       "1                                旭\\nJuly 2019\\n很好的地方   \n",
       "2  During your stay\\nIf you like to dream about t...   \n",
       "3  Sultan\\nDecember 2019\\nThe host:\\n\\nAnar does ...   \n",
       "4  During your stay\\nlet them ask what they are i...   \n",
       "\n",
       "                                               value  \n",
       "0                                                NaN  \n",
       "1                                旭\\nJuly 2019\\n很好的地方  \n",
       "2  During your stay\\nIf you like to dream about t...  \n",
       "3  Sultan\\nDecember 2019\\nThe host:\\n\\nAnar does ...  \n",
       "4  During your stay\\nlet them ask what they are i...  \n",
       "\n",
       "[5 rows x 21 columns]"
      ]
     },
     "execution_count": 2,
     "metadata": {},
     "output_type": "execute_result"
    }
   ],
   "source": [
    "hotel_full_Meghri = pd.read_csv('hotel_full_Meghri.csv')\n",
    "hotel_full_Meghri\n"
   ]
  },
  {
   "cell_type": "code",
   "execution_count": 3,
   "metadata": {},
   "outputs": [
    {
     "data": {
      "text/html": [
       "<div>\n",
       "<style scoped>\n",
       "    .dataframe tbody tr th:only-of-type {\n",
       "        vertical-align: middle;\n",
       "    }\n",
       "\n",
       "    .dataframe tbody tr th {\n",
       "        vertical-align: top;\n",
       "    }\n",
       "\n",
       "    .dataframe thead th {\n",
       "        text-align: right;\n",
       "    }\n",
       "</style>\n",
       "<table border=\"1\" class=\"dataframe\">\n",
       "  <thead>\n",
       "    <tr style=\"text-align: right;\">\n",
       "      <th></th>\n",
       "      <th>city</th>\n",
       "      <th>country</th>\n",
       "      <th>name</th>\n",
       "      <th>host_since</th>\n",
       "      <th>host_response_rate</th>\n",
       "      <th>host_identity_verified</th>\n",
       "      <th>review</th>\n",
       "      <th>superhost</th>\n",
       "      <th>property_type</th>\n",
       "      <th>accomodates</th>\n",
       "      <th>...</th>\n",
       "      <th>number_bedroom</th>\n",
       "      <th>number_beds</th>\n",
       "      <th>rating</th>\n",
       "      <th>price</th>\n",
       "      <th>cleanliness</th>\n",
       "      <th>accuracy</th>\n",
       "      <th>communication</th>\n",
       "      <th>location</th>\n",
       "      <th>check_in</th>\n",
       "      <th>value</th>\n",
       "    </tr>\n",
       "  </thead>\n",
       "  <tbody>\n",
       "    <tr>\n",
       "      <th>1</th>\n",
       "      <td>Meghri, Syunik, Armenia</td>\n",
       "      <td>Meghri, Syunik, Armenia</td>\n",
       "      <td>For 3 Person</td>\n",
       "      <td>Joined in April 2016</td>\n",
       "      <td>Response rate: 100%\\nResponse time: within an ...</td>\n",
       "      <td>['4 Reviews']</td>\n",
       "      <td>['4 Reviews']</td>\n",
       "      <td>4 Reviews</td>\n",
       "      <td>Private room in rental unit hosted by Armen</td>\n",
       "      <td>3 guests</td>\n",
       "      <td>...</td>\n",
       "      <td>3 guests</td>\n",
       "      <td>3 guests</td>\n",
       "      <td>NaN</td>\n",
       "      <td>36.0</td>\n",
       "      <td>旭\\nJuly 2019\\n很好的地方</td>\n",
       "      <td>旭\\nJuly 2019\\n很好的地方</td>\n",
       "      <td>旭\\nJuly 2019\\n很好的地方</td>\n",
       "      <td>旭\\nJuly 2019\\n很好的地方</td>\n",
       "      <td>旭\\nJuly 2019\\n很好的地方</td>\n",
       "      <td>旭\\nJuly 2019\\n很好的地方</td>\n",
       "    </tr>\n",
       "    <tr>\n",
       "      <th>2</th>\n",
       "      <td>Tsav, Syunik Province, Armenia</td>\n",
       "      <td>Tsav, Syunik Province, Armenia</td>\n",
       "      <td>Xustup,Eco. Food,Not Expensive,Wildlife, Hoostup</td>\n",
       "      <td>Joined in September 2019</td>\n",
       "      <td>NaN</td>\n",
       "      <td>['']</td>\n",
       "      <td>['']</td>\n",
       "      <td>NaN</td>\n",
       "      <td>Private room in bed and breakfast hosted by Harut</td>\n",
       "      <td>10 guests</td>\n",
       "      <td>...</td>\n",
       "      <td>10 guests</td>\n",
       "      <td>10 guests</td>\n",
       "      <td>NaN</td>\n",
       "      <td>16.0</td>\n",
       "      <td>During your stay\\nIf you like to dream about t...</td>\n",
       "      <td>During your stay\\nIf you like to dream about t...</td>\n",
       "      <td>During your stay\\nIf you like to dream about t...</td>\n",
       "      <td>During your stay\\nIf you like to dream about t...</td>\n",
       "      <td>During your stay\\nIf you like to dream about t...</td>\n",
       "      <td>During your stay\\nIf you like to dream about t...</td>\n",
       "    </tr>\n",
       "    <tr>\n",
       "      <th>3</th>\n",
       "      <td>Ordubad, Nakhchivan Autonomous Republic, Azerb...</td>\n",
       "      <td>Ordubad, Nakhchivan Autonomous Republic, Azerb...</td>\n",
       "      <td>Ordubad (1870)</td>\n",
       "      <td>Joined in September 2012</td>\n",
       "      <td>Languages: Русский, Türkçe</td>\n",
       "      <td>['5 Reviews']</td>\n",
       "      <td>['5 Reviews']</td>\n",
       "      <td>5 Reviews</td>\n",
       "      <td>Private room in residential home hosted by Anar</td>\n",
       "      <td>6 guests</td>\n",
       "      <td>...</td>\n",
       "      <td>6 guests</td>\n",
       "      <td>6 guests</td>\n",
       "      <td>NaN</td>\n",
       "      <td>30.0</td>\n",
       "      <td>Sultan\\nDecember 2019\\nThe host:\\n\\nAnar does ...</td>\n",
       "      <td>Sultan\\nDecember 2019\\nThe host:\\n\\nAnar does ...</td>\n",
       "      <td>Sultan\\nDecember 2019\\nThe host:\\n\\nAnar does ...</td>\n",
       "      <td>Sultan\\nDecember 2019\\nThe host:\\n\\nAnar does ...</td>\n",
       "      <td>Sultan\\nDecember 2019\\nThe host:\\n\\nAnar does ...</td>\n",
       "      <td>Sultan\\nDecember 2019\\nThe host:\\n\\nAnar does ...</td>\n",
       "    </tr>\n",
       "    <tr>\n",
       "      <th>4</th>\n",
       "      <td>Tsav, Syunik Province, Armenia</td>\n",
       "      <td>Tsav, Syunik Province, Armenia</td>\n",
       "      <td>Hustup Xustup</td>\n",
       "      <td>Joined in September 2019</td>\n",
       "      <td>NaN</td>\n",
       "      <td>['']</td>\n",
       "      <td>['']</td>\n",
       "      <td>NaN</td>\n",
       "      <td>Private room in bed and breakfast hosted by Harut</td>\n",
       "      <td>10 guests</td>\n",
       "      <td>...</td>\n",
       "      <td>10 guests</td>\n",
       "      <td>10 guests</td>\n",
       "      <td>NaN</td>\n",
       "      <td>16.0</td>\n",
       "      <td>During your stay\\nlet them ask what they are i...</td>\n",
       "      <td>During your stay\\nlet them ask what they are i...</td>\n",
       "      <td>During your stay\\nlet them ask what they are i...</td>\n",
       "      <td>During your stay\\nlet them ask what they are i...</td>\n",
       "      <td>During your stay\\nlet them ask what they are i...</td>\n",
       "      <td>During your stay\\nlet them ask what they are i...</td>\n",
       "    </tr>\n",
       "  </tbody>\n",
       "</table>\n",
       "<p>4 rows × 21 columns</p>\n",
       "</div>"
      ],
      "text/plain": [
       "                                                city  \\\n",
       "1                            Meghri, Syunik, Armenia   \n",
       "2                     Tsav, Syunik Province, Armenia   \n",
       "3  Ordubad, Nakhchivan Autonomous Republic, Azerb...   \n",
       "4                     Tsav, Syunik Province, Armenia   \n",
       "\n",
       "                                             country  \\\n",
       "1                            Meghri, Syunik, Armenia   \n",
       "2                     Tsav, Syunik Province, Armenia   \n",
       "3  Ordubad, Nakhchivan Autonomous Republic, Azerb...   \n",
       "4                     Tsav, Syunik Province, Armenia   \n",
       "\n",
       "                                               name                host_since  \\\n",
       "1                                      For 3 Person      Joined in April 2016   \n",
       "2  Xustup,Eco. Food,Not Expensive,Wildlife, Hoostup  Joined in September 2019   \n",
       "3                                    Ordubad (1870)  Joined in September 2012   \n",
       "4                                     Hustup Xustup  Joined in September 2019   \n",
       "\n",
       "                                  host_response_rate host_identity_verified  \\\n",
       "1  Response rate: 100%\\nResponse time: within an ...          ['4 Reviews']   \n",
       "2                                                NaN                   ['']   \n",
       "3                         Languages: Русский, Türkçe          ['5 Reviews']   \n",
       "4                                                NaN                   ['']   \n",
       "\n",
       "          review  superhost  \\\n",
       "1  ['4 Reviews']  4 Reviews   \n",
       "2           ['']        NaN   \n",
       "3  ['5 Reviews']  5 Reviews   \n",
       "4           ['']        NaN   \n",
       "\n",
       "                                       property_type accomodates  ...  \\\n",
       "1        Private room in rental unit hosted by Armen    3 guests  ...   \n",
       "2  Private room in bed and breakfast hosted by Harut   10 guests  ...   \n",
       "3    Private room in residential home hosted by Anar    6 guests  ...   \n",
       "4  Private room in bed and breakfast hosted by Harut   10 guests  ...   \n",
       "\n",
       "  number_bedroom number_beds rating  price  \\\n",
       "1       3 guests    3 guests    NaN   36.0   \n",
       "2      10 guests   10 guests    NaN   16.0   \n",
       "3       6 guests    6 guests    NaN   30.0   \n",
       "4      10 guests   10 guests    NaN   16.0   \n",
       "\n",
       "                                         cleanliness  \\\n",
       "1                                旭\\nJuly 2019\\n很好的地方   \n",
       "2  During your stay\\nIf you like to dream about t...   \n",
       "3  Sultan\\nDecember 2019\\nThe host:\\n\\nAnar does ...   \n",
       "4  During your stay\\nlet them ask what they are i...   \n",
       "\n",
       "                                            accuracy  \\\n",
       "1                                旭\\nJuly 2019\\n很好的地方   \n",
       "2  During your stay\\nIf you like to dream about t...   \n",
       "3  Sultan\\nDecember 2019\\nThe host:\\n\\nAnar does ...   \n",
       "4  During your stay\\nlet them ask what they are i...   \n",
       "\n",
       "                                       communication  \\\n",
       "1                                旭\\nJuly 2019\\n很好的地方   \n",
       "2  During your stay\\nIf you like to dream about t...   \n",
       "3  Sultan\\nDecember 2019\\nThe host:\\n\\nAnar does ...   \n",
       "4  During your stay\\nlet them ask what they are i...   \n",
       "\n",
       "                                            location  \\\n",
       "1                                旭\\nJuly 2019\\n很好的地方   \n",
       "2  During your stay\\nIf you like to dream about t...   \n",
       "3  Sultan\\nDecember 2019\\nThe host:\\n\\nAnar does ...   \n",
       "4  During your stay\\nlet them ask what they are i...   \n",
       "\n",
       "                                            check_in  \\\n",
       "1                                旭\\nJuly 2019\\n很好的地方   \n",
       "2  During your stay\\nIf you like to dream about t...   \n",
       "3  Sultan\\nDecember 2019\\nThe host:\\n\\nAnar does ...   \n",
       "4  During your stay\\nlet them ask what they are i...   \n",
       "\n",
       "                                               value  \n",
       "1                                旭\\nJuly 2019\\n很好的地方  \n",
       "2  During your stay\\nIf you like to dream about t...  \n",
       "3  Sultan\\nDecember 2019\\nThe host:\\n\\nAnar does ...  \n",
       "4  During your stay\\nlet them ask what they are i...  \n",
       "\n",
       "[4 rows x 21 columns]"
      ]
     },
     "execution_count": 3,
     "metadata": {},
     "output_type": "execute_result"
    }
   ],
   "source": [
    "hotel_full_Meghri = hotel_full_Meghri.drop(labels = 0, axis = 0)\n",
    "hotel_full_Meghri"
   ]
  },
  {
   "cell_type": "code",
   "execution_count": 4,
   "metadata": {},
   "outputs": [
    {
     "data": {
      "text/html": [
       "<div>\n",
       "<style scoped>\n",
       "    .dataframe tbody tr th:only-of-type {\n",
       "        vertical-align: middle;\n",
       "    }\n",
       "\n",
       "    .dataframe tbody tr th {\n",
       "        vertical-align: top;\n",
       "    }\n",
       "\n",
       "    .dataframe thead th {\n",
       "        text-align: right;\n",
       "    }\n",
       "</style>\n",
       "<table border=\"1\" class=\"dataframe\">\n",
       "  <thead>\n",
       "    <tr style=\"text-align: right;\">\n",
       "      <th></th>\n",
       "      <th>city</th>\n",
       "      <th>country</th>\n",
       "      <th>name</th>\n",
       "      <th>host_since</th>\n",
       "      <th>host_response_rate</th>\n",
       "      <th>host_identity_verified</th>\n",
       "      <th>review</th>\n",
       "      <th>superhost</th>\n",
       "      <th>property_type</th>\n",
       "      <th>accomodates</th>\n",
       "      <th>...</th>\n",
       "      <th>number_bedroom</th>\n",
       "      <th>number_beds</th>\n",
       "      <th>rating</th>\n",
       "      <th>price</th>\n",
       "      <th>cleanliness</th>\n",
       "      <th>accuracy</th>\n",
       "      <th>communication</th>\n",
       "      <th>location</th>\n",
       "      <th>check_in</th>\n",
       "      <th>value</th>\n",
       "    </tr>\n",
       "  </thead>\n",
       "  <tbody>\n",
       "  </tbody>\n",
       "</table>\n",
       "<p>0 rows × 21 columns</p>\n",
       "</div>"
      ],
      "text/plain": [
       "Empty DataFrame\n",
       "Columns: [city, country, name, host_since, host_response_rate, host_identity_verified, review, superhost, property_type, accomodates, number_bathroom, number_bedroom, number_beds, rating, price, cleanliness, accuracy, communication, location, check_in, value]\n",
       "Index: []\n",
       "\n",
       "[0 rows x 21 columns]"
      ]
     },
     "execution_count": 4,
     "metadata": {},
     "output_type": "execute_result"
    }
   ],
   "source": [
    "nan_value = float(\"Nan\")\n",
    "hotel_full_Meghri.replace(\"\", nan_value, inplace = True)\n",
    "hotel_full_Meghri.dropna(inplace= True)\n",
    "hotel_full_Meghri"
   ]
  },
  {
   "cell_type": "code",
   "execution_count": null,
   "metadata": {},
   "outputs": [],
   "source": []
  },
  {
   "cell_type": "code",
   "execution_count": null,
   "metadata": {},
   "outputs": [],
   "source": []
  },
  {
   "cell_type": "code",
   "execution_count": 5,
   "metadata": {},
   "outputs": [
    {
     "data": {
      "text/html": [
       "<div>\n",
       "<style scoped>\n",
       "    .dataframe tbody tr th:only-of-type {\n",
       "        vertical-align: middle;\n",
       "    }\n",
       "\n",
       "    .dataframe tbody tr th {\n",
       "        vertical-align: top;\n",
       "    }\n",
       "\n",
       "    .dataframe thead th {\n",
       "        text-align: right;\n",
       "    }\n",
       "</style>\n",
       "<table border=\"1\" class=\"dataframe\">\n",
       "  <thead>\n",
       "    <tr style=\"text-align: right;\">\n",
       "      <th></th>\n",
       "      <th>city</th>\n",
       "      <th>country</th>\n",
       "      <th>name</th>\n",
       "      <th>host_since</th>\n",
       "      <th>host_response_rate</th>\n",
       "      <th>host_identity_verified</th>\n",
       "      <th>review</th>\n",
       "      <th>superhost</th>\n",
       "      <th>property_type</th>\n",
       "      <th>accomodates</th>\n",
       "      <th>...</th>\n",
       "      <th>number_bedroom</th>\n",
       "      <th>number_beds</th>\n",
       "      <th>rating</th>\n",
       "      <th>price</th>\n",
       "      <th>cleanliness</th>\n",
       "      <th>accuracy</th>\n",
       "      <th>communication</th>\n",
       "      <th>location</th>\n",
       "      <th>check_in</th>\n",
       "      <th>value</th>\n",
       "    </tr>\n",
       "  </thead>\n",
       "  <tbody>\n",
       "  </tbody>\n",
       "</table>\n",
       "<p>0 rows × 21 columns</p>\n",
       "</div>"
      ],
      "text/plain": [
       "Empty DataFrame\n",
       "Columns: [city, country, name, host_since, host_response_rate, host_identity_verified, review, superhost, property_type, accomodates, number_bathroom, number_bedroom, number_beds, rating, price, cleanliness, accuracy, communication, location, check_in, value]\n",
       "Index: []\n",
       "\n",
       "[0 rows x 21 columns]"
      ]
     },
     "execution_count": 5,
     "metadata": {},
     "output_type": "execute_result"
    }
   ],
   "source": [
    "city_list = []\n",
    "for i in hotel_full_Meghri.index:\n",
    "    text = re.sub(\",\", \"\", hotel_full_Meghri[\"city\"][i][:hotel_full_Meghri[\"city\"][i].index(\"Armenia\")])\n",
    "    city_list.append(text)\n",
    "\n",
    "hotel_full_Meghri[\"city\"]= city_list\n",
    "hotel_full_Meghri"
   ]
  },
  {
   "cell_type": "code",
   "execution_count": 6,
   "metadata": {},
   "outputs": [
    {
     "data": {
      "text/html": [
       "<div>\n",
       "<style scoped>\n",
       "    .dataframe tbody tr th:only-of-type {\n",
       "        vertical-align: middle;\n",
       "    }\n",
       "\n",
       "    .dataframe tbody tr th {\n",
       "        vertical-align: top;\n",
       "    }\n",
       "\n",
       "    .dataframe thead th {\n",
       "        text-align: right;\n",
       "    }\n",
       "</style>\n",
       "<table border=\"1\" class=\"dataframe\">\n",
       "  <thead>\n",
       "    <tr style=\"text-align: right;\">\n",
       "      <th></th>\n",
       "      <th>city</th>\n",
       "      <th>country</th>\n",
       "      <th>name</th>\n",
       "      <th>host_since</th>\n",
       "      <th>host_response_rate</th>\n",
       "      <th>host_identity_verified</th>\n",
       "      <th>review</th>\n",
       "      <th>superhost</th>\n",
       "      <th>property_type</th>\n",
       "      <th>accomodates</th>\n",
       "      <th>...</th>\n",
       "      <th>number_bedroom</th>\n",
       "      <th>number_beds</th>\n",
       "      <th>rating</th>\n",
       "      <th>price</th>\n",
       "      <th>cleanliness</th>\n",
       "      <th>accuracy</th>\n",
       "      <th>communication</th>\n",
       "      <th>location</th>\n",
       "      <th>check_in</th>\n",
       "      <th>value</th>\n",
       "    </tr>\n",
       "  </thead>\n",
       "  <tbody>\n",
       "  </tbody>\n",
       "</table>\n",
       "<p>0 rows × 21 columns</p>\n",
       "</div>"
      ],
      "text/plain": [
       "Empty DataFrame\n",
       "Columns: [city, country, name, host_since, host_response_rate, host_identity_verified, review, superhost, property_type, accomodates, number_bathroom, number_bedroom, number_beds, rating, price, cleanliness, accuracy, communication, location, check_in, value]\n",
       "Index: []\n",
       "\n",
       "[0 rows x 21 columns]"
      ]
     },
     "execution_count": 6,
     "metadata": {},
     "output_type": "execute_result"
    }
   ],
   "source": [
    "nan_value = float(\"Nan\")\n",
    "hotel_full_Meghri.replace(\"\", nan_value, inplace = True)\n",
    "hotel_full_Meghri.dropna(inplace= True)\n",
    "hotel_full_Meghri"
   ]
  },
  {
   "cell_type": "code",
   "execution_count": 7,
   "metadata": {},
   "outputs": [
    {
     "data": {
      "text/html": [
       "<div>\n",
       "<style scoped>\n",
       "    .dataframe tbody tr th:only-of-type {\n",
       "        vertical-align: middle;\n",
       "    }\n",
       "\n",
       "    .dataframe tbody tr th {\n",
       "        vertical-align: top;\n",
       "    }\n",
       "\n",
       "    .dataframe thead th {\n",
       "        text-align: right;\n",
       "    }\n",
       "</style>\n",
       "<table border=\"1\" class=\"dataframe\">\n",
       "  <thead>\n",
       "    <tr style=\"text-align: right;\">\n",
       "      <th></th>\n",
       "      <th>city</th>\n",
       "      <th>country</th>\n",
       "      <th>name</th>\n",
       "      <th>host_since</th>\n",
       "      <th>host_response_rate</th>\n",
       "      <th>host_identity_verified</th>\n",
       "      <th>review</th>\n",
       "      <th>superhost</th>\n",
       "      <th>property_type</th>\n",
       "      <th>accomodates</th>\n",
       "      <th>...</th>\n",
       "      <th>number_bedroom</th>\n",
       "      <th>number_beds</th>\n",
       "      <th>rating</th>\n",
       "      <th>price</th>\n",
       "      <th>cleanliness</th>\n",
       "      <th>accuracy</th>\n",
       "      <th>communication</th>\n",
       "      <th>location</th>\n",
       "      <th>check_in</th>\n",
       "      <th>value</th>\n",
       "    </tr>\n",
       "  </thead>\n",
       "  <tbody>\n",
       "  </tbody>\n",
       "</table>\n",
       "<p>0 rows × 21 columns</p>\n",
       "</div>"
      ],
      "text/plain": [
       "Empty DataFrame\n",
       "Columns: [city, country, name, host_since, host_response_rate, host_identity_verified, review, superhost, property_type, accomodates, number_bathroom, number_bedroom, number_beds, rating, price, cleanliness, accuracy, communication, location, check_in, value]\n",
       "Index: []\n",
       "\n",
       "[0 rows x 21 columns]"
      ]
     },
     "execution_count": 7,
     "metadata": {},
     "output_type": "execute_result"
    }
   ],
   "source": [
    "c_l = []    \n",
    "for k in hotel_full_Meghri[\"city\"]:\n",
    "    tex = re.search(\"\\w+\", k).group()\n",
    "    c_l.append(tex)\n",
    "hotel_full_Meghri[\"city\"]= c_l\n",
    "hotel_full_Meghri"
   ]
  },
  {
   "cell_type": "code",
   "execution_count": 8,
   "metadata": {},
   "outputs": [],
   "source": [
    "country_list = []\n",
    "for i in hotel_full_Meghri.index:\n",
    "    text = re.search(\"Armenia\", hotel_full_Meghri[\"country\"][i]).group()\n",
    "    country_list.append(text)\n",
    "\n",
    "hotel_full_Meghri[\"country\"] = country_list"
   ]
  },
  {
   "cell_type": "code",
   "execution_count": 9,
   "metadata": {},
   "outputs": [
    {
     "data": {
      "text/html": [
       "<div>\n",
       "<style scoped>\n",
       "    .dataframe tbody tr th:only-of-type {\n",
       "        vertical-align: middle;\n",
       "    }\n",
       "\n",
       "    .dataframe tbody tr th {\n",
       "        vertical-align: top;\n",
       "    }\n",
       "\n",
       "    .dataframe thead th {\n",
       "        text-align: right;\n",
       "    }\n",
       "</style>\n",
       "<table border=\"1\" class=\"dataframe\">\n",
       "  <thead>\n",
       "    <tr style=\"text-align: right;\">\n",
       "      <th></th>\n",
       "      <th>city</th>\n",
       "      <th>country</th>\n",
       "      <th>name</th>\n",
       "      <th>host_since</th>\n",
       "      <th>host_response_rate</th>\n",
       "      <th>host_identity_verified</th>\n",
       "      <th>review</th>\n",
       "      <th>superhost</th>\n",
       "      <th>property_type</th>\n",
       "      <th>accomodates</th>\n",
       "      <th>...</th>\n",
       "      <th>number_bedroom</th>\n",
       "      <th>number_beds</th>\n",
       "      <th>rating</th>\n",
       "      <th>price</th>\n",
       "      <th>cleanliness</th>\n",
       "      <th>accuracy</th>\n",
       "      <th>communication</th>\n",
       "      <th>location</th>\n",
       "      <th>check_in</th>\n",
       "      <th>value</th>\n",
       "    </tr>\n",
       "  </thead>\n",
       "  <tbody>\n",
       "  </tbody>\n",
       "</table>\n",
       "<p>0 rows × 21 columns</p>\n",
       "</div>"
      ],
      "text/plain": [
       "Empty DataFrame\n",
       "Columns: [city, country, name, host_since, host_response_rate, host_identity_verified, review, superhost, property_type, accomodates, number_bathroom, number_bedroom, number_beds, rating, price, cleanliness, accuracy, communication, location, check_in, value]\n",
       "Index: []\n",
       "\n",
       "[0 rows x 21 columns]"
      ]
     },
     "execution_count": 9,
     "metadata": {},
     "output_type": "execute_result"
    }
   ],
   "source": [
    "hotel_full_Meghri\n"
   ]
  },
  {
   "cell_type": "code",
   "execution_count": 10,
   "metadata": {},
   "outputs": [
    {
     "data": {
      "text/plain": [
       "Series([], Name: host_since, dtype: float64)"
      ]
     },
     "execution_count": 10,
     "metadata": {},
     "output_type": "execute_result"
    }
   ],
   "source": [
    "host_since_list = []\n",
    "for i in hotel_full_Meghri.host_since:\n",
    "    k = re.findall(\"(\\d{4})\", i)\n",
    "    host_since_list.append(k)\n",
    "hs = []   \n",
    "host_since_list = [item for sublist in host_since_list for item in sublist]\n",
    "for k in host_since_list:\n",
    "    a = int(k)\n",
    "    hs.append(a)\n",
    "hotel_full_Meghri.host_since = hs \n",
    "hotel_full_Meghri.host_since"
   ]
  },
  {
   "cell_type": "code",
   "execution_count": 11,
   "metadata": {},
   "outputs": [
    {
     "data": {
      "text/html": [
       "<div>\n",
       "<style scoped>\n",
       "    .dataframe tbody tr th:only-of-type {\n",
       "        vertical-align: middle;\n",
       "    }\n",
       "\n",
       "    .dataframe tbody tr th {\n",
       "        vertical-align: top;\n",
       "    }\n",
       "\n",
       "    .dataframe thead th {\n",
       "        text-align: right;\n",
       "    }\n",
       "</style>\n",
       "<table border=\"1\" class=\"dataframe\">\n",
       "  <thead>\n",
       "    <tr style=\"text-align: right;\">\n",
       "      <th></th>\n",
       "      <th>city</th>\n",
       "      <th>country</th>\n",
       "      <th>name</th>\n",
       "      <th>host_since</th>\n",
       "      <th>host_response_rate</th>\n",
       "      <th>host_identity_verified</th>\n",
       "      <th>review</th>\n",
       "      <th>superhost</th>\n",
       "      <th>property_type</th>\n",
       "      <th>accomodates</th>\n",
       "      <th>...</th>\n",
       "      <th>number_bedroom</th>\n",
       "      <th>number_beds</th>\n",
       "      <th>rating</th>\n",
       "      <th>price</th>\n",
       "      <th>cleanliness</th>\n",
       "      <th>accuracy</th>\n",
       "      <th>communication</th>\n",
       "      <th>location</th>\n",
       "      <th>check_in</th>\n",
       "      <th>value</th>\n",
       "    </tr>\n",
       "  </thead>\n",
       "  <tbody>\n",
       "  </tbody>\n",
       "</table>\n",
       "<p>0 rows × 21 columns</p>\n",
       "</div>"
      ],
      "text/plain": [
       "Empty DataFrame\n",
       "Columns: [city, country, name, host_since, host_response_rate, host_identity_verified, review, superhost, property_type, accomodates, number_bathroom, number_bedroom, number_beds, rating, price, cleanliness, accuracy, communication, location, check_in, value]\n",
       "Index: []\n",
       "\n",
       "[0 rows x 21 columns]"
      ]
     },
     "execution_count": 11,
     "metadata": {},
     "output_type": "execute_result"
    }
   ],
   "source": [
    "hotel_full_Meghri"
   ]
  },
  {
   "cell_type": "code",
   "execution_count": 12,
   "metadata": {},
   "outputs": [
    {
     "data": {
      "text/plain": [
       "[]"
      ]
     },
     "execution_count": 12,
     "metadata": {},
     "output_type": "execute_result"
    }
   ],
   "source": [
    "string = []\n",
    "for i in hotel_full_Meghri.index:\n",
    "    st = hotel_full_Meghri.host_identity_verified[i].strip('[]').strip(\"'\")\n",
    "    string.append(st)\n",
    "string"
   ]
  },
  {
   "cell_type": "code",
   "execution_count": 13,
   "metadata": {},
   "outputs": [
    {
     "data": {
      "text/plain": [
       "Series([], Name: host_identity_verified, dtype: float64)"
      ]
     },
     "execution_count": 13,
     "metadata": {},
     "output_type": "execute_result"
    }
   ],
   "source": [
    "hotel_full_Meghri.host_identity_verified = string\n",
    "hotel_full_Meghri.host_identity_verified"
   ]
  },
  {
   "cell_type": "code",
   "execution_count": 14,
   "metadata": {},
   "outputs": [],
   "source": [
    "for i in hotel_full_Meghri.index:\n",
    "    if \"Identity verified\" in  hotel_full_Meghri.host_identity_verified[i]:\n",
    "        hotel_full_Meghri.loc[i, 'host_identity_verified'] = \"Identity verified\"\n",
    "    else:\n",
    "        hotel_full_Meghri.loc[i, 'host_identity_verified'] = \"Identity not verified\""
   ]
  },
  {
   "cell_type": "code",
   "execution_count": 15,
   "metadata": {},
   "outputs": [
    {
     "data": {
      "text/html": [
       "<div>\n",
       "<style scoped>\n",
       "    .dataframe tbody tr th:only-of-type {\n",
       "        vertical-align: middle;\n",
       "    }\n",
       "\n",
       "    .dataframe tbody tr th {\n",
       "        vertical-align: top;\n",
       "    }\n",
       "\n",
       "    .dataframe thead th {\n",
       "        text-align: right;\n",
       "    }\n",
       "</style>\n",
       "<table border=\"1\" class=\"dataframe\">\n",
       "  <thead>\n",
       "    <tr style=\"text-align: right;\">\n",
       "      <th></th>\n",
       "      <th>city</th>\n",
       "      <th>country</th>\n",
       "      <th>name</th>\n",
       "      <th>host_since</th>\n",
       "      <th>host_response_rate</th>\n",
       "      <th>host_identity_verified</th>\n",
       "      <th>review</th>\n",
       "      <th>superhost</th>\n",
       "      <th>property_type</th>\n",
       "      <th>accomodates</th>\n",
       "      <th>...</th>\n",
       "      <th>number_bedroom</th>\n",
       "      <th>number_beds</th>\n",
       "      <th>rating</th>\n",
       "      <th>price</th>\n",
       "      <th>cleanliness</th>\n",
       "      <th>accuracy</th>\n",
       "      <th>communication</th>\n",
       "      <th>location</th>\n",
       "      <th>check_in</th>\n",
       "      <th>value</th>\n",
       "    </tr>\n",
       "  </thead>\n",
       "  <tbody>\n",
       "  </tbody>\n",
       "</table>\n",
       "<p>0 rows × 21 columns</p>\n",
       "</div>"
      ],
      "text/plain": [
       "Empty DataFrame\n",
       "Columns: [city, country, name, host_since, host_response_rate, host_identity_verified, review, superhost, property_type, accomodates, number_bathroom, number_bedroom, number_beds, rating, price, cleanliness, accuracy, communication, location, check_in, value]\n",
       "Index: []\n",
       "\n",
       "[0 rows x 21 columns]"
      ]
     },
     "execution_count": 15,
     "metadata": {},
     "output_type": "execute_result"
    }
   ],
   "source": [
    "hotel_full_Meghri"
   ]
  },
  {
   "cell_type": "code",
   "execution_count": 16,
   "metadata": {},
   "outputs": [],
   "source": [
    "for i in hotel_full_Meghri.index:\n",
    "    if \"Review\" in  hotel_full_Meghri.review[i]:\n",
    "        hotel_full_Meghri.loc[i, 'review'] = re.search(\"(\\d+)\", hotel_full_Meghri.review[i]).group()\n",
    "        \n",
    "    else:\n",
    "        hotel_full_Meghri.loc[i, 'review'] = 0\n",
    "    "
   ]
  },
  {
   "cell_type": "code",
   "execution_count": 17,
   "metadata": {},
   "outputs": [
    {
     "data": {
      "text/html": [
       "<div>\n",
       "<style scoped>\n",
       "    .dataframe tbody tr th:only-of-type {\n",
       "        vertical-align: middle;\n",
       "    }\n",
       "\n",
       "    .dataframe tbody tr th {\n",
       "        vertical-align: top;\n",
       "    }\n",
       "\n",
       "    .dataframe thead th {\n",
       "        text-align: right;\n",
       "    }\n",
       "</style>\n",
       "<table border=\"1\" class=\"dataframe\">\n",
       "  <thead>\n",
       "    <tr style=\"text-align: right;\">\n",
       "      <th></th>\n",
       "      <th>city</th>\n",
       "      <th>country</th>\n",
       "      <th>name</th>\n",
       "      <th>host_since</th>\n",
       "      <th>host_response_rate</th>\n",
       "      <th>host_identity_verified</th>\n",
       "      <th>review</th>\n",
       "      <th>superhost</th>\n",
       "      <th>property_type</th>\n",
       "      <th>accomodates</th>\n",
       "      <th>...</th>\n",
       "      <th>number_bedroom</th>\n",
       "      <th>number_beds</th>\n",
       "      <th>rating</th>\n",
       "      <th>price</th>\n",
       "      <th>cleanliness</th>\n",
       "      <th>accuracy</th>\n",
       "      <th>communication</th>\n",
       "      <th>location</th>\n",
       "      <th>check_in</th>\n",
       "      <th>value</th>\n",
       "    </tr>\n",
       "  </thead>\n",
       "  <tbody>\n",
       "  </tbody>\n",
       "</table>\n",
       "<p>0 rows × 21 columns</p>\n",
       "</div>"
      ],
      "text/plain": [
       "Empty DataFrame\n",
       "Columns: [city, country, name, host_since, host_response_rate, host_identity_verified, review, superhost, property_type, accomodates, number_bathroom, number_bedroom, number_beds, rating, price, cleanliness, accuracy, communication, location, check_in, value]\n",
       "Index: []\n",
       "\n",
       "[0 rows x 21 columns]"
      ]
     },
     "execution_count": 17,
     "metadata": {},
     "output_type": "execute_result"
    }
   ],
   "source": [
    "hotel_full_Meghri"
   ]
  },
  {
   "cell_type": "code",
   "execution_count": 18,
   "metadata": {},
   "outputs": [],
   "source": [
    "for i in hotel_full_Meghri.index:\n",
    "    if \"Superhost\" in  hotel_full_Meghri.superhost[i]:\n",
    "        hotel_full_Meghri.loc[i, 'superhost'] = \"Super host\"\n",
    "    else:\n",
    "        hotel_full_Meghri.loc[i, 'superhost'] = \"regular host\""
   ]
  },
  {
   "cell_type": "code",
   "execution_count": 19,
   "metadata": {},
   "outputs": [
    {
     "data": {
      "text/plain": [
       "[]"
      ]
     },
     "execution_count": 19,
     "metadata": {},
     "output_type": "execute_result"
    }
   ],
   "source": [
    "prop_list = []\n",
    "for i in hotel_full_Meghri.property_type:\n",
    "    k = re.sub(\"hosted\\sby\\s\\w*\", \"\", i).strip(\" \")\n",
    "    prop_list.append(k)\n",
    "prop_list  \n"
   ]
  },
  {
   "cell_type": "code",
   "execution_count": 20,
   "metadata": {},
   "outputs": [],
   "source": [
    "hotel_full_Meghri.property_type =prop_list"
   ]
  },
  {
   "cell_type": "code",
   "execution_count": 21,
   "metadata": {},
   "outputs": [
    {
     "data": {
      "text/html": [
       "<div>\n",
       "<style scoped>\n",
       "    .dataframe tbody tr th:only-of-type {\n",
       "        vertical-align: middle;\n",
       "    }\n",
       "\n",
       "    .dataframe tbody tr th {\n",
       "        vertical-align: top;\n",
       "    }\n",
       "\n",
       "    .dataframe thead th {\n",
       "        text-align: right;\n",
       "    }\n",
       "</style>\n",
       "<table border=\"1\" class=\"dataframe\">\n",
       "  <thead>\n",
       "    <tr style=\"text-align: right;\">\n",
       "      <th></th>\n",
       "      <th>city</th>\n",
       "      <th>country</th>\n",
       "      <th>name</th>\n",
       "      <th>host_since</th>\n",
       "      <th>host_response_rate</th>\n",
       "      <th>host_identity_verified</th>\n",
       "      <th>review</th>\n",
       "      <th>superhost</th>\n",
       "      <th>property_type</th>\n",
       "      <th>accomodates</th>\n",
       "      <th>...</th>\n",
       "      <th>number_bedroom</th>\n",
       "      <th>number_beds</th>\n",
       "      <th>rating</th>\n",
       "      <th>price</th>\n",
       "      <th>cleanliness</th>\n",
       "      <th>accuracy</th>\n",
       "      <th>communication</th>\n",
       "      <th>location</th>\n",
       "      <th>check_in</th>\n",
       "      <th>value</th>\n",
       "    </tr>\n",
       "  </thead>\n",
       "  <tbody>\n",
       "  </tbody>\n",
       "</table>\n",
       "<p>0 rows × 21 columns</p>\n",
       "</div>"
      ],
      "text/plain": [
       "Empty DataFrame\n",
       "Columns: [city, country, name, host_since, host_response_rate, host_identity_verified, review, superhost, property_type, accomodates, number_bathroom, number_bedroom, number_beds, rating, price, cleanliness, accuracy, communication, location, check_in, value]\n",
       "Index: []\n",
       "\n",
       "[0 rows x 21 columns]"
      ]
     },
     "execution_count": 21,
     "metadata": {},
     "output_type": "execute_result"
    }
   ],
   "source": [
    "hotel_full_Meghri"
   ]
  },
  {
   "cell_type": "code",
   "execution_count": 22,
   "metadata": {},
   "outputs": [],
   "source": [
    "accomodates_list = []\n",
    "for i in hotel_full_Meghri.accomodates:\n",
    "    k = re.findall(\"(\\d+)\\sguest\", i)\n",
    "    accomodates_list.append(k)\n",
    "number = []   \n",
    "accomodates_list = [item for sublist in accomodates_list for item in sublist]\n",
    "for k in accomodates_list:\n",
    "    a = int(k)\n",
    "    number.append(a)\n",
    "    \n",
    "hotel_full_Meghri.accomodates = number \n",
    "\n",
    "    \n"
   ]
  },
  {
   "cell_type": "code",
   "execution_count": 23,
   "metadata": {},
   "outputs": [],
   "source": [
    "for i in hotel_full_Meghri.index:\n",
    "    if \"Shared half-bath\" in  hotel_full_Meghri.number_bathroom[i]:\n",
    "        hotel_full_Meghri.loc[i, 'number_bathroom'] = 0.5\n",
    "    elif \"Half-bath\" in  hotel_full_Meghri.number_bathroom[i]:\n",
    "        hotel_full_Meghri.loc[i, 'number_bathroom'] = 0.5\n",
    "    elif \"bath\" not in  hotel_full_Meghri.number_bathroom[i]:\n",
    "        hotel_full_Meghri.loc[i, 'number_bathroom'] = 0\n",
    "    elif \"private bath\" in  hotel_full_Meghri.number_bathroom[i]:\n",
    "        t = re.findall(\"(\\d+(?:\\.\\d+)?)\\sprivate\", hotel_full_Meghri.number_bedroom[i])\n",
    "        hotel_full_Meghri.loc[i, 'number_bathroom'] = t\n",
    "    elif \"shared bath\" in  hotel_full_Meghri.number_bathroom[i]:\n",
    "        sh = re.findall(\"(\\d+(?:\\.\\d+)?)\\sshared\\sbath\", hotel_full_Meghri.number_bedroom[i])\n",
    "        hotel_full_Meghri.loc[i, 'number_bathroom'] = sh    \n",
    "    else:\n",
    "        \n",
    "        k = re.findall(\"(\\d+(?:\\.\\d+)?)\\sbath\", hotel_full_Meghri.number_bedroom[i])\n",
    "        k = \"\".join(k)\n",
    "        if k != \"\":\n",
    "            hotel_full_Meghri.loc[i, 'number_bathroom'] = k \n",
    "        \n",
    "    "
   ]
  },
  {
   "cell_type": "code",
   "execution_count": 24,
   "metadata": {},
   "outputs": [
    {
     "data": {
      "text/plain": [
       "[]"
      ]
     },
     "execution_count": 24,
     "metadata": {},
     "output_type": "execute_result"
    }
   ],
   "source": [
    "number_beds_list = []\n",
    "for i in hotel_full_Meghri.index:\n",
    "    if \"bed\" in  hotel_full_Meghri.number_beds[i]:\n",
    "        try:\n",
    "            k = re.search(\"(\\d+)\\sbe\\w{1,2}\\s\", hotel_full_Meghri.number_beds[i]).group(1)\n",
    "        except AttributeError:\n",
    "            k = re.search(\"(\\d+)\\sbe\\w{1,2}\\s\", hotel_full_Meghri.number_beds[i])\n",
    "    \n",
    "        number_beds_list.append(k) \n",
    "\n",
    "number_beds_list \n"
   ]
  },
  {
   "cell_type": "code",
   "execution_count": 25,
   "metadata": {},
   "outputs": [
    {
     "data": {
      "text/plain": [
       "0"
      ]
     },
     "execution_count": 25,
     "metadata": {},
     "output_type": "execute_result"
    }
   ],
   "source": [
    "len(hotel_full_Meghri.number_beds)"
   ]
  },
  {
   "cell_type": "code",
   "execution_count": 26,
   "metadata": {},
   "outputs": [
    {
     "data": {
      "text/plain": [
       "0"
      ]
     },
     "execution_count": 26,
     "metadata": {},
     "output_type": "execute_result"
    }
   ],
   "source": [
    "len(number_beds_list)"
   ]
  },
  {
   "cell_type": "code",
   "execution_count": 27,
   "metadata": {},
   "outputs": [],
   "source": [
    "hotel_full_Meghri.number_beds = number_beds_list"
   ]
  },
  {
   "cell_type": "code",
   "execution_count": 28,
   "metadata": {},
   "outputs": [
    {
     "data": {
      "text/plain": [
       "Series([], Name: number_beds, dtype: float64)"
      ]
     },
     "execution_count": 28,
     "metadata": {},
     "output_type": "execute_result"
    }
   ],
   "source": [
    "hotel_full_Meghri.number_beds"
   ]
  },
  {
   "cell_type": "code",
   "execution_count": 29,
   "metadata": {},
   "outputs": [],
   "source": [
    "for i in hotel_full_Meghri.index:\n",
    "    if \"Studio\" in  hotel_full_Meghri.number_bedroom[i]:\n",
    "        hotel_full_Meghri.loc[i, 'number_bedroom'] = 0\n",
    "    else:\n",
    "        k = re.findall(\"(\\d+)\\sbedroom\", hotel_full_Meghri.number_bedroom[i])\n",
    "        hotel_full_Meghri.loc[i, 'number_bedroom'] = k \n",
    "        \n",
    "    "
   ]
  },
  {
   "cell_type": "code",
   "execution_count": 30,
   "metadata": {},
   "outputs": [],
   "source": [
    "for i in hotel_full_Meghri.index:\n",
    "    if \"Cleanliness\" in  hotel_full_Meghri.cleanliness[i]:\n",
    "        hotel_full_Meghri.loc[i, 'cleanliness'] = re.findall(\"Cleanliness\\s(\\d+(?:\\.\\d+)?)\", hotel_full_Meghri.cleanliness[i])\n",
    "    else:\n",
    "        hotel_full_Meghri.loc[i, 'cleanliness'] = None"
   ]
  },
  {
   "cell_type": "code",
   "execution_count": 31,
   "metadata": {},
   "outputs": [],
   "source": [
    "for i in hotel_full_Meghri.index:\n",
    "    if \"Accuracy\" in  hotel_full_Meghri.accuracy[i]:\n",
    "        hotel_full_Meghri.loc[i, 'accuracy'] = re.findall(\"Accuracy\\s(\\d+(?:\\.\\d+)?)\", hotel_full_Meghri.accuracy[i])\n",
    "    else:\n",
    "        hotel_full_Meghri.loc[i, 'accuracy'] = None"
   ]
  },
  {
   "cell_type": "code",
   "execution_count": 32,
   "metadata": {},
   "outputs": [],
   "source": [
    "for i in hotel_full_Meghri.index:\n",
    "    if \"Communication\" in  hotel_full_Meghri.communication[i]:\n",
    "        hotel_full_Meghri.loc[i, 'communication'] = re.findall(\"Communication\\s(\\d+(?:\\.\\d+)?)\", hotel_full_Meghri.communication[i])\n",
    "    else:\n",
    "        hotel_full_Meghri.loc[i, 'communication'] = None"
   ]
  },
  {
   "cell_type": "code",
   "execution_count": 33,
   "metadata": {},
   "outputs": [],
   "source": [
    "\n",
    "for i in hotel_full_Meghri.index:\n",
    "    if \"Location\" in  hotel_full_Meghri.location[i]:\n",
    "        try:\n",
    "            hotel_full_Meghri.loc[i, 'location'] = re.search(\"Location\\s(\\d+(?:\\.\\d+)?)\", hotel_full_Meghri.location[i]).group(1)\n",
    "        \n",
    "        except AttributeError:\n",
    "            hotel_full_Meghri.loc[i, 'location'] = re.search(\"Location\\s(\\d+(?:\\.\\d+)?)\", hotel_full_Meghri.location[i])\n",
    "    \n",
    "    else:\n",
    "        hotel_full_Meghri.loc[i, 'location'] = None\n",
    "\n",
    " \n"
   ]
  },
  {
   "cell_type": "code",
   "execution_count": null,
   "metadata": {},
   "outputs": [],
   "source": []
  },
  {
   "cell_type": "code",
   "execution_count": 34,
   "metadata": {},
   "outputs": [],
   "source": [
    "for i in hotel_full_Meghri.index:\n",
    "    if \"Check-in\" in  hotel_full_Meghri.check_in[i]:\n",
    "        hotel_full_Meghri.loc[i, 'check_in'] = re.findall(\"Check-in\\s(\\d+(?:\\.\\d+)?)\", hotel_full_Meghri.check_in[i])\n",
    "    else:\n",
    "        hotel_full_Meghri.loc[i, 'check_in'] = None"
   ]
  },
  {
   "cell_type": "code",
   "execution_count": 35,
   "metadata": {},
   "outputs": [],
   "source": [
    "for i in hotel_full_Meghri.index:\n",
    "    if \"Value\" in  hotel_full_Meghri.value[i]:\n",
    "        hotel_full_Meghri.loc[i, 'value'] = re.findall(\"Value\\s(\\d+(?:\\.\\d+)?)\", hotel_full_Meghri.value[i])\n",
    "    else:\n",
    "        hotel_full_Meghri.loc[i, 'value'] = None"
   ]
  },
  {
   "cell_type": "code",
   "execution_count": 36,
   "metadata": {},
   "outputs": [],
   "source": [
    "for i in hotel_full_Meghri.index:\n",
    "    if \"No reviews (yet)\" in  hotel_full_Meghri.rating[i]:\n",
    "        hotel_full_Meghri.loc[i, 'rating'] = 0\n",
    "    "
   ]
  },
  {
   "cell_type": "code",
   "execution_count": 37,
   "metadata": {},
   "outputs": [],
   "source": [
    "price_list = []\n",
    "for i in hotel_full_Meghri.price:\n",
    "    k = re.findall(\"(\\d+)\\n\", i)\n",
    "    price_list.append(k)\n",
    "\n",
    "price_list = [item for sublist in price_list for item in sublist]\n",
    "  \n",
    "hotel_full_Meghri.price = price_list"
   ]
  },
  {
   "cell_type": "code",
   "execution_count": 38,
   "metadata": {},
   "outputs": [],
   "source": [
    "for i in hotel_full_Meghri.index:\n",
    "    if \"Response rate\" in  hotel_full_Meghri.host_response_rate[i]:\n",
    "        t = re.findall(\"\\s(\\d+)\", hotel_full_Meghri.host_response_rate[i])\n",
    "        hotel_full_Meghri.loc[i, 'host_response_rate'] = t \n",
    "    else:\n",
    "        hotel_full_Meghri.loc[i, 'host_response_rate'] = None\n",
    "        "
   ]
  },
  {
   "cell_type": "code",
   "execution_count": 39,
   "metadata": {},
   "outputs": [],
   "source": [
    "convert_dict = {'host_since': float, 'host_response_rate': float,  'review': float,  'accomodates': float, \n",
    "                                        'number_bathroom': float, 'number_bedroom': float, \n",
    "                                        'number_beds': float,'rating': float,  'price': float,\n",
    "                                        'cleanliness': float, 'accuracy': float, 'communication': float, \n",
    "                           'location': float, 'check_in': float, 'value': float}"
   ]
  },
  {
   "cell_type": "code",
   "execution_count": 40,
   "metadata": {},
   "outputs": [],
   "source": [
    "hotel_full_Meghri = hotel_full_Meghri.astype(convert_dict)"
   ]
  },
  {
   "cell_type": "code",
   "execution_count": 41,
   "metadata": {},
   "outputs": [
    {
     "data": {
      "text/plain": [
       "city                      float64\n",
       "country                   float64\n",
       "name                       object\n",
       "host_since                float64\n",
       "host_response_rate        float64\n",
       "host_identity_verified    float64\n",
       "review                    float64\n",
       "superhost                  object\n",
       "property_type             float64\n",
       "accomodates               float64\n",
       "number_bathroom           float64\n",
       "number_bedroom            float64\n",
       "number_beds               float64\n",
       "rating                    float64\n",
       "price                     float64\n",
       "cleanliness               float64\n",
       "accuracy                  float64\n",
       "communication             float64\n",
       "location                  float64\n",
       "check_in                  float64\n",
       "value                     float64\n",
       "dtype: object"
      ]
     },
     "execution_count": 41,
     "metadata": {},
     "output_type": "execute_result"
    }
   ],
   "source": [
    "hotel_full_Meghri.dtypes"
   ]
  },
  {
   "cell_type": "code",
   "execution_count": 42,
   "metadata": {},
   "outputs": [],
   "source": [
    "hotel_full_Meghri.to_csv(\"cleaned_hotel_full_Meghri.csv\", index=False)\n",
    "hotel_full_Meghri.to_excel(\"cleaned_hotel_full_Meghri2.xlsx\", index=False)"
   ]
  },
  {
   "cell_type": "code",
   "execution_count": null,
   "metadata": {},
   "outputs": [],
   "source": []
  }
 ],
 "metadata": {
  "kernelspec": {
   "display_name": "Python 3",
   "language": "python",
   "name": "python3"
  },
  "language_info": {
   "codemirror_mode": {
    "name": "ipython",
    "version": 3
   },
   "file_extension": ".py",
   "mimetype": "text/x-python",
   "name": "python",
   "nbconvert_exporter": "python",
   "pygments_lexer": "ipython3",
   "version": "3.8.8"
  }
 },
 "nbformat": 4,
 "nbformat_minor": 4
}
