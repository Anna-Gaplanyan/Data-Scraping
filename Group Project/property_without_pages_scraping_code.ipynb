{
 "cells": [
  {
   "cell_type": "code",
   "execution_count": 1,
   "metadata": {},
   "outputs": [],
   "source": [
    "from selenium import webdriver\n",
    "from selenium.webdriver.chrome.options import Options\n",
    "from selenium.webdriver.common.keys import Keys\n",
    "import time\n",
    "import re\n",
    "import pandas as pd\n",
    "from selenium.webdriver.common.action_chains import ActionChains\n",
    "from bs4 import BeautifulSoup\n",
    "from selenium.webdriver.support.ui import WebDriverWait\n",
    "from selenium.webdriver.common.by import By\n",
    "from selenium.webdriver.support import expected_conditions as EC\n",
    "import math\n",
    "import numpy as np\n",
    "import re\n",
    "pd.options.mode.chained_assignment = None \n",
    "import warnings\n",
    "warnings.filterwarnings(\"ignore\")"
   ]
  },
  {
   "cell_type": "code",
   "execution_count": 2,
   "metadata": {},
   "outputs": [],
   "source": [
    "options = Options()\n",
    "options.headlesse = True\n",
    "options.add_argument(\"start-normal\")\n",
    "driver = webdriver.Chrome(options=options, executable_path=r\"C:\\Users\\User\\Downloads\\chromedriver.exe\")\n",
    "driver.get('provide the city link on Airbnb website')"
   ]
  },
  {
   "cell_type": "code",
   "execution_count": 3,
   "metadata": {},
   "outputs": [],
   "source": [
    "SLEEP = 7\n",
    "\n",
    "\n",
    "data_hotel = pd.DataFrame({'city':[\"\"], 'country':[\"\"],'name':[\"\"], 'properties':[\"\"], })\n",
    "\n",
    "\n",
    "links = driver.find_elements_by_class_name('_8s3ctt')\n",
    "time.sleep(1)\n",
    "for i in links:\n",
    "    i.click()\n",
    "    time.sleep(15)\n",
    "    driver.switch_to_window(driver.window_handles[1]);\n",
    "    some_element = driver.find_element_by_tag_name(\"html\")\n",
    "    some_element.send_keys(Keys.END)\n",
    "    time.sleep(SLEEP)\n",
    "    try:\n",
    "        ActionChains(driver).move_to_element(driver.find_element_by_class_name('_pbq7fmm')).perform()\n",
    "        time.sleep(1)\n",
    "        city = driver.find_element_by_class_name('_pbq7fmm').text\n",
    "        country = driver.find_element_by_class_name('_pbq7fmm').text\n",
    "        ActionChains(driver).move_to_element(driver.find_element_by_class_name('_1n81at5')).perform()\n",
    "        time.sleep(1)\n",
    "        name = driver.find_element_by_class_name('_1n81at5').text\n",
    "        ActionChains(driver).move_to_element(driver.find_element_by_class_name('_4r9yt52')).perform()\n",
    "        time.sleep(5)\n",
    "        driver.find_element_by_class_name('_4r9yt52').click()\n",
    "        time.sleep(2)\n",
    "        body = driver.find_element_by_tag_name(\"html\")\n",
    "        body.send_keys(Keys.END)\n",
    "        time.sleep(2)\n",
    "        properties = driver.find_element_by_class_name('_1v5ksyp').text\n",
    "        data_hotel = data_hotel.append({'city':city, 'country': country, 'name': name, 'properties': properties}, ignore_index=True)\n",
    "    except:\n",
    "        pass\n",
    "        \n",
    "        \n",
    "    window_name = driver.window_handles[1]\n",
    "    driver.switch_to_window(window_name = window_name)\n",
    "    driver.close()\n",
    "    driver.switch_to_window(driver.window_handles[0]);\n",
    "    time.sleep(3)\n",
    "    \n",
    "\n",
    "    \n",
    "data_hotel.to_excel(\"properties_write the city name.xlsx\", index = False)\n",
    "data_hotel.to_csv(\"properties_write the city name.csv\", index = False)"
   ]
  },
  {
   "cell_type": "code",
   "execution_count": null,
   "metadata": {},
   "outputs": [],
   "source": []
  }
 ],
 "metadata": {
  "kernelspec": {
   "display_name": "Python 3",
   "language": "python",
   "name": "python3"
  },
  "language_info": {
   "codemirror_mode": {
    "name": "ipython",
    "version": 3
   },
   "file_extension": ".py",
   "mimetype": "text/x-python",
   "name": "python",
   "nbconvert_exporter": "python",
   "pygments_lexer": "ipython3",
   "version": "3.8.8"
  }
 },
 "nbformat": 4,
 "nbformat_minor": 4
}
