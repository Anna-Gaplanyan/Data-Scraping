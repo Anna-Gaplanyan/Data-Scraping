{
 "cells": [
  {
   "cell_type": "code",
   "execution_count": 1,
   "id": "84491929",
   "metadata": {},
   "outputs": [],
   "source": [
    "from selenium import webdriver\n",
    "from selenium.webdriver.chrome.options import Options\n",
    "from selenium.webdriver.common.keys import Keys\n",
    "import time\n",
    "import re\n",
    "import pandas as pd\n",
    "from selenium.webdriver.common.action_chains import ActionChains\n",
    "from bs4 import BeautifulSoup\n",
    "from selenium.webdriver.support.ui import WebDriverWait\n",
    "from selenium.webdriver.common.by import By\n",
    "from selenium.webdriver.support import expected_conditions as EC\n",
    "import math\n",
    "import numpy as np\n",
    "import re\n",
    "pd.options.mode.chained_assignment = None \n",
    "import warnings\n",
    "warnings.filterwarnings(\"ignore\")\n",
    "import regex"
   ]
  },
  {
   "cell_type": "markdown",
   "id": "5f55e472",
   "metadata": {},
   "source": [
    "# **Reading data**"
   ]
  },
  {
   "cell_type": "code",
   "execution_count": 2,
   "id": "6571943e",
   "metadata": {},
   "outputs": [
    {
     "data": {
      "text/html": [
       "<div>\n",
       "<style scoped>\n",
       "    .dataframe tbody tr th:only-of-type {\n",
       "        vertical-align: middle;\n",
       "    }\n",
       "\n",
       "    .dataframe tbody tr th {\n",
       "        vertical-align: top;\n",
       "    }\n",
       "\n",
       "    .dataframe thead th {\n",
       "        text-align: right;\n",
       "    }\n",
       "</style>\n",
       "<table border=\"1\" class=\"dataframe\">\n",
       "  <thead>\n",
       "    <tr style=\"text-align: right;\">\n",
       "      <th></th>\n",
       "      <th>city</th>\n",
       "      <th>country</th>\n",
       "      <th>name</th>\n",
       "      <th>properties</th>\n",
       "    </tr>\n",
       "  </thead>\n",
       "  <tbody>\n",
       "    <tr>\n",
       "      <th>0</th>\n",
       "      <td>NaN</td>\n",
       "      <td>NaN</td>\n",
       "      <td>NaN</td>\n",
       "      <td>NaN</td>\n",
       "    </tr>\n",
       "    <tr>\n",
       "      <th>1</th>\n",
       "      <td>Vardenis, Gegharkunik Province, Armenia</td>\n",
       "      <td>Vardenis, Gegharkunik Province, Armenia</td>\n",
       "      <td>Anna 'S House</td>\n",
       "      <td>What this place offers\\nBathroom\\nHair dryer\\n...</td>\n",
       "    </tr>\n",
       "    <tr>\n",
       "      <th>2</th>\n",
       "      <td>Vardenis, Gegharkunik Province, Armenia</td>\n",
       "      <td>Vardenis, Gegharkunik Province, Armenia</td>\n",
       "      <td>Hotel</td>\n",
       "      <td>What this place offers\\nBathroom\\nHair dryer\\n...</td>\n",
       "    </tr>\n",
       "    <tr>\n",
       "      <th>3</th>\n",
       "      <td>Tsapatagh, Gegharkunik, Armenia</td>\n",
       "      <td>Tsapatagh, Gegharkunik, Armenia</td>\n",
       "      <td>Cozy lodge overlooking Lake Sevan.</td>\n",
       "      <td>What this place offers\\nBathroom\\nHair dryer\\n...</td>\n",
       "    </tr>\n",
       "    <tr>\n",
       "      <th>4</th>\n",
       "      <td>Vayk, Vayots Dzor Province, Armenia</td>\n",
       "      <td>Vayk, Vayots Dzor Province, Armenia</td>\n",
       "      <td>Cozy house in wonderful nature of Karvachar</td>\n",
       "      <td>What this place offers\\nBathroom\\nHair dryer\\n...</td>\n",
       "    </tr>\n",
       "    <tr>\n",
       "      <th>5</th>\n",
       "      <td>Vardenis, Gegharkunik, Armenia</td>\n",
       "      <td>Vardenis, Gegharkunik, Armenia</td>\n",
       "      <td>Guest haus in Vardenis</td>\n",
       "      <td>Amenities\\nBathroom\\nHair dryer\\nHot water\\nBe...</td>\n",
       "    </tr>\n",
       "  </tbody>\n",
       "</table>\n",
       "</div>"
      ],
      "text/plain": [
       "                                      city  \\\n",
       "0                                      NaN   \n",
       "1  Vardenis, Gegharkunik Province, Armenia   \n",
       "2  Vardenis, Gegharkunik Province, Armenia   \n",
       "3          Tsapatagh, Gegharkunik, Armenia   \n",
       "4      Vayk, Vayots Dzor Province, Armenia   \n",
       "5           Vardenis, Gegharkunik, Armenia   \n",
       "\n",
       "                                   country  \\\n",
       "0                                      NaN   \n",
       "1  Vardenis, Gegharkunik Province, Armenia   \n",
       "2  Vardenis, Gegharkunik Province, Armenia   \n",
       "3          Tsapatagh, Gegharkunik, Armenia   \n",
       "4      Vayk, Vayots Dzor Province, Armenia   \n",
       "5           Vardenis, Gegharkunik, Armenia   \n",
       "\n",
       "                                          name  \\\n",
       "0                                          NaN   \n",
       "1                                Anna 'S House   \n",
       "2                                        Hotel   \n",
       "3           Cozy lodge overlooking Lake Sevan.   \n",
       "4  Cozy house in wonderful nature of Karvachar   \n",
       "5                       Guest haus in Vardenis   \n",
       "\n",
       "                                          properties  \n",
       "0                                                NaN  \n",
       "1  What this place offers\\nBathroom\\nHair dryer\\n...  \n",
       "2  What this place offers\\nBathroom\\nHair dryer\\n...  \n",
       "3  What this place offers\\nBathroom\\nHair dryer\\n...  \n",
       "4  What this place offers\\nBathroom\\nHair dryer\\n...  \n",
       "5  Amenities\\nBathroom\\nHair dryer\\nHot water\\nBe...  "
      ]
     },
     "execution_count": 2,
     "metadata": {},
     "output_type": "execute_result"
    }
   ],
   "source": [
    "properties_Vardenis = pd.read_csv('properties_Vardenis.csv')\n",
    "properties_Vardenis"
   ]
  },
  {
   "cell_type": "code",
   "execution_count": 3,
   "id": "cd8b78f5",
   "metadata": {},
   "outputs": [
    {
     "data": {
      "text/html": [
       "<div>\n",
       "<style scoped>\n",
       "    .dataframe tbody tr th:only-of-type {\n",
       "        vertical-align: middle;\n",
       "    }\n",
       "\n",
       "    .dataframe tbody tr th {\n",
       "        vertical-align: top;\n",
       "    }\n",
       "\n",
       "    .dataframe thead th {\n",
       "        text-align: right;\n",
       "    }\n",
       "</style>\n",
       "<table border=\"1\" class=\"dataframe\">\n",
       "  <thead>\n",
       "    <tr style=\"text-align: right;\">\n",
       "      <th></th>\n",
       "      <th>city</th>\n",
       "      <th>country</th>\n",
       "      <th>name</th>\n",
       "      <th>properties</th>\n",
       "    </tr>\n",
       "  </thead>\n",
       "  <tbody>\n",
       "    <tr>\n",
       "      <th>1</th>\n",
       "      <td>Vardenis, Gegharkunik Province, Armenia</td>\n",
       "      <td>Vardenis, Gegharkunik Province, Armenia</td>\n",
       "      <td>Anna 'S House</td>\n",
       "      <td>What this place offers\\nBathroom\\nHair dryer\\n...</td>\n",
       "    </tr>\n",
       "    <tr>\n",
       "      <th>2</th>\n",
       "      <td>Vardenis, Gegharkunik Province, Armenia</td>\n",
       "      <td>Vardenis, Gegharkunik Province, Armenia</td>\n",
       "      <td>Hotel</td>\n",
       "      <td>What this place offers\\nBathroom\\nHair dryer\\n...</td>\n",
       "    </tr>\n",
       "    <tr>\n",
       "      <th>3</th>\n",
       "      <td>Tsapatagh, Gegharkunik, Armenia</td>\n",
       "      <td>Tsapatagh, Gegharkunik, Armenia</td>\n",
       "      <td>Cozy lodge overlooking Lake Sevan.</td>\n",
       "      <td>What this place offers\\nBathroom\\nHair dryer\\n...</td>\n",
       "    </tr>\n",
       "    <tr>\n",
       "      <th>4</th>\n",
       "      <td>Vayk, Vayots Dzor Province, Armenia</td>\n",
       "      <td>Vayk, Vayots Dzor Province, Armenia</td>\n",
       "      <td>Cozy house in wonderful nature of Karvachar</td>\n",
       "      <td>What this place offers\\nBathroom\\nHair dryer\\n...</td>\n",
       "    </tr>\n",
       "    <tr>\n",
       "      <th>5</th>\n",
       "      <td>Vardenis, Gegharkunik, Armenia</td>\n",
       "      <td>Vardenis, Gegharkunik, Armenia</td>\n",
       "      <td>Guest haus in Vardenis</td>\n",
       "      <td>Amenities\\nBathroom\\nHair dryer\\nHot water\\nBe...</td>\n",
       "    </tr>\n",
       "  </tbody>\n",
       "</table>\n",
       "</div>"
      ],
      "text/plain": [
       "                                      city  \\\n",
       "1  Vardenis, Gegharkunik Province, Armenia   \n",
       "2  Vardenis, Gegharkunik Province, Armenia   \n",
       "3          Tsapatagh, Gegharkunik, Armenia   \n",
       "4      Vayk, Vayots Dzor Province, Armenia   \n",
       "5           Vardenis, Gegharkunik, Armenia   \n",
       "\n",
       "                                   country  \\\n",
       "1  Vardenis, Gegharkunik Province, Armenia   \n",
       "2  Vardenis, Gegharkunik Province, Armenia   \n",
       "3          Tsapatagh, Gegharkunik, Armenia   \n",
       "4      Vayk, Vayots Dzor Province, Armenia   \n",
       "5           Vardenis, Gegharkunik, Armenia   \n",
       "\n",
       "                                          name  \\\n",
       "1                                Anna 'S House   \n",
       "2                                        Hotel   \n",
       "3           Cozy lodge overlooking Lake Sevan.   \n",
       "4  Cozy house in wonderful nature of Karvachar   \n",
       "5                       Guest haus in Vardenis   \n",
       "\n",
       "                                          properties  \n",
       "1  What this place offers\\nBathroom\\nHair dryer\\n...  \n",
       "2  What this place offers\\nBathroom\\nHair dryer\\n...  \n",
       "3  What this place offers\\nBathroom\\nHair dryer\\n...  \n",
       "4  What this place offers\\nBathroom\\nHair dryer\\n...  \n",
       "5  Amenities\\nBathroom\\nHair dryer\\nHot water\\nBe...  "
      ]
     },
     "execution_count": 3,
     "metadata": {},
     "output_type": "execute_result"
    }
   ],
   "source": [
    "properties_Vardenis = properties_Vardenis.drop(labels = 0, axis = 0)\n",
    "properties_Vardenis"
   ]
  },
  {
   "cell_type": "code",
   "execution_count": null,
   "id": "91241e32",
   "metadata": {},
   "outputs": [],
   "source": []
  },
  {
   "cell_type": "code",
   "execution_count": 4,
   "id": "b67426be",
   "metadata": {},
   "outputs": [
    {
     "data": {
      "text/plain": [
       "1    Vardenis Gegharkunik Province \n",
       "2    Vardenis Gegharkunik Province \n",
       "3            Tsapatagh Gegharkunik \n",
       "4        Vayk Vayots Dzor Province \n",
       "5             Vardenis Gegharkunik \n",
       "Name: city, dtype: object"
      ]
     },
     "execution_count": 4,
     "metadata": {},
     "output_type": "execute_result"
    }
   ],
   "source": [
    "city_list = []\n",
    "for i in properties_Vardenis.index:\n",
    "    text = re.sub(\",\", \"\", properties_Vardenis[\"city\"][i][:properties_Vardenis[\"city\"][i].index(\"Armenia\")])\n",
    "    city_list.append(text)\n",
    "properties_Vardenis[\"city\"]= city_list\n",
    "properties_Vardenis[\"city\"]"
   ]
  },
  {
   "cell_type": "code",
   "execution_count": 5,
   "id": "5683e1aa",
   "metadata": {},
   "outputs": [
    {
     "data": {
      "text/html": [
       "<div>\n",
       "<style scoped>\n",
       "    .dataframe tbody tr th:only-of-type {\n",
       "        vertical-align: middle;\n",
       "    }\n",
       "\n",
       "    .dataframe tbody tr th {\n",
       "        vertical-align: top;\n",
       "    }\n",
       "\n",
       "    .dataframe thead th {\n",
       "        text-align: right;\n",
       "    }\n",
       "</style>\n",
       "<table border=\"1\" class=\"dataframe\">\n",
       "  <thead>\n",
       "    <tr style=\"text-align: right;\">\n",
       "      <th></th>\n",
       "      <th>city</th>\n",
       "      <th>country</th>\n",
       "      <th>name</th>\n",
       "      <th>properties</th>\n",
       "    </tr>\n",
       "  </thead>\n",
       "  <tbody>\n",
       "    <tr>\n",
       "      <th>1</th>\n",
       "      <td>Vardenis Gegharkunik Province</td>\n",
       "      <td>Vardenis, Gegharkunik Province, Armenia</td>\n",
       "      <td>Anna 'S House</td>\n",
       "      <td>What this place offers\\nBathroom\\nHair dryer\\n...</td>\n",
       "    </tr>\n",
       "    <tr>\n",
       "      <th>2</th>\n",
       "      <td>Vardenis Gegharkunik Province</td>\n",
       "      <td>Vardenis, Gegharkunik Province, Armenia</td>\n",
       "      <td>Hotel</td>\n",
       "      <td>What this place offers\\nBathroom\\nHair dryer\\n...</td>\n",
       "    </tr>\n",
       "    <tr>\n",
       "      <th>3</th>\n",
       "      <td>Tsapatagh Gegharkunik</td>\n",
       "      <td>Tsapatagh, Gegharkunik, Armenia</td>\n",
       "      <td>Cozy lodge overlooking Lake Sevan.</td>\n",
       "      <td>What this place offers\\nBathroom\\nHair dryer\\n...</td>\n",
       "    </tr>\n",
       "    <tr>\n",
       "      <th>4</th>\n",
       "      <td>Vayk Vayots Dzor Province</td>\n",
       "      <td>Vayk, Vayots Dzor Province, Armenia</td>\n",
       "      <td>Cozy house in wonderful nature of Karvachar</td>\n",
       "      <td>What this place offers\\nBathroom\\nHair dryer\\n...</td>\n",
       "    </tr>\n",
       "    <tr>\n",
       "      <th>5</th>\n",
       "      <td>Vardenis Gegharkunik</td>\n",
       "      <td>Vardenis, Gegharkunik, Armenia</td>\n",
       "      <td>Guest haus in Vardenis</td>\n",
       "      <td>Amenities\\nBathroom\\nHair dryer\\nHot water\\nBe...</td>\n",
       "    </tr>\n",
       "  </tbody>\n",
       "</table>\n",
       "</div>"
      ],
      "text/plain": [
       "                             city                                  country  \\\n",
       "1  Vardenis Gegharkunik Province   Vardenis, Gegharkunik Province, Armenia   \n",
       "2  Vardenis Gegharkunik Province   Vardenis, Gegharkunik Province, Armenia   \n",
       "3          Tsapatagh Gegharkunik           Tsapatagh, Gegharkunik, Armenia   \n",
       "4      Vayk Vayots Dzor Province       Vayk, Vayots Dzor Province, Armenia   \n",
       "5           Vardenis Gegharkunik            Vardenis, Gegharkunik, Armenia   \n",
       "\n",
       "                                          name  \\\n",
       "1                                Anna 'S House   \n",
       "2                                        Hotel   \n",
       "3           Cozy lodge overlooking Lake Sevan.   \n",
       "4  Cozy house in wonderful nature of Karvachar   \n",
       "5                       Guest haus in Vardenis   \n",
       "\n",
       "                                          properties  \n",
       "1  What this place offers\\nBathroom\\nHair dryer\\n...  \n",
       "2  What this place offers\\nBathroom\\nHair dryer\\n...  \n",
       "3  What this place offers\\nBathroom\\nHair dryer\\n...  \n",
       "4  What this place offers\\nBathroom\\nHair dryer\\n...  \n",
       "5  Amenities\\nBathroom\\nHair dryer\\nHot water\\nBe...  "
      ]
     },
     "execution_count": 5,
     "metadata": {},
     "output_type": "execute_result"
    }
   ],
   "source": [
    "nan_value = float(\"Nan\")\n",
    "properties_Vardenis.replace(\"\", nan_value, inplace = True)\n",
    "properties_Vardenis.dropna(inplace= True)\n",
    "properties_Vardenis"
   ]
  },
  {
   "cell_type": "code",
   "execution_count": 6,
   "id": "e3d7f632",
   "metadata": {},
   "outputs": [
    {
     "data": {
      "text/html": [
       "<div>\n",
       "<style scoped>\n",
       "    .dataframe tbody tr th:only-of-type {\n",
       "        vertical-align: middle;\n",
       "    }\n",
       "\n",
       "    .dataframe tbody tr th {\n",
       "        vertical-align: top;\n",
       "    }\n",
       "\n",
       "    .dataframe thead th {\n",
       "        text-align: right;\n",
       "    }\n",
       "</style>\n",
       "<table border=\"1\" class=\"dataframe\">\n",
       "  <thead>\n",
       "    <tr style=\"text-align: right;\">\n",
       "      <th></th>\n",
       "      <th>city</th>\n",
       "      <th>country</th>\n",
       "      <th>name</th>\n",
       "      <th>properties</th>\n",
       "    </tr>\n",
       "  </thead>\n",
       "  <tbody>\n",
       "    <tr>\n",
       "      <th>1</th>\n",
       "      <td>Vardenis</td>\n",
       "      <td>Vardenis, Gegharkunik Province, Armenia</td>\n",
       "      <td>Anna 'S House</td>\n",
       "      <td>What this place offers\\nBathroom\\nHair dryer\\n...</td>\n",
       "    </tr>\n",
       "    <tr>\n",
       "      <th>2</th>\n",
       "      <td>Vardenis</td>\n",
       "      <td>Vardenis, Gegharkunik Province, Armenia</td>\n",
       "      <td>Hotel</td>\n",
       "      <td>What this place offers\\nBathroom\\nHair dryer\\n...</td>\n",
       "    </tr>\n",
       "    <tr>\n",
       "      <th>3</th>\n",
       "      <td>Tsapatagh</td>\n",
       "      <td>Tsapatagh, Gegharkunik, Armenia</td>\n",
       "      <td>Cozy lodge overlooking Lake Sevan.</td>\n",
       "      <td>What this place offers\\nBathroom\\nHair dryer\\n...</td>\n",
       "    </tr>\n",
       "    <tr>\n",
       "      <th>4</th>\n",
       "      <td>Vayk</td>\n",
       "      <td>Vayk, Vayots Dzor Province, Armenia</td>\n",
       "      <td>Cozy house in wonderful nature of Karvachar</td>\n",
       "      <td>What this place offers\\nBathroom\\nHair dryer\\n...</td>\n",
       "    </tr>\n",
       "    <tr>\n",
       "      <th>5</th>\n",
       "      <td>Vardenis</td>\n",
       "      <td>Vardenis, Gegharkunik, Armenia</td>\n",
       "      <td>Guest haus in Vardenis</td>\n",
       "      <td>Amenities\\nBathroom\\nHair dryer\\nHot water\\nBe...</td>\n",
       "    </tr>\n",
       "  </tbody>\n",
       "</table>\n",
       "</div>"
      ],
      "text/plain": [
       "        city                                  country  \\\n",
       "1   Vardenis  Vardenis, Gegharkunik Province, Armenia   \n",
       "2   Vardenis  Vardenis, Gegharkunik Province, Armenia   \n",
       "3  Tsapatagh          Tsapatagh, Gegharkunik, Armenia   \n",
       "4       Vayk      Vayk, Vayots Dzor Province, Armenia   \n",
       "5   Vardenis           Vardenis, Gegharkunik, Armenia   \n",
       "\n",
       "                                          name  \\\n",
       "1                                Anna 'S House   \n",
       "2                                        Hotel   \n",
       "3           Cozy lodge overlooking Lake Sevan.   \n",
       "4  Cozy house in wonderful nature of Karvachar   \n",
       "5                       Guest haus in Vardenis   \n",
       "\n",
       "                                          properties  \n",
       "1  What this place offers\\nBathroom\\nHair dryer\\n...  \n",
       "2  What this place offers\\nBathroom\\nHair dryer\\n...  \n",
       "3  What this place offers\\nBathroom\\nHair dryer\\n...  \n",
       "4  What this place offers\\nBathroom\\nHair dryer\\n...  \n",
       "5  Amenities\\nBathroom\\nHair dryer\\nHot water\\nBe...  "
      ]
     },
     "execution_count": 6,
     "metadata": {},
     "output_type": "execute_result"
    }
   ],
   "source": [
    "c_l = []    \n",
    "for k in properties_Vardenis[\"city\"]:\n",
    "    tex = re.search(\"\\w+\", k).group()\n",
    "    c_l.append(tex)\n",
    "properties_Vardenis[\"city\"]= c_l\n",
    "properties_Vardenis"
   ]
  },
  {
   "cell_type": "code",
   "execution_count": 7,
   "id": "d798e275",
   "metadata": {},
   "outputs": [],
   "source": [
    "country_list = []\n",
    "for i in properties_Vardenis.index:\n",
    "    text = re.search(\"Armenia\", properties_Vardenis[\"country\"][i]).group(0)\n",
    "    country_list.append(text)\n",
    "\n",
    "properties_Vardenis[\"country\"] = country_list"
   ]
  },
  {
   "cell_type": "code",
   "execution_count": 8,
   "id": "89e1299c",
   "metadata": {},
   "outputs": [
    {
     "data": {
      "text/html": [
       "<div>\n",
       "<style scoped>\n",
       "    .dataframe tbody tr th:only-of-type {\n",
       "        vertical-align: middle;\n",
       "    }\n",
       "\n",
       "    .dataframe tbody tr th {\n",
       "        vertical-align: top;\n",
       "    }\n",
       "\n",
       "    .dataframe thead th {\n",
       "        text-align: right;\n",
       "    }\n",
       "</style>\n",
       "<table border=\"1\" class=\"dataframe\">\n",
       "  <thead>\n",
       "    <tr style=\"text-align: right;\">\n",
       "      <th></th>\n",
       "      <th>city</th>\n",
       "      <th>country</th>\n",
       "      <th>name</th>\n",
       "      <th>properties</th>\n",
       "    </tr>\n",
       "  </thead>\n",
       "  <tbody>\n",
       "    <tr>\n",
       "      <th>1</th>\n",
       "      <td>Vardenis</td>\n",
       "      <td>Armenia</td>\n",
       "      <td>Anna 'S House</td>\n",
       "      <td>What this place offers\\nBathroom\\nHair dryer\\n...</td>\n",
       "    </tr>\n",
       "    <tr>\n",
       "      <th>2</th>\n",
       "      <td>Vardenis</td>\n",
       "      <td>Armenia</td>\n",
       "      <td>Hotel</td>\n",
       "      <td>What this place offers\\nBathroom\\nHair dryer\\n...</td>\n",
       "    </tr>\n",
       "    <tr>\n",
       "      <th>3</th>\n",
       "      <td>Tsapatagh</td>\n",
       "      <td>Armenia</td>\n",
       "      <td>Cozy lodge overlooking Lake Sevan.</td>\n",
       "      <td>What this place offers\\nBathroom\\nHair dryer\\n...</td>\n",
       "    </tr>\n",
       "    <tr>\n",
       "      <th>4</th>\n",
       "      <td>Vayk</td>\n",
       "      <td>Armenia</td>\n",
       "      <td>Cozy house in wonderful nature of Karvachar</td>\n",
       "      <td>What this place offers\\nBathroom\\nHair dryer\\n...</td>\n",
       "    </tr>\n",
       "    <tr>\n",
       "      <th>5</th>\n",
       "      <td>Vardenis</td>\n",
       "      <td>Armenia</td>\n",
       "      <td>Guest haus in Vardenis</td>\n",
       "      <td>Amenities\\nBathroom\\nHair dryer\\nHot water\\nBe...</td>\n",
       "    </tr>\n",
       "  </tbody>\n",
       "</table>\n",
       "</div>"
      ],
      "text/plain": [
       "        city  country                                         name  \\\n",
       "1   Vardenis  Armenia                                Anna 'S House   \n",
       "2   Vardenis  Armenia                                        Hotel   \n",
       "3  Tsapatagh  Armenia           Cozy lodge overlooking Lake Sevan.   \n",
       "4       Vayk  Armenia  Cozy house in wonderful nature of Karvachar   \n",
       "5   Vardenis  Armenia                       Guest haus in Vardenis   \n",
       "\n",
       "                                          properties  \n",
       "1  What this place offers\\nBathroom\\nHair dryer\\n...  \n",
       "2  What this place offers\\nBathroom\\nHair dryer\\n...  \n",
       "3  What this place offers\\nBathroom\\nHair dryer\\n...  \n",
       "4  What this place offers\\nBathroom\\nHair dryer\\n...  \n",
       "5  Amenities\\nBathroom\\nHair dryer\\nHot water\\nBe...  "
      ]
     },
     "execution_count": 8,
     "metadata": {},
     "output_type": "execute_result"
    }
   ],
   "source": [
    "properties_Vardenis"
   ]
  },
  {
   "cell_type": "code",
   "execution_count": 9,
   "id": "fdee84d8",
   "metadata": {},
   "outputs": [
    {
     "data": {
      "text/plain": [
       "['What this place offers Bathroom Hair dryer Shampoo Bedroom and laundry Washer Essentials Towels, bed sheets, soap, and toilet paper Hangers Iron Entertainment TV Suitable for events The listing can accommodate a gathering of 25 or more attendees Heating and cooling Air conditioning Indoor fireplace Heating Internet and office Wifi Available throughout the listing Kitchen and dining Kitchen Space where guests can cook their own meals Parking and facilities Free parking on premises Services Long term stays allowed Allow stay for 28 days or more ',\n",
       " 'What this place offers Bathroom Hair dryer Shampoo Bedroom and laundry Washer Essentials Towels, bed sheets, soap, and toilet paper Hangers Iron Entertainment TV Heating and cooling Heating Home safety Fire extinguisher Lock on bedroom door Private room can be locked for safety and privacy First aid kit Internet and office Wifi Available throughout the listing Dedicated workspace Parking and facilities Free parking on premises Private living room Services Breakfast Breakfast is provided Smoking allowed ',\n",
       " 'What this place offers Bathroom Hair dryer Hot water Bedroom and laundry Washer Essentials Towels, bed sheets, soap, and toilet paper Bed linens Extra pillows and blankets Iron Entertainment TV Home safety Lock on bedroom door Private room can be locked for safety and privacy First aid kit Internet and office Wifi Available throughout the listing Kitchen and dining Kitchen Space where guests can cook their own meals Location features Private entrance Separate street or building entrance Parking and facilities Free parking on premises Services Breakfast Breakfast is provided Host greets you ',\n",
       " 'What this place offers Bathroom Hair dryer Shampoo Bedroom and laundry Washer Essentials Towels, bed sheets, soap, and toilet paper Hangers Iron Entertainment TV Heating and cooling Heating Home safety First aid kit Internet and office Wifi Available throughout the listing Dedicated workspace Kitchen and dining Kitchen Space where guests can cook their own meals Parking and facilities Free parking on premises Free street parking Services Breakfast Breakfast is provided ',\n",
       " \"Amenities Bathroom Hair dryer Hot water Bedroom and laundry Washer Essentials Towels, bed sheets, soap, and toilet paper Iron Room-darkening shades Bed linens Extra pillows and blankets Entertainment TV Family Outlet covers Baby bath Changing table High chair Children’s books and toys Fireplace guards Crib Heating and cooling Indoor fireplace Heating Home safety Smoke alarm Carbon monoxide alarm First aid kit Fire extinguisher Internet and office Wifi Available throughout the listing Dedicated workspace Kitchen and dining Kitchen Space where guests can cook their own meals Microwave Coffee maker Refrigerator Dishes and silverware Cooking basics Pots and pans, oil, salt and pepper Oven Stove Location features Waterfront Right next to a body of water Lake access Guests can get to a lake using a path or dock Beachfront Ski-in/Ski-out Guests can access ski lifts without driving or taking paid transportation Outdoor BBQ grill Patio or balcony Backyard An open space on the property usually covered in grass Parking and facilities Free parking on premises Free street parking Single level home No stairs in home Services Breakfast Breakfast is provided Building staff Someone is available 24 hours a day to let guests in Luggage dropoff allowed For guests' convenience when they have early arrival or late departure Long term stays allowed Allow stay for 28 days or more Cleaning before checkout \"]"
      ]
     },
     "execution_count": 9,
     "metadata": {},
     "output_type": "execute_result"
    }
   ],
   "source": [
    "property_list = []\n",
    "for i in properties_Vardenis.index:\n",
    "    tex= re.sub(\"\\n\", \" \",properties_Vardenis[\"properties\"][i].split(\"Not included\")[0])\n",
    "    property_list.append(tex)\n",
    "property_list"
   ]
  },
  {
   "cell_type": "code",
   "execution_count": 10,
   "id": "2c40e1d3",
   "metadata": {},
   "outputs": [],
   "source": [
    "properties_Vardenis[\"properties\"] = property_list"
   ]
  },
  {
   "cell_type": "code",
   "execution_count": 11,
   "id": "ddc22b0e",
   "metadata": {},
   "outputs": [],
   "source": [
    "for i in properties_Vardenis.index:\n",
    "    if \"Air conditioning\" in  properties_Vardenis.properties[i]:\n",
    "        properties_Vardenis.loc[i, 'Air conditioning'] = 1\n",
    "    else:\n",
    "        properties_Vardenis.loc[i, 'Air conditioning'] = 0"
   ]
  },
  {
   "cell_type": "code",
   "execution_count": 12,
   "id": "ab2e3bb8",
   "metadata": {},
   "outputs": [],
   "source": [
    "for i in properties_Vardenis.index:\n",
    "    if \"BBQ grill\" in  properties_Vardenis.properties[i]:\n",
    "        properties_Vardenis.loc[i, 'BBQ grill'] = 1\n",
    "    else:\n",
    "        properties_Vardenis.loc[i, 'BBQ grill'] = 0"
   ]
  },
  {
   "cell_type": "code",
   "execution_count": 13,
   "id": "01b46ddf",
   "metadata": {},
   "outputs": [],
   "source": [
    "for i in properties_Vardenis.index:\n",
    "    if 'Baby safety gates' in  properties_Vardenis.properties[i]:\n",
    "        properties_Vardenis.loc[i, 'Baby safety gates'] = 1\n",
    "    else:\n",
    "        properties_Vardenis.loc[i, 'Baby safety gates'] = 0"
   ]
  },
  {
   "cell_type": "code",
   "execution_count": 14,
   "id": "8f480ece",
   "metadata": {},
   "outputs": [],
   "source": [
    "for i in properties_Vardenis.index:\n",
    "    if 'Backyard' in  properties_Vardenis.properties[i]:\n",
    "        properties_Vardenis.loc[i, 'Backyard'] = 1\n",
    "    else:\n",
    "        properties_Vardenis.loc[i, 'Backyard'] = 0"
   ]
  },
  {
   "cell_type": "code",
   "execution_count": 15,
   "id": "bd672355",
   "metadata": {},
   "outputs": [],
   "source": [
    "for i in properties_Vardenis.index:\n",
    "    if 'Baking sheet' in  properties_Vardenis.properties[i]:\n",
    "        properties_Vardenis.loc[i, 'Baking sheet'] = 1\n",
    "    else:\n",
    "        properties_Vardenis.loc[i, 'Baking sheet'] = 0"
   ]
  },
  {
   "cell_type": "code",
   "execution_count": 16,
   "id": "aab3ca21",
   "metadata": {},
   "outputs": [],
   "source": [
    "for i in properties_Vardenis.index:\n",
    "    if 'Bathtub' in  properties_Vardenis.properties[i]:\n",
    "        properties_Vardenis.loc[i, 'Bathtub'] = 1\n",
    "    else:\n",
    "        properties_Vardenis.loc[i, 'Bathtub'] = 0"
   ]
  },
  {
   "cell_type": "code",
   "execution_count": 17,
   "id": "dde3195e",
   "metadata": {},
   "outputs": [],
   "source": [
    "for i in properties_Vardenis.index:\n",
    "    if 'Bed linens' in  properties_Vardenis.properties[i]:\n",
    "        properties_Vardenis.loc[i, 'Bed linens'] = 1\n",
    "    else:\n",
    "        properties_Vardenis.loc[i, 'Bed linens'] = 0"
   ]
  },
  {
   "cell_type": "code",
   "execution_count": 18,
   "id": "6a83a732",
   "metadata": {},
   "outputs": [],
   "source": [
    "for i in properties_Vardenis.index:\n",
    "    if 'Bidet' in  properties_Vardenis.properties[i]:\n",
    "        properties_Vardenis.loc[i, 'Bidet'] = 1\n",
    "    else:\n",
    "        properties_Vardenis.loc[i, 'Bidet'] = 0"
   ]
  },
  {
   "cell_type": "code",
   "execution_count": 19,
   "id": "20236bee",
   "metadata": {},
   "outputs": [],
   "source": [
    "for i in properties_Vardenis.index:\n",
    "    if 'Body soap' in  properties_Vardenis.properties[i]:\n",
    "        properties_Vardenis.loc[i, 'Body soap'] = 1\n",
    "    else:\n",
    "        properties_Vardenis.loc[i, 'Body soap'] = 0"
   ]
  },
  {
   "cell_type": "code",
   "execution_count": 20,
   "id": "c0bb9bdd",
   "metadata": {},
   "outputs": [],
   "source": [
    "for i in properties_Vardenis.index:\n",
    "    if 'Books and reading material' in  properties_Vardenis.properties[i]:\n",
    "        properties_Vardenis.loc[i, 'Books and reading material'] = 1\n",
    "    else:\n",
    "        properties_Vardenis.loc[i, 'Books and reading material'] = 0"
   ]
  },
  {
   "cell_type": "code",
   "execution_count": 21,
   "id": "8134e5ca",
   "metadata": {},
   "outputs": [],
   "source": [
    "for i in properties_Vardenis.index:\n",
    "    if 'Breakfast' in  properties_Vardenis.properties[i]:\n",
    "        properties_Vardenis.loc[i, 'Breakfast'] = 1\n",
    "    else:\n",
    "        properties_Vardenis.loc[i, 'Breakfast'] = 0"
   ]
  },
  {
   "cell_type": "code",
   "execution_count": 22,
   "id": "5c9a56f5",
   "metadata": {},
   "outputs": [],
   "source": [
    "for i in properties_Vardenis.index:\n",
    "    if 'Carbon monoxide alarm' in  properties_Vardenis.properties[i]:\n",
    "        properties_Vardenis.loc[i, 'Carbon monoxide alarm'] = 1\n",
    "    else:\n",
    "        properties_Vardenis.loc[i, 'Carbon monoxide alarm'] = 0"
   ]
  },
  {
   "cell_type": "code",
   "execution_count": 23,
   "id": "96d8833c",
   "metadata": {},
   "outputs": [],
   "source": [
    "for i in properties_Vardenis.index:\n",
    "    if 'Ceiling fan' in  properties_Vardenis.properties[i]:\n",
    "        properties_Vardenis.loc[i, 'Ceiling fan'] = 1\n",
    "    else:\n",
    "        properties_Vardenis.loc[i, 'Ceiling fan'] = 0"
   ]
  },
  {
   "cell_type": "code",
   "execution_count": 24,
   "id": "31ff586a",
   "metadata": {},
   "outputs": [],
   "source": [
    "for i in properties_Vardenis.index:\n",
    "    if 'Central heating' in  properties_Vardenis.properties[i]:\n",
    "        properties_Vardenis.loc[i, 'Central heating'] = 1\n",
    "    else:\n",
    "        properties_Vardenis.loc[i, 'Central heating'] = 0"
   ]
  },
  {
   "cell_type": "code",
   "execution_count": 25,
   "id": "25c7f7ef",
   "metadata": {},
   "outputs": [],
   "source": [
    "for i in properties_Vardenis.index:\n",
    "    if 'Children’s books and toys' in  properties_Vardenis.properties[i]:\n",
    "        properties_Vardenis.loc[i, 'Children’s books and toys'] = 1\n",
    "    else:\n",
    "        properties_Vardenis.loc[i, 'Children’s books and toys'] = 0"
   ]
  },
  {
   "cell_type": "code",
   "execution_count": 26,
   "id": "ddb25563",
   "metadata": {},
   "outputs": [],
   "source": [
    "for i in properties_Vardenis.index:\n",
    "    if 'Cleaning products' in  properties_Vardenis.properties[i]:\n",
    "        properties_Vardenis.loc[i, 'Cleaning products'] = 1\n",
    "    else:\n",
    "        properties_Vardenis.loc[i, 'Cleaning products'] = 0"
   ]
  },
  {
   "cell_type": "code",
   "execution_count": 27,
   "id": "a8815cf5",
   "metadata": {},
   "outputs": [],
   "source": [
    "for i in properties_Vardenis.index:\n",
    "    if 'Clothing storage' in  properties_Vardenis.properties[i]:\n",
    "        properties_Vardenis.loc[i, 'Clothing storage'] = 1\n",
    "    else:\n",
    "        properties_Vardenis.loc[i, 'Clothing storage'] = 0"
   ]
  },
  {
   "cell_type": "code",
   "execution_count": 28,
   "id": "89ed6b5f",
   "metadata": {},
   "outputs": [],
   "source": [
    "for i in properties_Vardenis.index:\n",
    "    if 'Coffee' in  properties_Vardenis.properties[i]:\n",
    "        properties_Vardenis.loc[i, 'Coffee'] = 1\n",
    "    else:\n",
    "        properties_Vardenis.loc[i, 'Coffee'] = 0"
   ]
  },
  {
   "cell_type": "code",
   "execution_count": 29,
   "id": "716f9c9f",
   "metadata": {},
   "outputs": [],
   "source": [
    "for i in properties_Vardenis.index:\n",
    "    if 'Coffee maker' in  properties_Vardenis.properties[i]:\n",
    "        properties_Vardenis.loc[i, 'Coffee maker'] = 1\n",
    "    else:\n",
    "        properties_Vardenis.loc[i, 'Coffee maker'] = 0"
   ]
  },
  {
   "cell_type": "code",
   "execution_count": 30,
   "id": "135d343b",
   "metadata": {},
   "outputs": [],
   "source": [
    "for i in properties_Vardenis.index:\n",
    "    if 'Conditioner' in  properties_Vardenis.properties[i]:\n",
    "        properties_Vardenis.loc[i, 'Conditioner'] = 1\n",
    "    else:\n",
    "        properties_Vardenis.loc[i, 'Conditioner'] = 0"
   ]
  },
  {
   "cell_type": "code",
   "execution_count": 31,
   "id": "ba81d225",
   "metadata": {},
   "outputs": [],
   "source": [
    "for i in properties_Vardenis.index:\n",
    "    if 'Cooking basics' in  properties_Vardenis.properties[i]:\n",
    "        properties_Vardenis.loc[i, 'Cooking basics'] = 1\n",
    "    else:\n",
    "        properties_Vardenis.loc[i, 'Cooking basics'] = 0"
   ]
  },
  {
   "cell_type": "code",
   "execution_count": 32,
   "id": "1b953f2b",
   "metadata": {},
   "outputs": [],
   "source": [
    "for i in properties_Vardenis.index:\n",
    "    if 'Crib' in  properties_Vardenis.properties[i]:\n",
    "        properties_Vardenis.loc[i, 'Crib'] = 1\n",
    "    else:\n",
    "        properties_Vardenis.loc[i, 'Crib'] = 0"
   ]
  },
  {
   "cell_type": "code",
   "execution_count": 33,
   "id": "3abcf2a2",
   "metadata": {},
   "outputs": [],
   "source": [
    "for i in properties_Vardenis.index:\n",
    "    if 'Dedicated workspace' in  properties_Vardenis.properties[i]:\n",
    "        properties_Vardenis.loc[i, 'Dedicated workspace'] = 1\n",
    "    else:\n",
    "        properties_Vardenis.loc[i, 'Dedicated workspace'] = 0"
   ]
  },
  {
   "cell_type": "code",
   "execution_count": 34,
   "id": "f86ac2d0",
   "metadata": {},
   "outputs": [],
   "source": [
    "for i in properties_Vardenis.index:\n",
    "    if 'Dining table' in  properties_Vardenis.properties[i]:\n",
    "        properties_Vardenis.loc[i, 'Dining table'] = 1\n",
    "    else:\n",
    "        properties_Vardenis.loc[i, 'Dining table'] = 0"
   ]
  },
  {
   "cell_type": "code",
   "execution_count": 35,
   "id": "955ec98f",
   "metadata": {},
   "outputs": [],
   "source": [
    "for i in properties_Vardenis.index:\n",
    "    if 'Dishes and silverware' in  properties_Vardenis.properties[i]:\n",
    "        properties_Vardenis.loc[i, 'Dishes and silverware'] = 1\n",
    "    else:\n",
    "        properties_Vardenis.loc[i, 'Dishes and silverware'] = 0"
   ]
  },
  {
   "cell_type": "code",
   "execution_count": 36,
   "id": "485a6941",
   "metadata": {},
   "outputs": [],
   "source": [
    "for i in properties_Vardenis.index:\n",
    "    if 'Dishwasher' in  properties_Vardenis.properties[i]:\n",
    "        properties_Vardenis.loc[i, 'Dishwasher'] = 1\n",
    "    else:\n",
    "        properties_Vardenis.loc[i, 'Dishwasher'] = 0"
   ]
  },
  {
   "cell_type": "code",
   "execution_count": 37,
   "id": "da95e658",
   "metadata": {},
   "outputs": [],
   "source": [
    "for i in properties_Vardenis.index:\n",
    "    if 'Dryer' in  properties_Vardenis.properties[i]:\n",
    "        properties_Vardenis.loc[i, 'Dryer'] = 1\n",
    "    else:\n",
    "        properties_Vardenis.loc[i, 'Dryer'] = 0"
   ]
  },
  {
   "cell_type": "code",
   "execution_count": 38,
   "id": "32cac040",
   "metadata": {},
   "outputs": [],
   "source": [
    "for i in properties_Vardenis.index:\n",
    "    if 'Drying rack for clothing' in  properties_Vardenis.properties[i]:\n",
    "        properties_Vardenis.loc[i, 'Drying rack for clothing'] = 1\n",
    "    else:\n",
    "        properties_Vardenis.loc[i, 'Drying rack for clothing'] = 0"
   ]
  },
  {
   "cell_type": "code",
   "execution_count": 39,
   "id": "a8ba481c",
   "metadata": {},
   "outputs": [],
   "source": [
    "for i in properties_Vardenis.index:\n",
    "    if 'Elevator' in  properties_Vardenis.properties[i]:\n",
    "        properties_Vardenis.loc[i, 'Elevator'] = 1\n",
    "    else:\n",
    "        properties_Vardenis.loc[i, 'Elevator'] = 0"
   ]
  },
  {
   "cell_type": "code",
   "execution_count": 40,
   "id": "fe1ab5f5",
   "metadata": {},
   "outputs": [],
   "source": [
    "for i in properties_Vardenis.index:\n",
    "    if 'Essentials' in  properties_Vardenis.properties[i]:\n",
    "        properties_Vardenis.loc[i, 'Essentials'] = 1\n",
    "    else:\n",
    "        properties_Vardenis.loc[i, 'Essentials'] = 0"
   ]
  },
  {
   "cell_type": "code",
   "execution_count": 41,
   "id": "2165ca37",
   "metadata": {},
   "outputs": [],
   "source": [
    "for i in properties_Vardenis.index:\n",
    "    if 'Ethernet connection' in  properties_Vardenis.properties[i]:\n",
    "        properties_Vardenis.loc[i, 'Ethernet connection'] = 1\n",
    "    else:\n",
    "        properties_Vardenis.loc[i, 'Ethernet connection'] = 0"
   ]
  },
  {
   "cell_type": "code",
   "execution_count": 42,
   "id": "59be9a72",
   "metadata": {},
   "outputs": [],
   "source": [
    "for i in properties_Vardenis.index:\n",
    "    if 'Extra pillows and blankets' in  properties_Vardenis.properties[i]:\n",
    "        properties_Vardenis.loc[i, 'Extra pillows and blankets'] = 1\n",
    "    else:\n",
    "        properties_Vardenis.loc[i, 'Extra pillows and blankets'] = 0"
   ]
  },
  {
   "cell_type": "code",
   "execution_count": 43,
   "id": "6053e100",
   "metadata": {},
   "outputs": [],
   "source": [
    "for i in properties_Vardenis.index:\n",
    "    if 'Fire extinguisher' in  properties_Vardenis.properties[i]:\n",
    "        properties_Vardenis.loc[i, 'Fire extinguisher'] = 1\n",
    "    else:\n",
    "        properties_Vardenis.loc[i, 'Fire extinguisher'] = 0"
   ]
  },
  {
   "cell_type": "code",
   "execution_count": 44,
   "id": "cbbe7b53",
   "metadata": {},
   "outputs": [],
   "source": [
    "for i in properties_Vardenis.index:\n",
    "    if 'First aid kit' in  properties_Vardenis.properties[i]:\n",
    "        properties_Vardenis.loc[i, 'First aid kit'] = 1\n",
    "    else:\n",
    "        properties_Vardenis.loc[i, 'First aid kit'] = 0"
   ]
  },
  {
   "cell_type": "code",
   "execution_count": 45,
   "id": "a4a6359c",
   "metadata": {},
   "outputs": [],
   "source": [
    "for i in properties_Vardenis.index:\n",
    "    if 'Free driveway parking on premises' in  properties_Vardenis.properties[i]:\n",
    "        properties_Vardenis.loc[i, 'Free driveway parking on premises'] = 1\n",
    "    else:\n",
    "        properties_Vardenis.loc[i, 'Free driveway parking on premises'] = 0"
   ]
  },
  {
   "cell_type": "code",
   "execution_count": 46,
   "id": "e2efae68",
   "metadata": {},
   "outputs": [],
   "source": [
    "for i in properties_Vardenis.index:\n",
    "    if 'Free street parking' in  properties_Vardenis.properties[i]:\n",
    "        properties_Vardenis.loc[i, 'Free street parking'] = 1\n",
    "    else:\n",
    "        properties_Vardenis.loc[i, 'Free street parking'] = 0"
   ]
  },
  {
   "cell_type": "code",
   "execution_count": 47,
   "id": "15fcde62",
   "metadata": {},
   "outputs": [],
   "source": [
    "for i in properties_Vardenis.index:\n",
    "    if 'Freezer' in  properties_Vardenis.properties[i]:\n",
    "        properties_Vardenis.loc[i, 'Freezer'] = 1\n",
    "    else:\n",
    "        properties_Vardenis.loc[i, 'Freezer'] = 0"
   ]
  },
  {
   "cell_type": "code",
   "execution_count": 48,
   "id": "ffa43195",
   "metadata": {},
   "outputs": [],
   "source": [
    "for i in properties_Vardenis.index:\n",
    "    if 'HDTV with Netflix, standard cable' in  properties_Vardenis.properties[i]:\n",
    "        properties_Vardenis.loc[i, 'HDTV with Netflix, standard cable'] = 1\n",
    "    else:\n",
    "        properties_Vardenis.loc[i, 'HDTV with Netflix, standard cable'] = 0"
   ]
  },
  {
   "cell_type": "code",
   "execution_count": 49,
   "id": "ec62c431",
   "metadata": {},
   "outputs": [],
   "source": [
    "for i in properties_Vardenis.index:\n",
    "    if 'Hair dryer' in  properties_Vardenis.properties[i]:\n",
    "        properties_Vardenis.loc[i, 'Hair dryer'] = 1\n",
    "    else:\n",
    "        properties_Vardenis.loc[i, 'Hair dryer'] = 0"
   ]
  },
  {
   "cell_type": "code",
   "execution_count": 50,
   "id": "b2427bc0",
   "metadata": {},
   "outputs": [],
   "source": [
    "for i in properties_Vardenis.index:\n",
    "    if 'Hangers' in  properties_Vardenis.properties[i]:\n",
    "        properties_Vardenis.loc[i, 'Hangers'] = 1\n",
    "    else:\n",
    "        properties_Vardenis.loc[i, 'Hangers'] = 0"
   ]
  },
  {
   "cell_type": "code",
   "execution_count": 51,
   "id": "150f8256",
   "metadata": {},
   "outputs": [],
   "source": [
    "for i in properties_Vardenis.index:\n",
    "    if 'Heating' in  properties_Vardenis.properties[i]:\n",
    "        properties_Vardenis.loc[i, 'Heating'] = 1\n",
    "    else:\n",
    "        properties_Vardenis.loc[i, 'Heating'] = 0"
   ]
  },
  {
   "cell_type": "code",
   "execution_count": 52,
   "id": "19162b02",
   "metadata": {},
   "outputs": [],
   "source": [
    "for i in properties_Vardenis.index:\n",
    "    if 'High chair' in  properties_Vardenis.properties[i]:\n",
    "        properties_Vardenis.loc[i, 'High chair'] = 1\n",
    "    else:\n",
    "        properties_Vardenis.loc[i, 'High chair'] = 0"
   ]
  },
  {
   "cell_type": "code",
   "execution_count": 53,
   "id": "cc5b73e8",
   "metadata": {},
   "outputs": [],
   "source": [
    "for i in properties_Vardenis.index:\n",
    "    if 'Hot water' in  properties_Vardenis.properties[i]:\n",
    "        properties_Vardenis.loc[i, 'Hot water'] = 1\n",
    "    else:\n",
    "        properties_Vardenis.loc[i, 'Hot water'] = 0"
   ]
  },
  {
   "cell_type": "code",
   "execution_count": 54,
   "id": "da87623d",
   "metadata": {},
   "outputs": [],
   "source": [
    "for i in properties_Vardenis.index:\n",
    "    if 'Hot water kettle' in  properties_Vardenis.properties[i]:\n",
    "        properties_Vardenis.loc[i, 'Hot water kettle'] = 1\n",
    "    else:\n",
    "        properties_Vardenis.loc[i, 'Hot water kettle'] = 0"
   ]
  },
  {
   "cell_type": "code",
   "execution_count": 55,
   "id": "afef3c25",
   "metadata": {},
   "outputs": [],
   "source": [
    "for i in properties_Vardenis.index:\n",
    "    if 'Indoor fireplace' in  properties_Vardenis.properties[i]:\n",
    "        properties_Vardenis.loc[i, 'Indoor fireplace'] = 1\n",
    "    else:\n",
    "        properties_Vardenis.loc[i, 'Indoor fireplace'] = 0"
   ]
  },
  {
   "cell_type": "code",
   "execution_count": 56,
   "id": "18e3cc15",
   "metadata": {},
   "outputs": [],
   "source": [
    "for i in properties_Vardenis.index:\n",
    "    if 'Iron' in  properties_Vardenis.properties[i]:\n",
    "        properties_Vardenis.loc[i, 'Iron'] = 1\n",
    "    else:\n",
    "        properties_Vardenis.loc[i, 'Iron'] = 0"
   ]
  },
  {
   "cell_type": "code",
   "execution_count": 57,
   "id": "23b4128c",
   "metadata": {},
   "outputs": [],
   "source": [
    "for i in properties_Vardenis.index:\n",
    "    if 'Kitchen' in  properties_Vardenis.properties[i]:\n",
    "        properties_Vardenis.loc[i, 'Kitchen'] = 1\n",
    "    else:\n",
    "        properties_Vardenis.loc[i, 'Kitchen'] = 0"
   ]
  },
  {
   "cell_type": "code",
   "execution_count": 58,
   "id": "addc3e6e",
   "metadata": {},
   "outputs": [],
   "source": [
    "for i in properties_Vardenis.index:\n",
    "    if 'Laundromat nearby' in  properties_Vardenis.properties[i]:\n",
    "        properties_Vardenis.loc[i, 'Laundromat nearby'] = 1\n",
    "    else:\n",
    "        properties_Vardenis.loc[i, 'Laundromat nearby'] = 0"
   ]
  },
  {
   "cell_type": "code",
   "execution_count": 59,
   "id": "0ebb2cec",
   "metadata": {},
   "outputs": [],
   "source": [
    "for i in properties_Vardenis.index:\n",
    "    if 'Lockbox' in  properties_Vardenis.properties[i]:\n",
    "        properties_Vardenis.loc[i, 'Lockbox'] = 1\n",
    "    else:\n",
    "        properties_Vardenis.loc[i, 'Lockbox'] = 0"
   ]
  },
  {
   "cell_type": "code",
   "execution_count": 60,
   "id": "5e3f1922",
   "metadata": {},
   "outputs": [],
   "source": [
    "for i in properties_Vardenis.index:\n",
    "    if 'Long term stays allowed' in  properties_Vardenis.properties[i]:\n",
    "        properties_Vardenis.loc[i, 'Long term stays allowed'] = 1\n",
    "    else:\n",
    "        properties_Vardenis.loc[i, 'Long term stays allowed'] = 0"
   ]
  },
  {
   "cell_type": "code",
   "execution_count": 61,
   "id": "880e191e",
   "metadata": {},
   "outputs": [],
   "source": [
    "for i in properties_Vardenis.index:\n",
    "    if 'Luggage dropoff allowed' in  properties_Vardenis.properties[i]:\n",
    "        properties_Vardenis.loc[i, 'Luggage dropoff allowed'] = 1\n",
    "    else:\n",
    "        properties_Vardenis.loc[i, 'Luggage dropoff allowed'] = 0"
   ]
  },
  {
   "cell_type": "code",
   "execution_count": 62,
   "id": "7d48864d",
   "metadata": {},
   "outputs": [],
   "source": [
    "for i in properties_Vardenis.index:\n",
    "    if 'Microwave' in  properties_Vardenis.properties[i]:\n",
    "        properties_Vardenis.loc[i, 'Microwave'] = 1\n",
    "    else:\n",
    "        properties_Vardenis.loc[i, 'Microwave'] = 0"
   ]
  },
  {
   "cell_type": "code",
   "execution_count": 63,
   "id": "6cfad30c",
   "metadata": {},
   "outputs": [],
   "source": [
    "for i in properties_Vardenis.index:\n",
    "    if 'Mini fridge' in  properties_Vardenis.properties[i]:\n",
    "        properties_Vardenis.loc[i, 'Mini fridge'] = 1\n",
    "    else:\n",
    "        properties_Vardenis.loc[i, 'Mini fridge'] = 0"
   ]
  },
  {
   "cell_type": "code",
   "execution_count": 64,
   "id": "326f8de2",
   "metadata": {},
   "outputs": [],
   "source": [
    "for i in properties_Vardenis.index:\n",
    "    if 'Mosquito net' in  properties_Vardenis.properties[i]:\n",
    "        properties_Vardenis.loc[i, 'Mosquito net'] = 1\n",
    "    else:\n",
    "        properties_Vardenis.loc[i, 'Mosquito net'] = 0"
   ]
  },
  {
   "cell_type": "code",
   "execution_count": 65,
   "id": "a74a5373",
   "metadata": {},
   "outputs": [],
   "source": [
    "for i in properties_Vardenis.index:\n",
    "    if 'Outdoor furniture' in  properties_Vardenis.properties[i]:\n",
    "        properties_Vardenis.loc[i, 'Outdoor furniture'] = 1\n",
    "    else:\n",
    "        properties_Vardenis.loc[i, 'Outdoor furniture'] = 0"
   ]
  },
  {
   "cell_type": "code",
   "execution_count": 66,
   "id": "ad174974",
   "metadata": {},
   "outputs": [],
   "source": [
    "for i in properties_Vardenis.index:\n",
    "    if 'Outlet covers' in  properties_Vardenis.properties[i]:\n",
    "        properties_Vardenis.loc[i, 'Outlet covers'] = 1\n",
    "    else:\n",
    "        properties_Vardenis.loc[i, 'Outlet covers'] = 0"
   ]
  },
  {
   "cell_type": "code",
   "execution_count": 67,
   "id": "60ef66d8",
   "metadata": {},
   "outputs": [],
   "source": [
    "for i in properties_Vardenis.index:\n",
    "    if 'Oven' in  properties_Vardenis.properties[i]:\n",
    "        properties_Vardenis.loc[i, 'Oven'] = 1\n",
    "    else:\n",
    "        properties_Vardenis.loc[i, 'Oven'] = 0"
   ]
  },
  {
   "cell_type": "code",
   "execution_count": 68,
   "id": "bce22a87",
   "metadata": {},
   "outputs": [],
   "source": [
    "for i in properties_Vardenis.index:\n",
    "    if 'Paid parking off premises' in  properties_Vardenis.properties[i]:\n",
    "        properties_Vardenis.loc[i, 'Paid parking off premises'] = 1\n",
    "    else:\n",
    "        properties_Vardenis.loc[i, 'Paid parking off premises'] = 0"
   ]
  },
  {
   "cell_type": "code",
   "execution_count": 69,
   "id": "e02ef1c9",
   "metadata": {},
   "outputs": [],
   "source": [
    "for i in properties_Vardenis.index:\n",
    "    if 'Paid parking on premises' in  properties_Vardenis.properties[i]:\n",
    "        properties_Vardenis.loc[i, 'Paid parking on premises'] = 1\n",
    "    else:\n",
    "        properties_Vardenis.loc[i, 'Paid parking on premises'] = 0"
   ]
  },
  {
   "cell_type": "code",
   "execution_count": 70,
   "id": "0706e936",
   "metadata": {},
   "outputs": [],
   "source": [
    "for i in properties_Vardenis.index:\n",
    "    if 'Patio or balcony' in  properties_Vardenis.properties[i]:\n",
    "        properties_Vardenis.loc[i, 'Patio or balcony'] = 1\n",
    "    else:\n",
    "        properties_Vardenis.loc[i, 'Patio or balcony'] = 0"
   ]
  },
  {
   "cell_type": "code",
   "execution_count": 71,
   "id": "9094e06a",
   "metadata": {},
   "outputs": [],
   "source": [
    "for i in properties_Vardenis.index:\n",
    "    if 'Portable fans' in  properties_Vardenis.properties[i]:\n",
    "        properties_Vardenis.loc[i, 'Portable fans'] = 1\n",
    "    else:\n",
    "        properties_Vardenis.loc[i, 'Portable fans'] = 0"
   ]
  },
  {
   "cell_type": "code",
   "execution_count": 72,
   "id": "a2de93a3",
   "metadata": {},
   "outputs": [],
   "source": [
    "for i in properties_Vardenis.index:\n",
    "    if 'Private entrance' in  properties_Vardenis.properties[i]:\n",
    "        properties_Vardenis.loc[i, 'Private entrance'] = 1\n",
    "    else:\n",
    "        properties_Vardenis.loc[i, 'Private entrance'] = 0"
   ]
  },
  {
   "cell_type": "code",
   "execution_count": 73,
   "id": "c08d0227",
   "metadata": {},
   "outputs": [],
   "source": [
    "for i in properties_Vardenis.index:\n",
    "    if 'Radiant heating' in  properties_Vardenis.properties[i]:\n",
    "        properties_Vardenis.loc[i, 'Radiant heating'] = 1\n",
    "    else:\n",
    "        properties_Vardenis.loc[i, 'Radiant heating'] = 0"
   ]
  },
  {
   "cell_type": "code",
   "execution_count": 74,
   "id": "dc367f0b",
   "metadata": {},
   "outputs": [],
   "source": [
    "for i in properties_Vardenis.index:\n",
    "    if 'Refrigerator' in  properties_Vardenis.properties[i]:\n",
    "        properties_Vardenis.loc[i, 'Refrigerator'] = 1\n",
    "    else:\n",
    "        properties_Vardenis.loc[i, 'Refrigerator'] = 0"
   ]
  },
  {
   "cell_type": "code",
   "execution_count": 75,
   "id": "091f0c64",
   "metadata": {},
   "outputs": [],
   "source": [
    "for i in properties_Vardenis.index:\n",
    "    if 'Room-darkening shades' in  properties_Vardenis.properties[i]:\n",
    "        properties_Vardenis.loc[i, 'Room-darkening shades'] = 1\n",
    "    else:\n",
    "        properties_Vardenis.loc[i, 'Room-darkening shades'] = 0"
   ]
  },
  {
   "cell_type": "code",
   "execution_count": 76,
   "id": "54f17b71",
   "metadata": {},
   "outputs": [],
   "source": [
    "for i in properties_Vardenis.index:\n",
    "    if 'Security cameras on property' in  properties_Vardenis.properties[i]:\n",
    "        properties_Vardenis.loc[i, 'Security cameras on property'] = 1\n",
    "    else:\n",
    "        properties_Vardenis.loc[i, 'Security cameras on property'] = 0"
   ]
  },
  {
   "cell_type": "code",
   "execution_count": 77,
   "id": "a680a454",
   "metadata": {},
   "outputs": [],
   "source": [
    "for i in properties_Vardenis.index:\n",
    "    if 'Self check-in' in  properties_Vardenis.properties[i]:\n",
    "        properties_Vardenis.loc[i, 'Self check-in'] = 1\n",
    "    else:\n",
    "        properties_Vardenis.loc[i, 'Self check-in'] = 0"
   ]
  },
  {
   "cell_type": "code",
   "execution_count": 78,
   "id": "6d6c3325",
   "metadata": {},
   "outputs": [],
   "source": [
    "for i in properties_Vardenis.index:\n",
    "    if 'Shampoo' in  properties_Vardenis.properties[i]:\n",
    "        properties_Vardenis.loc[i, 'Shampoo'] = 1\n",
    "    else:\n",
    "        properties_Vardenis.loc[i, 'Shampoo'] = 0"
   ]
  },
  {
   "cell_type": "code",
   "execution_count": 79,
   "id": "27d7b26b",
   "metadata": {},
   "outputs": [],
   "source": [
    "for i in properties_Vardenis.index:\n",
    "    if 'Shower gel' in  properties_Vardenis.properties[i]:\n",
    "        properties_Vardenis.loc[i, 'Shower gel'] = 1\n",
    "    else:\n",
    "        properties_Vardenis.loc[i, 'Shower gel'] = 0"
   ]
  },
  {
   "cell_type": "code",
   "execution_count": 80,
   "id": "9979a468",
   "metadata": {},
   "outputs": [],
   "source": [
    "for i in properties_Vardenis.index:\n",
    "    if 'Single level home' in  properties_Vardenis.properties[i]:\n",
    "        properties_Vardenis.loc[i, 'Single level home'] = 1\n",
    "    else:\n",
    "        properties_Vardenis.loc[i, 'Single level home'] = 0"
   ]
  },
  {
   "cell_type": "code",
   "execution_count": 81,
   "id": "c935ce88",
   "metadata": {},
   "outputs": [],
   "source": [
    "for i in properties_Vardenis.index:\n",
    "    if 'Smoke alarm' in  properties_Vardenis.properties[i]:\n",
    "        properties_Vardenis.loc[i, 'Smoke alarm'] = 1\n",
    "    else:\n",
    "        properties_Vardenis.loc[i, 'Smoke alarm'] = 0"
   ]
  },
  {
   "cell_type": "code",
   "execution_count": 82,
   "id": "d88eb485",
   "metadata": {},
   "outputs": [],
   "source": [
    "for i in properties_Vardenis.index:\n",
    "    if 'Smoking allowed' in  properties_Vardenis.properties[i]:\n",
    "        properties_Vardenis.loc[i, 'Smoking allowed'] = 1\n",
    "    else:\n",
    "        properties_Vardenis.loc[i, 'Smoking allowed'] = 0"
   ]
  },
  {
   "cell_type": "code",
   "execution_count": 83,
   "id": "2d08bdb2",
   "metadata": {},
   "outputs": [],
   "source": [
    "for i in properties_Vardenis.index:\n",
    "    if 'Sound system with aux' in  properties_Vardenis.properties[i]:\n",
    "        properties_Vardenis.loc[i, 'Sound system with aux'] = 1\n",
    "    else:\n",
    "        properties_Vardenis.loc[i, 'Sound system with aux'] = 0"
   ]
  },
  {
   "cell_type": "code",
   "execution_count": 84,
   "id": "c1a802e7",
   "metadata": {},
   "outputs": [],
   "source": [
    "for i in properties_Vardenis.index:\n",
    "    if 'Stove' in  properties_Vardenis.properties[i]:\n",
    "        properties_Vardenis.loc[i, 'Stove'] = 1\n",
    "    else:\n",
    "        properties_Vardenis.loc[i, 'Stove'] = 0"
   ]
  },
  {
   "cell_type": "code",
   "execution_count": 85,
   "id": "7b9ab8ad",
   "metadata": {},
   "outputs": [],
   "source": [
    "for i in properties_Vardenis.index:\n",
    "    if 'Suitable for events' in  properties_Vardenis.properties[i]:\n",
    "        properties_Vardenis.loc[i, 'Suitable for events'] = 1\n",
    "    else:\n",
    "        properties_Vardenis.loc[i, 'Suitable for events'] = 0"
   ]
  },
  {
   "cell_type": "code",
   "execution_count": 86,
   "id": "244a9a0e",
   "metadata": {},
   "outputs": [],
   "source": [
    "for i in properties_Vardenis.index:\n",
    "    if 'TV' in  properties_Vardenis.properties[i]:\n",
    "        properties_Vardenis.loc[i, 'TV'] = 1\n",
    "    else:\n",
    "        properties_Vardenis.loc[i, 'TV'] = 0"
   ]
  },
  {
   "cell_type": "code",
   "execution_count": 87,
   "id": "daa048c8",
   "metadata": {},
   "outputs": [],
   "source": [
    "for i in properties_Vardenis.index:\n",
    "    if 'Trash compactor' in  properties_Vardenis.properties[i]:\n",
    "        properties_Vardenis.loc[i, 'Trash compactor'] = 1\n",
    "    else:\n",
    "        properties_Vardenis.loc[i, 'Trash compactor'] = 0"
   ]
  },
  {
   "cell_type": "code",
   "execution_count": 88,
   "id": "0e5f2c3f",
   "metadata": {},
   "outputs": [],
   "source": [
    "for i in properties_Vardenis.index:\n",
    "    if 'Washer' in  properties_Vardenis.properties[i]:\n",
    "        properties_Vardenis.loc[i, 'Washer'] = 1\n",
    "    else:\n",
    "        properties_Vardenis.loc[i, 'Washer'] = 0"
   ]
  },
  {
   "cell_type": "code",
   "execution_count": 89,
   "id": "ca687d30",
   "metadata": {},
   "outputs": [],
   "source": [
    "for i in properties_Vardenis.index:\n",
    "    if 'Wifi' in  properties_Vardenis.properties[i]:\n",
    "        properties_Vardenis.loc[i, 'Wifi'] = 1\n",
    "    else:\n",
    "        properties_Vardenis.loc[i, 'Wifi'] = 0"
   ]
  },
  {
   "cell_type": "code",
   "execution_count": 90,
   "id": "20b0bdca",
   "metadata": {},
   "outputs": [],
   "source": [
    "for i in properties_Vardenis.index:\n",
    "    if 'Wine glasses' in  properties_Vardenis.properties[i]:\n",
    "        properties_Vardenis.loc[i, 'Wine glasses'] = 1\n",
    "    else:\n",
    "        properties_Vardenis.loc[i, 'Wine glasses'] = 0"
   ]
  },
  {
   "cell_type": "code",
   "execution_count": 91,
   "id": "bb2507d4",
   "metadata": {},
   "outputs": [],
   "source": [
    "for i in properties_Vardenis.index:\n",
    "    if 'geneva green conditioner' in  properties_Vardenis.properties[i]:\n",
    "        properties_Vardenis.loc[i, 'geneva green conditioner'] = 1\n",
    "    else:\n",
    "        properties_Vardenis.loc[i, 'geneva green conditioner'] = 0"
   ]
  },
  {
   "cell_type": "code",
   "execution_count": 92,
   "id": "966e632f",
   "metadata": {},
   "outputs": [],
   "source": [
    "del properties_Vardenis['properties']"
   ]
  },
  {
   "cell_type": "code",
   "execution_count": 93,
   "id": "78cee8a9",
   "metadata": {},
   "outputs": [
    {
     "data": {
      "text/html": [
       "<div>\n",
       "<style scoped>\n",
       "    .dataframe tbody tr th:only-of-type {\n",
       "        vertical-align: middle;\n",
       "    }\n",
       "\n",
       "    .dataframe tbody tr th {\n",
       "        vertical-align: top;\n",
       "    }\n",
       "\n",
       "    .dataframe thead th {\n",
       "        text-align: right;\n",
       "    }\n",
       "</style>\n",
       "<table border=\"1\" class=\"dataframe\">\n",
       "  <thead>\n",
       "    <tr style=\"text-align: right;\">\n",
       "      <th></th>\n",
       "      <th>city</th>\n",
       "      <th>country</th>\n",
       "      <th>name</th>\n",
       "      <th>Air conditioning</th>\n",
       "      <th>BBQ grill</th>\n",
       "      <th>Baby safety gates</th>\n",
       "      <th>Backyard</th>\n",
       "      <th>Baking sheet</th>\n",
       "      <th>Bathtub</th>\n",
       "      <th>Bed linens</th>\n",
       "      <th>...</th>\n",
       "      <th>Smoking allowed</th>\n",
       "      <th>Sound system with aux</th>\n",
       "      <th>Stove</th>\n",
       "      <th>Suitable for events</th>\n",
       "      <th>TV</th>\n",
       "      <th>Trash compactor</th>\n",
       "      <th>Washer</th>\n",
       "      <th>Wifi</th>\n",
       "      <th>Wine glasses</th>\n",
       "      <th>geneva green conditioner</th>\n",
       "    </tr>\n",
       "  </thead>\n",
       "  <tbody>\n",
       "    <tr>\n",
       "      <th>1</th>\n",
       "      <td>Vardenis</td>\n",
       "      <td>Armenia</td>\n",
       "      <td>Anna 'S House</td>\n",
       "      <td>1.0</td>\n",
       "      <td>0.0</td>\n",
       "      <td>0.0</td>\n",
       "      <td>0.0</td>\n",
       "      <td>0.0</td>\n",
       "      <td>0.0</td>\n",
       "      <td>0.0</td>\n",
       "      <td>...</td>\n",
       "      <td>0.0</td>\n",
       "      <td>0.0</td>\n",
       "      <td>0.0</td>\n",
       "      <td>1.0</td>\n",
       "      <td>1.0</td>\n",
       "      <td>0.0</td>\n",
       "      <td>1.0</td>\n",
       "      <td>1.0</td>\n",
       "      <td>0.0</td>\n",
       "      <td>0.0</td>\n",
       "    </tr>\n",
       "    <tr>\n",
       "      <th>2</th>\n",
       "      <td>Vardenis</td>\n",
       "      <td>Armenia</td>\n",
       "      <td>Hotel</td>\n",
       "      <td>0.0</td>\n",
       "      <td>0.0</td>\n",
       "      <td>0.0</td>\n",
       "      <td>0.0</td>\n",
       "      <td>0.0</td>\n",
       "      <td>0.0</td>\n",
       "      <td>0.0</td>\n",
       "      <td>...</td>\n",
       "      <td>1.0</td>\n",
       "      <td>0.0</td>\n",
       "      <td>0.0</td>\n",
       "      <td>0.0</td>\n",
       "      <td>1.0</td>\n",
       "      <td>0.0</td>\n",
       "      <td>1.0</td>\n",
       "      <td>1.0</td>\n",
       "      <td>0.0</td>\n",
       "      <td>0.0</td>\n",
       "    </tr>\n",
       "    <tr>\n",
       "      <th>3</th>\n",
       "      <td>Tsapatagh</td>\n",
       "      <td>Armenia</td>\n",
       "      <td>Cozy lodge overlooking Lake Sevan.</td>\n",
       "      <td>0.0</td>\n",
       "      <td>0.0</td>\n",
       "      <td>0.0</td>\n",
       "      <td>0.0</td>\n",
       "      <td>0.0</td>\n",
       "      <td>0.0</td>\n",
       "      <td>1.0</td>\n",
       "      <td>...</td>\n",
       "      <td>0.0</td>\n",
       "      <td>0.0</td>\n",
       "      <td>0.0</td>\n",
       "      <td>0.0</td>\n",
       "      <td>1.0</td>\n",
       "      <td>0.0</td>\n",
       "      <td>1.0</td>\n",
       "      <td>1.0</td>\n",
       "      <td>0.0</td>\n",
       "      <td>0.0</td>\n",
       "    </tr>\n",
       "    <tr>\n",
       "      <th>4</th>\n",
       "      <td>Vayk</td>\n",
       "      <td>Armenia</td>\n",
       "      <td>Cozy house in wonderful nature of Karvachar</td>\n",
       "      <td>0.0</td>\n",
       "      <td>0.0</td>\n",
       "      <td>0.0</td>\n",
       "      <td>0.0</td>\n",
       "      <td>0.0</td>\n",
       "      <td>0.0</td>\n",
       "      <td>0.0</td>\n",
       "      <td>...</td>\n",
       "      <td>0.0</td>\n",
       "      <td>0.0</td>\n",
       "      <td>0.0</td>\n",
       "      <td>0.0</td>\n",
       "      <td>1.0</td>\n",
       "      <td>0.0</td>\n",
       "      <td>1.0</td>\n",
       "      <td>1.0</td>\n",
       "      <td>0.0</td>\n",
       "      <td>0.0</td>\n",
       "    </tr>\n",
       "    <tr>\n",
       "      <th>5</th>\n",
       "      <td>Vardenis</td>\n",
       "      <td>Armenia</td>\n",
       "      <td>Guest haus in Vardenis</td>\n",
       "      <td>0.0</td>\n",
       "      <td>1.0</td>\n",
       "      <td>0.0</td>\n",
       "      <td>1.0</td>\n",
       "      <td>0.0</td>\n",
       "      <td>0.0</td>\n",
       "      <td>1.0</td>\n",
       "      <td>...</td>\n",
       "      <td>0.0</td>\n",
       "      <td>0.0</td>\n",
       "      <td>1.0</td>\n",
       "      <td>0.0</td>\n",
       "      <td>1.0</td>\n",
       "      <td>0.0</td>\n",
       "      <td>1.0</td>\n",
       "      <td>1.0</td>\n",
       "      <td>0.0</td>\n",
       "      <td>0.0</td>\n",
       "    </tr>\n",
       "  </tbody>\n",
       "</table>\n",
       "<p>5 rows × 84 columns</p>\n",
       "</div>"
      ],
      "text/plain": [
       "        city  country                                         name  \\\n",
       "1   Vardenis  Armenia                                Anna 'S House   \n",
       "2   Vardenis  Armenia                                        Hotel   \n",
       "3  Tsapatagh  Armenia           Cozy lodge overlooking Lake Sevan.   \n",
       "4       Vayk  Armenia  Cozy house in wonderful nature of Karvachar   \n",
       "5   Vardenis  Armenia                       Guest haus in Vardenis   \n",
       "\n",
       "   Air conditioning  BBQ grill  Baby safety gates  Backyard  Baking sheet  \\\n",
       "1               1.0        0.0                0.0       0.0           0.0   \n",
       "2               0.0        0.0                0.0       0.0           0.0   \n",
       "3               0.0        0.0                0.0       0.0           0.0   \n",
       "4               0.0        0.0                0.0       0.0           0.0   \n",
       "5               0.0        1.0                0.0       1.0           0.0   \n",
       "\n",
       "   Bathtub  Bed linens  ...  Smoking allowed  Sound system with aux  Stove  \\\n",
       "1      0.0         0.0  ...              0.0                    0.0    0.0   \n",
       "2      0.0         0.0  ...              1.0                    0.0    0.0   \n",
       "3      0.0         1.0  ...              0.0                    0.0    0.0   \n",
       "4      0.0         0.0  ...              0.0                    0.0    0.0   \n",
       "5      0.0         1.0  ...              0.0                    0.0    1.0   \n",
       "\n",
       "   Suitable for events   TV  Trash compactor  Washer  Wifi  Wine glasses  \\\n",
       "1                  1.0  1.0              0.0     1.0   1.0           0.0   \n",
       "2                  0.0  1.0              0.0     1.0   1.0           0.0   \n",
       "3                  0.0  1.0              0.0     1.0   1.0           0.0   \n",
       "4                  0.0  1.0              0.0     1.0   1.0           0.0   \n",
       "5                  0.0  1.0              0.0     1.0   1.0           0.0   \n",
       "\n",
       "   geneva green conditioner  \n",
       "1                       0.0  \n",
       "2                       0.0  \n",
       "3                       0.0  \n",
       "4                       0.0  \n",
       "5                       0.0  \n",
       "\n",
       "[5 rows x 84 columns]"
      ]
     },
     "execution_count": 93,
     "metadata": {},
     "output_type": "execute_result"
    }
   ],
   "source": [
    "properties_Vardenis"
   ]
  },
  {
   "cell_type": "code",
   "execution_count": 94,
   "id": "33a6f505",
   "metadata": {},
   "outputs": [],
   "source": [
    "properties_Vardenis.to_csv(\"Cleaned_Vardenis_properties.csv\", index=False)\n",
    "properties_Vardenis.to_excel(\"Cleaned_Vardenis_properties.xlsx\", index=False)"
   ]
  },
  {
   "cell_type": "code",
   "execution_count": null,
   "id": "04fc74b1",
   "metadata": {},
   "outputs": [],
   "source": []
  },
  {
   "cell_type": "code",
   "execution_count": null,
   "id": "8b2ab824",
   "metadata": {},
   "outputs": [],
   "source": []
  }
 ],
 "metadata": {
  "kernelspec": {
   "display_name": "Python 3",
   "language": "python",
   "name": "python3"
  },
  "language_info": {
   "codemirror_mode": {
    "name": "ipython",
    "version": 3
   },
   "file_extension": ".py",
   "mimetype": "text/x-python",
   "name": "python",
   "nbconvert_exporter": "python",
   "pygments_lexer": "ipython3",
   "version": "3.8.8"
  }
 },
 "nbformat": 4,
 "nbformat_minor": 5
}
