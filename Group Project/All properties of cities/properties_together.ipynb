{
 "cells": [
  {
   "cell_type": "code",
   "execution_count": 85,
   "id": "899d91d4",
   "metadata": {},
   "outputs": [],
   "source": [
    "from selenium import webdriver\n",
    "from selenium.webdriver.chrome.options import Options\n",
    "from selenium.webdriver.common.keys import Keys\n",
    "import time\n",
    "import re\n",
    "import pandas as pd\n",
    "from selenium.webdriver.common.action_chains import ActionChains\n",
    "from bs4 import BeautifulSoup\n",
    "from selenium.webdriver.support.ui import WebDriverWait\n",
    "from selenium.webdriver.common.by import By\n",
    "from selenium.webdriver.support import expected_conditions as EC\n",
    "import math\n",
    "import numpy as np\n",
    "import re\n",
    "pd.options.mode.chained_assignment = None \n",
    "import warnings\n",
    "warnings.filterwarnings(\"ignore\")\n",
    "import regex"
   ]
  },
  {
   "cell_type": "code",
   "execution_count": 86,
   "id": "9a20720f",
   "metadata": {},
   "outputs": [],
   "source": [
    "hotel_full_Abovyan = pd.read_csv('Cleaned_Abovyan_properties.csv')\n"
   ]
  },
  {
   "cell_type": "code",
   "execution_count": 87,
   "id": "74ae4cf5",
   "metadata": {},
   "outputs": [],
   "source": [
    "hotel_full_Alaverdi = pd.read_csv('Cleaned_Alaverdi_properties.csv')\n"
   ]
  },
  {
   "cell_type": "code",
   "execution_count": 88,
   "id": "6f4f15ab",
   "metadata": {},
   "outputs": [],
   "source": [
    "hotel_full_Ararat = pd.read_csv('Cleaned_Ararat_properties.csv')\n"
   ]
  },
  {
   "cell_type": "code",
   "execution_count": 89,
   "id": "3e71ca33",
   "metadata": {},
   "outputs": [],
   "source": [
    "hotel_full_Armavir = pd.read_csv('Cleaned_Armavir_properties.csv')\n"
   ]
  },
  {
   "cell_type": "code",
   "execution_count": 90,
   "id": "fb064488",
   "metadata": {},
   "outputs": [],
   "source": [
    "hotel_full_Artashat = pd.read_csv('Cleaned_Artashat_properties.csv')\n"
   ]
  },
  {
   "cell_type": "code",
   "execution_count": 91,
   "id": "111ad8db",
   "metadata": {},
   "outputs": [],
   "source": [
    "hotel_full_Artik = pd.read_csv('Cleaned_Artik_properties.csv')\n"
   ]
  },
  {
   "cell_type": "code",
   "execution_count": 92,
   "id": "5e94b19e",
   "metadata": {},
   "outputs": [],
   "source": [
    "hotel_full_Ashtarak = pd.read_csv('Cleaned_Ashtarak_properties.csv')\n"
   ]
  },
  {
   "cell_type": "code",
   "execution_count": 93,
   "id": "3e845391",
   "metadata": {},
   "outputs": [],
   "source": [
    "hotel_full_Byureghavan = pd.read_csv('Cleaned_Byureghavan_properties.csv')\n"
   ]
  },
  {
   "cell_type": "code",
   "execution_count": 94,
   "id": "e4fbe71d",
   "metadata": {},
   "outputs": [],
   "source": [
    "hotel_full_Charentsavan = pd.read_csv('Cleaned_Charentsavan_properties.csv')\n"
   ]
  },
  {
   "cell_type": "code",
   "execution_count": 95,
   "id": "11b57eba",
   "metadata": {},
   "outputs": [],
   "source": [
    "hotel_full_Dilijan = pd.read_csv('Cleaned_Dilijan_properties.csv')\n"
   ]
  },
  {
   "cell_type": "code",
   "execution_count": 96,
   "id": "9c37b337",
   "metadata": {},
   "outputs": [],
   "source": [
    "hotel_full_Gavar = pd.read_csv('Cleaned_Gavar_properties.csv')\n"
   ]
  },
  {
   "cell_type": "code",
   "execution_count": 97,
   "id": "883584f8",
   "metadata": {},
   "outputs": [],
   "source": [
    "hotel_full_Goris = pd.read_csv('Cleaned_Goris_properties.csv')\n"
   ]
  },
  {
   "cell_type": "code",
   "execution_count": 98,
   "id": "25a1ccc9",
   "metadata": {},
   "outputs": [],
   "source": [
    "hotel_full_Gyumri = pd.read_csv('Cleaned_Gyumri_properties.csv')\n"
   ]
  },
  {
   "cell_type": "code",
   "execution_count": 99,
   "id": "307ff2ff",
   "metadata": {},
   "outputs": [],
   "source": [
    "hotel_full_Hrazdan = pd.read_csv('Cleaned_Hrazdan_properties.csv')\n"
   ]
  },
  {
   "cell_type": "code",
   "execution_count": 100,
   "id": "66d5eb66",
   "metadata": {},
   "outputs": [],
   "source": [
    "hotel_full_Ijevan = pd.read_csv('Cleaned_Ijevan_properties.csv')\n"
   ]
  },
  {
   "cell_type": "code",
   "execution_count": 101,
   "id": "8d8b97a3",
   "metadata": {},
   "outputs": [],
   "source": [
    "hotel_full_Kajaran = pd.read_csv('Cleaned_Kajaran_properties.csv')\n"
   ]
  },
  {
   "cell_type": "code",
   "execution_count": 102,
   "id": "b56fd469",
   "metadata": {},
   "outputs": [],
   "source": [
    "hotel_full_Kapan = pd.read_csv('Cleaned_Kapan_properties.csv')\n"
   ]
  },
  {
   "cell_type": "code",
   "execution_count": 103,
   "id": "1009e0d5",
   "metadata": {},
   "outputs": [],
   "source": [
    "hotel_full_Martuni = pd.read_csv('Cleaned_Martuni_properties.csv')\n"
   ]
  },
  {
   "cell_type": "code",
   "execution_count": 104,
   "id": "b5180dad",
   "metadata": {},
   "outputs": [],
   "source": [
    "hotel_full_Masis = pd.read_csv('Cleaned_Masis_properties.csv')\n"
   ]
  },
  {
   "cell_type": "code",
   "execution_count": 105,
   "id": "c56e1715",
   "metadata": {},
   "outputs": [],
   "source": [
    "hotel_full_Metsamor = pd.read_csv('Cleaned_Metsamor_properties.csv')\n"
   ]
  },
  {
   "cell_type": "code",
   "execution_count": 106,
   "id": "fab9b6ad",
   "metadata": {},
   "outputs": [],
   "source": [
    "hotel_full_Nor_Hachn = pd.read_csv('Cleaned_Nor_Hachn_properties.csv')\n"
   ]
  },
  {
   "cell_type": "code",
   "execution_count": 107,
   "id": "a618deec",
   "metadata": {},
   "outputs": [],
   "source": [
    "hotel_full_Sevan = pd.read_csv('Cleaned_Sevan_properties.csv')\n"
   ]
  },
  {
   "cell_type": "code",
   "execution_count": 108,
   "id": "f2fe9605",
   "metadata": {},
   "outputs": [],
   "source": [
    "hotel_full_Sisian = pd.read_csv('Cleaned_Sisian_properties.csv')\n"
   ]
  },
  {
   "cell_type": "code",
   "execution_count": 109,
   "id": "f14c52b4",
   "metadata": {},
   "outputs": [],
   "source": [
    "hotel_full_Spitak = pd.read_csv('Cleaned_Spitak_properties.csv')\n"
   ]
  },
  {
   "cell_type": "code",
   "execution_count": 110,
   "id": "85156660",
   "metadata": {},
   "outputs": [],
   "source": [
    "hotel_full_Stepanavan = pd.read_csv('Cleaned_Stepanavan_properties.csv')\n"
   ]
  },
  {
   "cell_type": "code",
   "execution_count": 111,
   "id": "2c990397",
   "metadata": {},
   "outputs": [],
   "source": [
    "hotel_full_Talin = pd.read_csv('Cleaned_Talin_properties.csv')\n"
   ]
  },
  {
   "cell_type": "code",
   "execution_count": 112,
   "id": "9630fa81",
   "metadata": {},
   "outputs": [],
   "source": [
    "hotel_full_Vagharshapat = pd.read_csv('Cleaned_Vagharshapat_properties.csv')\n"
   ]
  },
  {
   "cell_type": "code",
   "execution_count": 113,
   "id": "1e13a9bb",
   "metadata": {},
   "outputs": [],
   "source": [
    "hotel_full_Vardenis = pd.read_csv('Cleaned_Vardenis_properties.csv')\n"
   ]
  },
  {
   "cell_type": "code",
   "execution_count": 114,
   "id": "f2bf4506",
   "metadata": {},
   "outputs": [],
   "source": [
    "hotel_full_Vedi = pd.read_csv('Cleaned_Vedi_properties.csv')\n"
   ]
  },
  {
   "cell_type": "code",
   "execution_count": 115,
   "id": "db88af74",
   "metadata": {},
   "outputs": [],
   "source": [
    "hotel_full_Yeghvard = pd.read_csv('Cleaned_Yeghvard_properties.csv')\n"
   ]
  },
  {
   "cell_type": "code",
   "execution_count": 116,
   "id": "558d2510",
   "metadata": {},
   "outputs": [],
   "source": [
    "hotel_full_Yerevan = pd.read_csv('Cleaned_Yerevan_properties.csv')\n"
   ]
  },
  {
   "cell_type": "code",
   "execution_count": 117,
   "id": "6a9fe6c7",
   "metadata": {},
   "outputs": [],
   "source": [
    "hotel_full_Vanadzor = pd.read_csv('Cleaned_Vanadzor_properties.csv')\n"
   ]
  },
  {
   "cell_type": "code",
   "execution_count": 118,
   "id": "575605bf",
   "metadata": {},
   "outputs": [],
   "source": [
    "hotel_full_Berd = pd.read_csv('Cleaned_new_data_for_Berd.csv')\n"
   ]
  },
  {
   "cell_type": "code",
   "execution_count": 119,
   "id": "5b7245ab",
   "metadata": {},
   "outputs": [],
   "source": [
    "hotel_full_yeghegnadzor = pd.read_csv('Cleaned_yeghegnadzor_properties.csv')\n"
   ]
  },
  {
   "cell_type": "code",
   "execution_count": 120,
   "id": "bcf38eaa",
   "metadata": {},
   "outputs": [],
   "source": [
    "hotel_full_tashir = pd.read_csv('Cleaned_tashir_properties.csv')\n"
   ]
  },
  {
   "cell_type": "code",
   "execution_count": 121,
   "id": "7ef613b4",
   "metadata": {},
   "outputs": [],
   "source": [
    "hotel_full_Aparan = pd.read_csv('Cleaned_properties_Aparan.csv')\n"
   ]
  },
  {
   "cell_type": "code",
   "execution_count": 122,
   "id": "d10e3dfc",
   "metadata": {},
   "outputs": [],
   "source": [
    "hotel_full_Vayk = pd.read_csv('Cleaned_Vayk_properties.csv')\n"
   ]
  },
  {
   "cell_type": "code",
   "execution_count": 123,
   "id": "5fc6ecb8",
   "metadata": {},
   "outputs": [],
   "source": [
    "hotel_full_Chambarak = pd.read_csv('Cleaned_properties_Chambarak.csv')\n"
   ]
  },
  {
   "cell_type": "code",
   "execution_count": 124,
   "id": "62f90c49",
   "metadata": {},
   "outputs": [],
   "source": [
    "hotel_full_Maralik = pd.read_csv('Cleaned_properties_Maralik.csv')\n"
   ]
  },
  {
   "cell_type": "code",
   "execution_count": 125,
   "id": "274765b5",
   "metadata": {},
   "outputs": [],
   "source": [
    "hotel_full_Noyemberyan = pd.read_csv('Cleaned_Final_Noyemberyan.csv')\n"
   ]
  },
  {
   "cell_type": "code",
   "execution_count": 126,
   "id": "309421db",
   "metadata": {},
   "outputs": [],
   "source": [
    "hotel_full_Jermuk = pd.read_csv('Cleaned_properties_Jermuk.csv')\n"
   ]
  },
  {
   "cell_type": "code",
   "execution_count": 127,
   "id": "5e4e5845",
   "metadata": {},
   "outputs": [],
   "source": [
    "hotel_full_Ayrum = pd.read_csv('Cleaned_properties_Ayrum.csv')\n"
   ]
  },
  {
   "cell_type": "code",
   "execution_count": 128,
   "id": "7921a230",
   "metadata": {},
   "outputs": [],
   "source": [
    "hotel_full_Akhtala = pd.read_csv('Cleaned_properties_Akhtala.csv')\n"
   ]
  },
  {
   "cell_type": "code",
   "execution_count": 129,
   "id": "ea79091a",
   "metadata": {},
   "outputs": [],
   "source": [
    "hotel_full_Tumanyan = pd.read_csv('Cleaned_Tumanyan_properties.csv')\n"
   ]
  },
  {
   "cell_type": "code",
   "execution_count": 130,
   "id": "694ff857",
   "metadata": {},
   "outputs": [],
   "source": [
    "hotel_full_Tsaxkadzor = pd.read_csv('Cleaned_tsaxkadzor_properties.csv')\n"
   ]
  },
  {
   "cell_type": "code",
   "execution_count": null,
   "id": "f7349935",
   "metadata": {},
   "outputs": [],
   "source": []
  },
  {
   "cell_type": "code",
   "execution_count": null,
   "id": "0ed3ae69",
   "metadata": {},
   "outputs": [],
   "source": []
  },
  {
   "cell_type": "code",
   "execution_count": 131,
   "id": "83b2e759",
   "metadata": {},
   "outputs": [],
   "source": [
    "full_data = pd.concat([hotel_full_Abovyan, hotel_full_Alaverdi, hotel_full_Ararat, hotel_full_Armavir,\n",
    "                      hotel_full_Artashat, hotel_full_Artik, hotel_full_Ashtarak, hotel_full_Byureghavan,\n",
    "                      hotel_full_Charentsavan, hotel_full_Dilijan, hotel_full_Gavar, hotel_full_Goris,\n",
    "                      hotel_full_Gyumri, hotel_full_Hrazdan, hotel_full_Ijevan, hotel_full_Kajaran,\n",
    "                      hotel_full_Kapan, hotel_full_Martuni, hotel_full_Masis, hotel_full_Metsamor, hotel_full_Nor_Hachn,\n",
    "                     hotel_full_Sevan, hotel_full_Sisian, hotel_full_Spitak, hotel_full_Stepanavan,\n",
    "                      hotel_full_Talin, hotel_full_Vagharshapat, hotel_full_Vardenis, hotel_full_Vedi,\n",
    "                      hotel_full_Yeghvard, hotel_full_Yerevan, hotel_full_Vanadzor, hotel_full_Berd, hotel_full_yeghegnadzor,\n",
    "                      hotel_full_tashir, hotel_full_Aparan, hotel_full_Vayk, hotel_full_Chambarak,\n",
    "                      hotel_full_Maralik, hotel_full_Noyemberyan, hotel_full_Jermuk, hotel_full_Ayrum,\n",
    "                      hotel_full_Akhtala, hotel_full_Tumanyan, hotel_full_Tsaxkadzor], axis = 0)"
   ]
  },
  {
   "cell_type": "code",
   "execution_count": 132,
   "id": "ed5ee3cc",
   "metadata": {},
   "outputs": [
    {
     "data": {
      "text/html": [
       "<div>\n",
       "<style scoped>\n",
       "    .dataframe tbody tr th:only-of-type {\n",
       "        vertical-align: middle;\n",
       "    }\n",
       "\n",
       "    .dataframe tbody tr th {\n",
       "        vertical-align: top;\n",
       "    }\n",
       "\n",
       "    .dataframe thead th {\n",
       "        text-align: right;\n",
       "    }\n",
       "</style>\n",
       "<table border=\"1\" class=\"dataframe\">\n",
       "  <thead>\n",
       "    <tr style=\"text-align: right;\">\n",
       "      <th></th>\n",
       "      <th>city</th>\n",
       "      <th>country</th>\n",
       "      <th>name</th>\n",
       "      <th>Air conditioning</th>\n",
       "      <th>BBQ grill</th>\n",
       "      <th>Baby safety gates</th>\n",
       "      <th>Backyard</th>\n",
       "      <th>Baking sheet</th>\n",
       "      <th>Bathtub</th>\n",
       "      <th>Bed linens</th>\n",
       "      <th>...</th>\n",
       "      <th>Sound system with aux</th>\n",
       "      <th>Stove</th>\n",
       "      <th>Suitable for events</th>\n",
       "      <th>TV</th>\n",
       "      <th>Trash compactor</th>\n",
       "      <th>Washer</th>\n",
       "      <th>Wifi</th>\n",
       "      <th>Wine glasses</th>\n",
       "      <th>geneva green conditioner</th>\n",
       "      <th>properties</th>\n",
       "    </tr>\n",
       "  </thead>\n",
       "  <tbody>\n",
       "    <tr>\n",
       "      <th>0</th>\n",
       "      <td>Kotayk</td>\n",
       "      <td>Armenia</td>\n",
       "      <td>beautiful eco house!</td>\n",
       "      <td>0.0</td>\n",
       "      <td>1.0</td>\n",
       "      <td>0.0</td>\n",
       "      <td>1.0</td>\n",
       "      <td>0.0</td>\n",
       "      <td>0.0</td>\n",
       "      <td>0.0</td>\n",
       "      <td>...</td>\n",
       "      <td>0.0</td>\n",
       "      <td>0.0</td>\n",
       "      <td>0.0</td>\n",
       "      <td>1.0</td>\n",
       "      <td>0.0</td>\n",
       "      <td>0.0</td>\n",
       "      <td>1.0</td>\n",
       "      <td>0.0</td>\n",
       "      <td>0.0</td>\n",
       "      <td>NaN</td>\n",
       "    </tr>\n",
       "    <tr>\n",
       "      <th>1</th>\n",
       "      <td>Yerevan</td>\n",
       "      <td>Armenia</td>\n",
       "      <td>Yerkir eco house</td>\n",
       "      <td>1.0</td>\n",
       "      <td>1.0</td>\n",
       "      <td>0.0</td>\n",
       "      <td>1.0</td>\n",
       "      <td>0.0</td>\n",
       "      <td>0.0</td>\n",
       "      <td>1.0</td>\n",
       "      <td>...</td>\n",
       "      <td>0.0</td>\n",
       "      <td>1.0</td>\n",
       "      <td>1.0</td>\n",
       "      <td>1.0</td>\n",
       "      <td>0.0</td>\n",
       "      <td>1.0</td>\n",
       "      <td>1.0</td>\n",
       "      <td>0.0</td>\n",
       "      <td>0.0</td>\n",
       "      <td>NaN</td>\n",
       "    </tr>\n",
       "    <tr>\n",
       "      <th>2</th>\n",
       "      <td>Yerevan</td>\n",
       "      <td>Armenia</td>\n",
       "      <td>Guest house</td>\n",
       "      <td>0.0</td>\n",
       "      <td>0.0</td>\n",
       "      <td>0.0</td>\n",
       "      <td>0.0</td>\n",
       "      <td>0.0</td>\n",
       "      <td>0.0</td>\n",
       "      <td>0.0</td>\n",
       "      <td>...</td>\n",
       "      <td>0.0</td>\n",
       "      <td>0.0</td>\n",
       "      <td>0.0</td>\n",
       "      <td>1.0</td>\n",
       "      <td>0.0</td>\n",
       "      <td>1.0</td>\n",
       "      <td>1.0</td>\n",
       "      <td>0.0</td>\n",
       "      <td>0.0</td>\n",
       "      <td>NaN</td>\n",
       "    </tr>\n",
       "    <tr>\n",
       "      <th>3</th>\n",
       "      <td>Yerevan</td>\n",
       "      <td>Armenia</td>\n",
       "      <td>Black Castle Red Valley Hotel and Restaurant</td>\n",
       "      <td>1.0</td>\n",
       "      <td>0.0</td>\n",
       "      <td>0.0</td>\n",
       "      <td>0.0</td>\n",
       "      <td>0.0</td>\n",
       "      <td>0.0</td>\n",
       "      <td>0.0</td>\n",
       "      <td>...</td>\n",
       "      <td>0.0</td>\n",
       "      <td>0.0</td>\n",
       "      <td>1.0</td>\n",
       "      <td>1.0</td>\n",
       "      <td>0.0</td>\n",
       "      <td>1.0</td>\n",
       "      <td>1.0</td>\n",
       "      <td>0.0</td>\n",
       "      <td>0.0</td>\n",
       "      <td>NaN</td>\n",
       "    </tr>\n",
       "    <tr>\n",
       "      <th>4</th>\n",
       "      <td>Getamej</td>\n",
       "      <td>Armenia</td>\n",
       "      <td>Haya House, Chill out 20mn from Yerevan, #2</td>\n",
       "      <td>0.0</td>\n",
       "      <td>1.0</td>\n",
       "      <td>0.0</td>\n",
       "      <td>1.0</td>\n",
       "      <td>0.0</td>\n",
       "      <td>0.0</td>\n",
       "      <td>1.0</td>\n",
       "      <td>...</td>\n",
       "      <td>0.0</td>\n",
       "      <td>0.0</td>\n",
       "      <td>1.0</td>\n",
       "      <td>0.0</td>\n",
       "      <td>0.0</td>\n",
       "      <td>1.0</td>\n",
       "      <td>1.0</td>\n",
       "      <td>0.0</td>\n",
       "      <td>0.0</td>\n",
       "      <td>NaN</td>\n",
       "    </tr>\n",
       "    <tr>\n",
       "      <th>...</th>\n",
       "      <td>...</td>\n",
       "      <td>...</td>\n",
       "      <td>...</td>\n",
       "      <td>...</td>\n",
       "      <td>...</td>\n",
       "      <td>...</td>\n",
       "      <td>...</td>\n",
       "      <td>...</td>\n",
       "      <td>...</td>\n",
       "      <td>...</td>\n",
       "      <td>...</td>\n",
       "      <td>...</td>\n",
       "      <td>...</td>\n",
       "      <td>...</td>\n",
       "      <td>...</td>\n",
       "      <td>...</td>\n",
       "      <td>...</td>\n",
       "      <td>...</td>\n",
       "      <td>...</td>\n",
       "      <td>...</td>\n",
       "      <td>...</td>\n",
       "    </tr>\n",
       "    <tr>\n",
       "      <th>109</th>\n",
       "      <td>Tsaghkadzor</td>\n",
       "      <td>Цахкадзор, Котайк, Armenia</td>\n",
       "      <td>Cozy, warm apartment</td>\n",
       "      <td>0.0</td>\n",
       "      <td>0.0</td>\n",
       "      <td>0.0</td>\n",
       "      <td>0.0</td>\n",
       "      <td>0.0</td>\n",
       "      <td>0.0</td>\n",
       "      <td>0.0</td>\n",
       "      <td>...</td>\n",
       "      <td>0.0</td>\n",
       "      <td>0.0</td>\n",
       "      <td>1.0</td>\n",
       "      <td>1.0</td>\n",
       "      <td>0.0</td>\n",
       "      <td>1.0</td>\n",
       "      <td>1.0</td>\n",
       "      <td>0.0</td>\n",
       "      <td>0.0</td>\n",
       "      <td>NaN</td>\n",
       "    </tr>\n",
       "    <tr>\n",
       "      <th>110</th>\n",
       "      <td>Tsaghkadzor</td>\n",
       "      <td>Цахкадзор, Котайк, Armenia</td>\n",
       "      <td>daily home in tsakhkadzor</td>\n",
       "      <td>0.0</td>\n",
       "      <td>0.0</td>\n",
       "      <td>0.0</td>\n",
       "      <td>0.0</td>\n",
       "      <td>0.0</td>\n",
       "      <td>0.0</td>\n",
       "      <td>0.0</td>\n",
       "      <td>...</td>\n",
       "      <td>0.0</td>\n",
       "      <td>0.0</td>\n",
       "      <td>0.0</td>\n",
       "      <td>1.0</td>\n",
       "      <td>0.0</td>\n",
       "      <td>1.0</td>\n",
       "      <td>0.0</td>\n",
       "      <td>0.0</td>\n",
       "      <td>0.0</td>\n",
       "      <td>NaN</td>\n",
       "    </tr>\n",
       "    <tr>\n",
       "      <th>111</th>\n",
       "      <td>Tsaghkadzor</td>\n",
       "      <td>Tsaghkadzor, Kotayk, Armenia</td>\n",
       "      <td>daily rent house in Tsakadzor Armenia</td>\n",
       "      <td>0.0</td>\n",
       "      <td>0.0</td>\n",
       "      <td>0.0</td>\n",
       "      <td>0.0</td>\n",
       "      <td>0.0</td>\n",
       "      <td>0.0</td>\n",
       "      <td>0.0</td>\n",
       "      <td>...</td>\n",
       "      <td>0.0</td>\n",
       "      <td>0.0</td>\n",
       "      <td>0.0</td>\n",
       "      <td>0.0</td>\n",
       "      <td>0.0</td>\n",
       "      <td>0.0</td>\n",
       "      <td>0.0</td>\n",
       "      <td>0.0</td>\n",
       "      <td>0.0</td>\n",
       "      <td>NaN</td>\n",
       "    </tr>\n",
       "    <tr>\n",
       "      <th>112</th>\n",
       "      <td>Tsaghkadzor</td>\n",
       "      <td>Tsaghkadzor, Kotayk, Armenia</td>\n",
       "      <td>daily Homes in Tsaghkadzor</td>\n",
       "      <td>0.0</td>\n",
       "      <td>0.0</td>\n",
       "      <td>0.0</td>\n",
       "      <td>0.0</td>\n",
       "      <td>0.0</td>\n",
       "      <td>0.0</td>\n",
       "      <td>0.0</td>\n",
       "      <td>...</td>\n",
       "      <td>0.0</td>\n",
       "      <td>0.0</td>\n",
       "      <td>0.0</td>\n",
       "      <td>0.0</td>\n",
       "      <td>0.0</td>\n",
       "      <td>0.0</td>\n",
       "      <td>0.0</td>\n",
       "      <td>0.0</td>\n",
       "      <td>0.0</td>\n",
       "      <td>NaN</td>\n",
       "    </tr>\n",
       "    <tr>\n",
       "      <th>113</th>\n",
       "      <td>Tsaghkadzor</td>\n",
       "      <td>Tsaghkadzor, Kotayk Province, Armenia</td>\n",
       "      <td>home sold</td>\n",
       "      <td>0.0</td>\n",
       "      <td>0.0</td>\n",
       "      <td>0.0</td>\n",
       "      <td>0.0</td>\n",
       "      <td>0.0</td>\n",
       "      <td>0.0</td>\n",
       "      <td>0.0</td>\n",
       "      <td>...</td>\n",
       "      <td>0.0</td>\n",
       "      <td>0.0</td>\n",
       "      <td>0.0</td>\n",
       "      <td>1.0</td>\n",
       "      <td>0.0</td>\n",
       "      <td>1.0</td>\n",
       "      <td>1.0</td>\n",
       "      <td>0.0</td>\n",
       "      <td>0.0</td>\n",
       "      <td>NaN</td>\n",
       "    </tr>\n",
       "  </tbody>\n",
       "</table>\n",
       "<p>3873 rows × 85 columns</p>\n",
       "</div>"
      ],
      "text/plain": [
       "            city                                country  \\\n",
       "0         Kotayk                                Armenia   \n",
       "1        Yerevan                                Armenia   \n",
       "2        Yerevan                                Armenia   \n",
       "3        Yerevan                                Armenia   \n",
       "4        Getamej                                Armenia   \n",
       "..           ...                                    ...   \n",
       "109  Tsaghkadzor             Цахкадзор, Котайк, Armenia   \n",
       "110  Tsaghkadzor             Цахкадзор, Котайк, Armenia   \n",
       "111  Tsaghkadzor           Tsaghkadzor, Kotayk, Armenia   \n",
       "112  Tsaghkadzor           Tsaghkadzor, Kotayk, Armenia   \n",
       "113  Tsaghkadzor  Tsaghkadzor, Kotayk Province, Armenia   \n",
       "\n",
       "                                             name  Air conditioning  \\\n",
       "0                            beautiful eco house!               0.0   \n",
       "1                                Yerkir eco house               1.0   \n",
       "2                                     Guest house               0.0   \n",
       "3    Black Castle Red Valley Hotel and Restaurant               1.0   \n",
       "4     Haya House, Chill out 20mn from Yerevan, #2               0.0   \n",
       "..                                            ...               ...   \n",
       "109                          Cozy, warm apartment               0.0   \n",
       "110                     daily home in tsakhkadzor               0.0   \n",
       "111         daily rent house in Tsakadzor Armenia               0.0   \n",
       "112                    daily Homes in Tsaghkadzor               0.0   \n",
       "113                                     home sold               0.0   \n",
       "\n",
       "     BBQ grill  Baby safety gates  Backyard  Baking sheet  Bathtub  \\\n",
       "0          1.0                0.0       1.0           0.0      0.0   \n",
       "1          1.0                0.0       1.0           0.0      0.0   \n",
       "2          0.0                0.0       0.0           0.0      0.0   \n",
       "3          0.0                0.0       0.0           0.0      0.0   \n",
       "4          1.0                0.0       1.0           0.0      0.0   \n",
       "..         ...                ...       ...           ...      ...   \n",
       "109        0.0                0.0       0.0           0.0      0.0   \n",
       "110        0.0                0.0       0.0           0.0      0.0   \n",
       "111        0.0                0.0       0.0           0.0      0.0   \n",
       "112        0.0                0.0       0.0           0.0      0.0   \n",
       "113        0.0                0.0       0.0           0.0      0.0   \n",
       "\n",
       "     Bed linens  ...  Sound system with aux  Stove  Suitable for events   TV  \\\n",
       "0           0.0  ...                    0.0    0.0                  0.0  1.0   \n",
       "1           1.0  ...                    0.0    1.0                  1.0  1.0   \n",
       "2           0.0  ...                    0.0    0.0                  0.0  1.0   \n",
       "3           0.0  ...                    0.0    0.0                  1.0  1.0   \n",
       "4           1.0  ...                    0.0    0.0                  1.0  0.0   \n",
       "..          ...  ...                    ...    ...                  ...  ...   \n",
       "109         0.0  ...                    0.0    0.0                  1.0  1.0   \n",
       "110         0.0  ...                    0.0    0.0                  0.0  1.0   \n",
       "111         0.0  ...                    0.0    0.0                  0.0  0.0   \n",
       "112         0.0  ...                    0.0    0.0                  0.0  0.0   \n",
       "113         0.0  ...                    0.0    0.0                  0.0  1.0   \n",
       "\n",
       "     Trash compactor  Washer  Wifi  Wine glasses  geneva green conditioner  \\\n",
       "0                0.0     0.0   1.0           0.0                       0.0   \n",
       "1                0.0     1.0   1.0           0.0                       0.0   \n",
       "2                0.0     1.0   1.0           0.0                       0.0   \n",
       "3                0.0     1.0   1.0           0.0                       0.0   \n",
       "4                0.0     1.0   1.0           0.0                       0.0   \n",
       "..               ...     ...   ...           ...                       ...   \n",
       "109              0.0     1.0   1.0           0.0                       0.0   \n",
       "110              0.0     1.0   0.0           0.0                       0.0   \n",
       "111              0.0     0.0   0.0           0.0                       0.0   \n",
       "112              0.0     0.0   0.0           0.0                       0.0   \n",
       "113              0.0     1.0   1.0           0.0                       0.0   \n",
       "\n",
       "     properties  \n",
       "0           NaN  \n",
       "1           NaN  \n",
       "2           NaN  \n",
       "3           NaN  \n",
       "4           NaN  \n",
       "..          ...  \n",
       "109         NaN  \n",
       "110         NaN  \n",
       "111         NaN  \n",
       "112         NaN  \n",
       "113         NaN  \n",
       "\n",
       "[3873 rows x 85 columns]"
      ]
     },
     "execution_count": 132,
     "metadata": {},
     "output_type": "execute_result"
    }
   ],
   "source": [
    "full_data"
   ]
  },
  {
   "cell_type": "code",
   "execution_count": 133,
   "id": "bef649a8",
   "metadata": {},
   "outputs": [],
   "source": [
    "full_data.to_excel(\"All_properties_together.xlsx\", index=False)"
   ]
  },
  {
   "cell_type": "code",
   "execution_count": 134,
   "id": "baf1119e",
   "metadata": {},
   "outputs": [],
   "source": [
    "full_data.to_csv(\"All_properties_together.csv\", index=False)"
   ]
  },
  {
   "cell_type": "code",
   "execution_count": null,
   "id": "6ea66613",
   "metadata": {},
   "outputs": [],
   "source": []
  }
 ],
 "metadata": {
  "kernelspec": {
   "display_name": "Python 3",
   "language": "python",
   "name": "python3"
  },
  "language_info": {
   "codemirror_mode": {
    "name": "ipython",
    "version": 3
   },
   "file_extension": ".py",
   "mimetype": "text/x-python",
   "name": "python",
   "nbconvert_exporter": "python",
   "pygments_lexer": "ipython3",
   "version": "3.8.8"
  }
 },
 "nbformat": 4,
 "nbformat_minor": 5
}
